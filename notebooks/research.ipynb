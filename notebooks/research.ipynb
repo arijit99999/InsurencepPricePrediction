{
 "cells": [
  {
   "cell_type": "code",
   "execution_count": 238,
   "metadata": {},
   "outputs": [],
   "source": [
    "import warnings"
   ]
  },
  {
   "cell_type": "code",
   "execution_count": 239,
   "metadata": {},
   "outputs": [],
   "source": [
    "warnings.filterwarnings('ignore')"
   ]
  },
  {
   "cell_type": "code",
   "execution_count": 240,
   "metadata": {},
   "outputs": [],
   "source": [
    "import pandas as pd "
   ]
  },
  {
   "cell_type": "code",
   "execution_count": 241,
   "metadata": {},
   "outputs": [],
   "source": [
    "data=pd.read_csv(r'C:\\Users\\deyar\\OneDrive\\Desktop\\InsurencepPricePrediction\\notebooks\\data\\insurance.csv')"
   ]
  },
  {
   "cell_type": "code",
   "execution_count": 242,
   "metadata": {},
   "outputs": [
    {
     "data": {
      "text/html": [
       "<div>\n",
       "<style scoped>\n",
       "    .dataframe tbody tr th:only-of-type {\n",
       "        vertical-align: middle;\n",
       "    }\n",
       "\n",
       "    .dataframe tbody tr th {\n",
       "        vertical-align: top;\n",
       "    }\n",
       "\n",
       "    .dataframe thead th {\n",
       "        text-align: right;\n",
       "    }\n",
       "</style>\n",
       "<table border=\"1\" class=\"dataframe\">\n",
       "  <thead>\n",
       "    <tr style=\"text-align: right;\">\n",
       "      <th></th>\n",
       "      <th>age</th>\n",
       "      <th>sex</th>\n",
       "      <th>bmi</th>\n",
       "      <th>children</th>\n",
       "      <th>smoker</th>\n",
       "      <th>region</th>\n",
       "      <th>expenses</th>\n",
       "    </tr>\n",
       "  </thead>\n",
       "  <tbody>\n",
       "    <tr>\n",
       "      <th>0</th>\n",
       "      <td>19</td>\n",
       "      <td>female</td>\n",
       "      <td>27.9</td>\n",
       "      <td>0</td>\n",
       "      <td>yes</td>\n",
       "      <td>southwest</td>\n",
       "      <td>16884.92</td>\n",
       "    </tr>\n",
       "    <tr>\n",
       "      <th>1</th>\n",
       "      <td>18</td>\n",
       "      <td>male</td>\n",
       "      <td>33.8</td>\n",
       "      <td>1</td>\n",
       "      <td>no</td>\n",
       "      <td>southeast</td>\n",
       "      <td>1725.55</td>\n",
       "    </tr>\n",
       "    <tr>\n",
       "      <th>2</th>\n",
       "      <td>28</td>\n",
       "      <td>male</td>\n",
       "      <td>33.0</td>\n",
       "      <td>3</td>\n",
       "      <td>no</td>\n",
       "      <td>southeast</td>\n",
       "      <td>4449.46</td>\n",
       "    </tr>\n",
       "    <tr>\n",
       "      <th>3</th>\n",
       "      <td>33</td>\n",
       "      <td>male</td>\n",
       "      <td>22.7</td>\n",
       "      <td>0</td>\n",
       "      <td>no</td>\n",
       "      <td>northwest</td>\n",
       "      <td>21984.47</td>\n",
       "    </tr>\n",
       "    <tr>\n",
       "      <th>4</th>\n",
       "      <td>32</td>\n",
       "      <td>male</td>\n",
       "      <td>28.9</td>\n",
       "      <td>0</td>\n",
       "      <td>no</td>\n",
       "      <td>northwest</td>\n",
       "      <td>3866.86</td>\n",
       "    </tr>\n",
       "  </tbody>\n",
       "</table>\n",
       "</div>"
      ],
      "text/plain": [
       "   age     sex   bmi  children smoker     region  expenses\n",
       "0   19  female  27.9         0    yes  southwest  16884.92\n",
       "1   18    male  33.8         1     no  southeast   1725.55\n",
       "2   28    male  33.0         3     no  southeast   4449.46\n",
       "3   33    male  22.7         0     no  northwest  21984.47\n",
       "4   32    male  28.9         0     no  northwest   3866.86"
      ]
     },
     "execution_count": 242,
     "metadata": {},
     "output_type": "execute_result"
    }
   ],
   "source": [
    "data.head()"
   ]
  },
  {
   "cell_type": "code",
   "execution_count": 243,
   "metadata": {},
   "outputs": [
    {
     "data": {
      "text/plain": [
       "(1338, 7)"
      ]
     },
     "execution_count": 243,
     "metadata": {},
     "output_type": "execute_result"
    }
   ],
   "source": [
    "data.shape"
   ]
  },
  {
   "cell_type": "code",
   "execution_count": 244,
   "metadata": {},
   "outputs": [
    {
     "data": {
      "text/plain": [
       "age         0\n",
       "sex         0\n",
       "bmi         0\n",
       "children    0\n",
       "smoker      0\n",
       "region      0\n",
       "expenses    0\n",
       "dtype: int64"
      ]
     },
     "execution_count": 244,
     "metadata": {},
     "output_type": "execute_result"
    }
   ],
   "source": [
    "data.isnull().sum()"
   ]
  },
  {
   "cell_type": "code",
   "execution_count": 245,
   "metadata": {},
   "outputs": [
    {
     "data": {
      "text/plain": [
       "1"
      ]
     },
     "execution_count": 245,
     "metadata": {},
     "output_type": "execute_result"
    }
   ],
   "source": [
    "data.duplicated().sum()"
   ]
  },
  {
   "cell_type": "code",
   "execution_count": 246,
   "metadata": {},
   "outputs": [],
   "source": [
    "data=data.drop_duplicates()"
   ]
  },
  {
   "cell_type": "code",
   "execution_count": 247,
   "metadata": {},
   "outputs": [
    {
     "data": {
      "text/plain": [
       "0"
      ]
     },
     "execution_count": 247,
     "metadata": {},
     "output_type": "execute_result"
    }
   ],
   "source": [
    "data.duplicated().sum()"
   ]
  },
  {
   "cell_type": "code",
   "execution_count": 248,
   "metadata": {},
   "outputs": [],
   "source": [
    "cat=[]\n",
    "num=[]\n",
    "for i in data.columns:\n",
    "    if data[i].dtype==\"object\":\n",
    "        cat.append(i)\n",
    "    else:\n",
    "        num.append(i)"
   ]
  },
  {
   "cell_type": "code",
   "execution_count": 249,
   "metadata": {},
   "outputs": [
    {
     "data": {
      "text/plain": [
       "['sex', 'smoker', 'region']"
      ]
     },
     "execution_count": 249,
     "metadata": {},
     "output_type": "execute_result"
    }
   ],
   "source": [
    "cat"
   ]
  },
  {
   "cell_type": "code",
   "execution_count": 250,
   "metadata": {},
   "outputs": [],
   "source": [
    "sex=['female', 'male']"
   ]
  },
  {
   "cell_type": "code",
   "execution_count": 251,
   "metadata": {},
   "outputs": [],
   "source": [
    "region=['southwest', 'southeast', 'northwest', 'northeast']"
   ]
  },
  {
   "cell_type": "code",
   "execution_count": 252,
   "metadata": {},
   "outputs": [],
   "source": [
    "smoker=['no','yes']"
   ]
  },
  {
   "cell_type": "code",
   "execution_count": 253,
   "metadata": {},
   "outputs": [
    {
     "data": {
      "text/plain": [
       "['age', 'bmi', 'children', 'expenses']"
      ]
     },
     "execution_count": 253,
     "metadata": {},
     "output_type": "execute_result"
    }
   ],
   "source": [
    "num"
   ]
  },
  {
   "cell_type": "code",
   "execution_count": 254,
   "metadata": {},
   "outputs": [],
   "source": [
    "from sklearn.preprocessing import OneHotEncoder,OrdinalEncoder,StandardScaler,MinMaxScaler"
   ]
  },
  {
   "cell_type": "code",
   "execution_count": 255,
   "metadata": {},
   "outputs": [],
   "source": [
    "from sklearn.compose import ColumnTransformer"
   ]
  },
  {
   "cell_type": "code",
   "execution_count": 256,
   "metadata": {},
   "outputs": [],
   "source": [
    "from sklearn.pipeline import Pipeline"
   ]
  },
  {
   "cell_type": "code",
   "execution_count": 257,
   "metadata": {},
   "outputs": [],
   "source": [
    "from sklearn.impute import SimpleImputer"
   ]
  },
  {
   "cell_type": "code",
   "execution_count": 258,
   "metadata": {},
   "outputs": [
    {
     "data": {
      "text/html": [
       "<div>\n",
       "<style scoped>\n",
       "    .dataframe tbody tr th:only-of-type {\n",
       "        vertical-align: middle;\n",
       "    }\n",
       "\n",
       "    .dataframe tbody tr th {\n",
       "        vertical-align: top;\n",
       "    }\n",
       "\n",
       "    .dataframe thead th {\n",
       "        text-align: right;\n",
       "    }\n",
       "</style>\n",
       "<table border=\"1\" class=\"dataframe\">\n",
       "  <thead>\n",
       "    <tr style=\"text-align: right;\">\n",
       "      <th></th>\n",
       "      <th>age</th>\n",
       "      <th>sex</th>\n",
       "      <th>bmi</th>\n",
       "      <th>children</th>\n",
       "      <th>smoker</th>\n",
       "      <th>region</th>\n",
       "      <th>expenses</th>\n",
       "    </tr>\n",
       "  </thead>\n",
       "  <tbody>\n",
       "    <tr>\n",
       "      <th>0</th>\n",
       "      <td>19</td>\n",
       "      <td>female</td>\n",
       "      <td>27.9</td>\n",
       "      <td>0</td>\n",
       "      <td>yes</td>\n",
       "      <td>southwest</td>\n",
       "      <td>16884.92</td>\n",
       "    </tr>\n",
       "    <tr>\n",
       "      <th>1</th>\n",
       "      <td>18</td>\n",
       "      <td>male</td>\n",
       "      <td>33.8</td>\n",
       "      <td>1</td>\n",
       "      <td>no</td>\n",
       "      <td>southeast</td>\n",
       "      <td>1725.55</td>\n",
       "    </tr>\n",
       "    <tr>\n",
       "      <th>2</th>\n",
       "      <td>28</td>\n",
       "      <td>male</td>\n",
       "      <td>33.0</td>\n",
       "      <td>3</td>\n",
       "      <td>no</td>\n",
       "      <td>southeast</td>\n",
       "      <td>4449.46</td>\n",
       "    </tr>\n",
       "    <tr>\n",
       "      <th>3</th>\n",
       "      <td>33</td>\n",
       "      <td>male</td>\n",
       "      <td>22.7</td>\n",
       "      <td>0</td>\n",
       "      <td>no</td>\n",
       "      <td>northwest</td>\n",
       "      <td>21984.47</td>\n",
       "    </tr>\n",
       "    <tr>\n",
       "      <th>4</th>\n",
       "      <td>32</td>\n",
       "      <td>male</td>\n",
       "      <td>28.9</td>\n",
       "      <td>0</td>\n",
       "      <td>no</td>\n",
       "      <td>northwest</td>\n",
       "      <td>3866.86</td>\n",
       "    </tr>\n",
       "  </tbody>\n",
       "</table>\n",
       "</div>"
      ],
      "text/plain": [
       "   age     sex   bmi  children smoker     region  expenses\n",
       "0   19  female  27.9         0    yes  southwest  16884.92\n",
       "1   18    male  33.8         1     no  southeast   1725.55\n",
       "2   28    male  33.0         3     no  southeast   4449.46\n",
       "3   33    male  22.7         0     no  northwest  21984.47\n",
       "4   32    male  28.9         0     no  northwest   3866.86"
      ]
     },
     "execution_count": 258,
     "metadata": {},
     "output_type": "execute_result"
    }
   ],
   "source": [
    "data.head()"
   ]
  },
  {
   "cell_type": "code",
   "execution_count": 259,
   "metadata": {},
   "outputs": [
    {
     "data": {
      "text/plain": [
       "['sex', 'smoker', 'region']"
      ]
     },
     "execution_count": 259,
     "metadata": {},
     "output_type": "execute_result"
    }
   ],
   "source": [
    "cat"
   ]
  },
  {
   "cell_type": "code",
   "execution_count": 351,
   "metadata": {},
   "outputs": [
    {
     "data": {
      "text/plain": [
       "['age', 'bmi', 'children']"
      ]
     },
     "execution_count": 351,
     "metadata": {},
     "output_type": "execute_result"
    }
   ],
   "source": [
    "\n",
    "num"
   ]
  },
  {
   "cell_type": "code",
   "execution_count": 262,
   "metadata": {},
   "outputs": [
    {
     "data": {
      "text/plain": [
       "['age', 'bmi', 'children']"
      ]
     },
     "execution_count": 262,
     "metadata": {},
     "output_type": "execute_result"
    }
   ],
   "source": [
    "num.remove('expenses')\n",
    "num"
   ]
  },
  {
   "cell_type": "code",
   "execution_count": 263,
   "metadata": {},
   "outputs": [],
   "source": [
    "num_pipeline=Pipeline(\n",
    "                steps=[\n",
    "                ('imputer',SimpleImputer(strategy='median')),\n",
    "                ('scale',MinMaxScaler())])\n",
    "cat_pipeline=Pipeline(\n",
    "                steps=[\n",
    "                ('imputer',SimpleImputer(strategy='most_frequent')),\n",
    "                ('ordinalencoder',OrdinalEncoder(categories=[sex,smoker,region])),\n",
    "                ('scale',MinMaxScaler())])\n",
    "preprocessor=ColumnTransformer([\n",
    "            ('num_pipeline',num_pipeline,num),\n",
    "            ('cat_pipeline',cat_pipeline,cat)])"
   ]
  },
  {
   "cell_type": "code",
   "execution_count": 264,
   "metadata": {},
   "outputs": [],
   "source": [
    "x=data.drop('expenses',axis=1)"
   ]
  },
  {
   "cell_type": "code",
   "execution_count": 265,
   "metadata": {},
   "outputs": [],
   "source": [
    "y=data['expenses']"
   ]
  },
  {
   "cell_type": "code",
   "execution_count": 266,
   "metadata": {},
   "outputs": [],
   "source": [
    "m=preprocessor.fit_transform(x)"
   ]
  },
  {
   "cell_type": "code",
   "execution_count": 267,
   "metadata": {},
   "outputs": [],
   "source": [
    "f=pd.DataFrame(m,columns=x.columns)"
   ]
  },
  {
   "cell_type": "code",
   "execution_count": 268,
   "metadata": {},
   "outputs": [
    {
     "data": {
      "text/html": [
       "<div>\n",
       "<style scoped>\n",
       "    .dataframe tbody tr th:only-of-type {\n",
       "        vertical-align: middle;\n",
       "    }\n",
       "\n",
       "    .dataframe tbody tr th {\n",
       "        vertical-align: top;\n",
       "    }\n",
       "\n",
       "    .dataframe thead th {\n",
       "        text-align: right;\n",
       "    }\n",
       "</style>\n",
       "<table border=\"1\" class=\"dataframe\">\n",
       "  <thead>\n",
       "    <tr style=\"text-align: right;\">\n",
       "      <th></th>\n",
       "      <th>age</th>\n",
       "      <th>sex</th>\n",
       "      <th>bmi</th>\n",
       "      <th>children</th>\n",
       "      <th>smoker</th>\n",
       "      <th>region</th>\n",
       "    </tr>\n",
       "  </thead>\n",
       "  <tbody>\n",
       "    <tr>\n",
       "      <th>0</th>\n",
       "      <td>0.021739</td>\n",
       "      <td>0.320755</td>\n",
       "      <td>0.0</td>\n",
       "      <td>0.0</td>\n",
       "      <td>1.0</td>\n",
       "      <td>0.000000</td>\n",
       "    </tr>\n",
       "    <tr>\n",
       "      <th>1</th>\n",
       "      <td>0.000000</td>\n",
       "      <td>0.479784</td>\n",
       "      <td>0.2</td>\n",
       "      <td>1.0</td>\n",
       "      <td>0.0</td>\n",
       "      <td>0.333333</td>\n",
       "    </tr>\n",
       "    <tr>\n",
       "      <th>2</th>\n",
       "      <td>0.217391</td>\n",
       "      <td>0.458221</td>\n",
       "      <td>0.6</td>\n",
       "      <td>1.0</td>\n",
       "      <td>0.0</td>\n",
       "      <td>0.333333</td>\n",
       "    </tr>\n",
       "    <tr>\n",
       "      <th>3</th>\n",
       "      <td>0.326087</td>\n",
       "      <td>0.180593</td>\n",
       "      <td>0.0</td>\n",
       "      <td>1.0</td>\n",
       "      <td>0.0</td>\n",
       "      <td>0.666667</td>\n",
       "    </tr>\n",
       "    <tr>\n",
       "      <th>4</th>\n",
       "      <td>0.304348</td>\n",
       "      <td>0.347709</td>\n",
       "      <td>0.0</td>\n",
       "      <td>1.0</td>\n",
       "      <td>0.0</td>\n",
       "      <td>0.666667</td>\n",
       "    </tr>\n",
       "  </tbody>\n",
       "</table>\n",
       "</div>"
      ],
      "text/plain": [
       "        age       sex  bmi  children  smoker    region\n",
       "0  0.021739  0.320755  0.0       0.0     1.0  0.000000\n",
       "1  0.000000  0.479784  0.2       1.0     0.0  0.333333\n",
       "2  0.217391  0.458221  0.6       1.0     0.0  0.333333\n",
       "3  0.326087  0.180593  0.0       1.0     0.0  0.666667\n",
       "4  0.304348  0.347709  0.0       1.0     0.0  0.666667"
      ]
     },
     "execution_count": 268,
     "metadata": {},
     "output_type": "execute_result"
    }
   ],
   "source": [
    "f.head()"
   ]
  },
  {
   "cell_type": "code",
   "execution_count": 269,
   "metadata": {},
   "outputs": [
    {
     "data": {
      "text/html": [
       "<div>\n",
       "<style scoped>\n",
       "    .dataframe tbody tr th:only-of-type {\n",
       "        vertical-align: middle;\n",
       "    }\n",
       "\n",
       "    .dataframe tbody tr th {\n",
       "        vertical-align: top;\n",
       "    }\n",
       "\n",
       "    .dataframe thead th {\n",
       "        text-align: right;\n",
       "    }\n",
       "</style>\n",
       "<table border=\"1\" class=\"dataframe\">\n",
       "  <thead>\n",
       "    <tr style=\"text-align: right;\">\n",
       "      <th></th>\n",
       "      <th>age</th>\n",
       "      <th>sex</th>\n",
       "      <th>bmi</th>\n",
       "      <th>children</th>\n",
       "      <th>smoker</th>\n",
       "      <th>region</th>\n",
       "    </tr>\n",
       "  </thead>\n",
       "  <tbody>\n",
       "    <tr>\n",
       "      <th>count</th>\n",
       "      <td>1337.000000</td>\n",
       "      <td>1337.000000</td>\n",
       "      <td>1337.000000</td>\n",
       "      <td>1337.000000</td>\n",
       "      <td>1337.000000</td>\n",
       "      <td>1337.000000</td>\n",
       "    </tr>\n",
       "    <tr>\n",
       "      <th>mean</th>\n",
       "      <td>0.461351</td>\n",
       "      <td>0.395297</td>\n",
       "      <td>0.219147</td>\n",
       "      <td>0.504862</td>\n",
       "      <td>0.204936</td>\n",
       "      <td>0.494640</td>\n",
       "    </tr>\n",
       "    <tr>\n",
       "      <th>std</th>\n",
       "      <td>0.305312</td>\n",
       "      <td>0.164438</td>\n",
       "      <td>0.241114</td>\n",
       "      <td>0.500163</td>\n",
       "      <td>0.403806</td>\n",
       "      <td>0.368403</td>\n",
       "    </tr>\n",
       "    <tr>\n",
       "      <th>min</th>\n",
       "      <td>0.000000</td>\n",
       "      <td>0.000000</td>\n",
       "      <td>0.000000</td>\n",
       "      <td>0.000000</td>\n",
       "      <td>0.000000</td>\n",
       "      <td>0.000000</td>\n",
       "    </tr>\n",
       "    <tr>\n",
       "      <th>25%</th>\n",
       "      <td>0.195652</td>\n",
       "      <td>0.277628</td>\n",
       "      <td>0.000000</td>\n",
       "      <td>0.000000</td>\n",
       "      <td>0.000000</td>\n",
       "      <td>0.333333</td>\n",
       "    </tr>\n",
       "    <tr>\n",
       "      <th>50%</th>\n",
       "      <td>0.456522</td>\n",
       "      <td>0.388140</td>\n",
       "      <td>0.200000</td>\n",
       "      <td>1.000000</td>\n",
       "      <td>0.000000</td>\n",
       "      <td>0.333333</td>\n",
       "    </tr>\n",
       "    <tr>\n",
       "      <th>75%</th>\n",
       "      <td>0.717391</td>\n",
       "      <td>0.504043</td>\n",
       "      <td>0.400000</td>\n",
       "      <td>1.000000</td>\n",
       "      <td>0.000000</td>\n",
       "      <td>0.666667</td>\n",
       "    </tr>\n",
       "    <tr>\n",
       "      <th>max</th>\n",
       "      <td>1.000000</td>\n",
       "      <td>1.000000</td>\n",
       "      <td>1.000000</td>\n",
       "      <td>1.000000</td>\n",
       "      <td>1.000000</td>\n",
       "      <td>1.000000</td>\n",
       "    </tr>\n",
       "  </tbody>\n",
       "</table>\n",
       "</div>"
      ],
      "text/plain": [
       "               age          sex          bmi     children       smoker  \\\n",
       "count  1337.000000  1337.000000  1337.000000  1337.000000  1337.000000   \n",
       "mean      0.461351     0.395297     0.219147     0.504862     0.204936   \n",
       "std       0.305312     0.164438     0.241114     0.500163     0.403806   \n",
       "min       0.000000     0.000000     0.000000     0.000000     0.000000   \n",
       "25%       0.195652     0.277628     0.000000     0.000000     0.000000   \n",
       "50%       0.456522     0.388140     0.200000     1.000000     0.000000   \n",
       "75%       0.717391     0.504043     0.400000     1.000000     0.000000   \n",
       "max       1.000000     1.000000     1.000000     1.000000     1.000000   \n",
       "\n",
       "            region  \n",
       "count  1337.000000  \n",
       "mean      0.494640  \n",
       "std       0.368403  \n",
       "min       0.000000  \n",
       "25%       0.333333  \n",
       "50%       0.333333  \n",
       "75%       0.666667  \n",
       "max       1.000000  "
      ]
     },
     "execution_count": 269,
     "metadata": {},
     "output_type": "execute_result"
    }
   ],
   "source": [
    "f.describe()"
   ]
  },
  {
   "cell_type": "code",
   "execution_count": 270,
   "metadata": {},
   "outputs": [],
   "source": [
    "data1=pd.concat([f,y],axis=1)"
   ]
  },
  {
   "cell_type": "code",
   "execution_count": 271,
   "metadata": {},
   "outputs": [
    {
     "data": {
      "text/html": [
       "<div>\n",
       "<style scoped>\n",
       "    .dataframe tbody tr th:only-of-type {\n",
       "        vertical-align: middle;\n",
       "    }\n",
       "\n",
       "    .dataframe tbody tr th {\n",
       "        vertical-align: top;\n",
       "    }\n",
       "\n",
       "    .dataframe thead th {\n",
       "        text-align: right;\n",
       "    }\n",
       "</style>\n",
       "<table border=\"1\" class=\"dataframe\">\n",
       "  <thead>\n",
       "    <tr style=\"text-align: right;\">\n",
       "      <th></th>\n",
       "      <th>age</th>\n",
       "      <th>sex</th>\n",
       "      <th>bmi</th>\n",
       "      <th>children</th>\n",
       "      <th>smoker</th>\n",
       "      <th>region</th>\n",
       "      <th>expenses</th>\n",
       "    </tr>\n",
       "  </thead>\n",
       "  <tbody>\n",
       "    <tr>\n",
       "      <th>0</th>\n",
       "      <td>0.021739</td>\n",
       "      <td>0.320755</td>\n",
       "      <td>0.0</td>\n",
       "      <td>0.0</td>\n",
       "      <td>1.0</td>\n",
       "      <td>0.000000</td>\n",
       "      <td>16884.92</td>\n",
       "    </tr>\n",
       "    <tr>\n",
       "      <th>1</th>\n",
       "      <td>0.000000</td>\n",
       "      <td>0.479784</td>\n",
       "      <td>0.2</td>\n",
       "      <td>1.0</td>\n",
       "      <td>0.0</td>\n",
       "      <td>0.333333</td>\n",
       "      <td>1725.55</td>\n",
       "    </tr>\n",
       "    <tr>\n",
       "      <th>2</th>\n",
       "      <td>0.217391</td>\n",
       "      <td>0.458221</td>\n",
       "      <td>0.6</td>\n",
       "      <td>1.0</td>\n",
       "      <td>0.0</td>\n",
       "      <td>0.333333</td>\n",
       "      <td>4449.46</td>\n",
       "    </tr>\n",
       "    <tr>\n",
       "      <th>3</th>\n",
       "      <td>0.326087</td>\n",
       "      <td>0.180593</td>\n",
       "      <td>0.0</td>\n",
       "      <td>1.0</td>\n",
       "      <td>0.0</td>\n",
       "      <td>0.666667</td>\n",
       "      <td>21984.47</td>\n",
       "    </tr>\n",
       "    <tr>\n",
       "      <th>4</th>\n",
       "      <td>0.304348</td>\n",
       "      <td>0.347709</td>\n",
       "      <td>0.0</td>\n",
       "      <td>1.0</td>\n",
       "      <td>0.0</td>\n",
       "      <td>0.666667</td>\n",
       "      <td>3866.86</td>\n",
       "    </tr>\n",
       "  </tbody>\n",
       "</table>\n",
       "</div>"
      ],
      "text/plain": [
       "        age       sex  bmi  children  smoker    region  expenses\n",
       "0  0.021739  0.320755  0.0       0.0     1.0  0.000000  16884.92\n",
       "1  0.000000  0.479784  0.2       1.0     0.0  0.333333   1725.55\n",
       "2  0.217391  0.458221  0.6       1.0     0.0  0.333333   4449.46\n",
       "3  0.326087  0.180593  0.0       1.0     0.0  0.666667  21984.47\n",
       "4  0.304348  0.347709  0.0       1.0     0.0  0.666667   3866.86"
      ]
     },
     "execution_count": 271,
     "metadata": {},
     "output_type": "execute_result"
    }
   ],
   "source": [
    "data1.head()"
   ]
  },
  {
   "cell_type": "code",
   "execution_count": 272,
   "metadata": {},
   "outputs": [],
   "source": [
    "from sklearn.model_selection import train_test_split"
   ]
  },
  {
   "cell_type": "code",
   "execution_count": 273,
   "metadata": {},
   "outputs": [],
   "source": [
    "x_trian,x_test,y_train,y_test=train_test_split(f,y,random_state=11,test_size=.2)"
   ]
  },
  {
   "cell_type": "code",
   "execution_count": 274,
   "metadata": {},
   "outputs": [],
   "source": [
    "from sklearn.ensemble import AdaBoostRegressor"
   ]
  },
  {
   "cell_type": "code",
   "execution_count": 275,
   "metadata": {},
   "outputs": [],
   "source": [
    "a=AdaBoostRegressor()"
   ]
  },
  {
   "cell_type": "code",
   "execution_count": 276,
   "metadata": {},
   "outputs": [
    {
     "data": {
      "text/html": [
       "<style>#sk-container-id-2 {\n",
       "  /* Definition of color scheme common for light and dark mode */\n",
       "  --sklearn-color-text: black;\n",
       "  --sklearn-color-line: gray;\n",
       "  /* Definition of color scheme for unfitted estimators */\n",
       "  --sklearn-color-unfitted-level-0: #fff5e6;\n",
       "  --sklearn-color-unfitted-level-1: #f6e4d2;\n",
       "  --sklearn-color-unfitted-level-2: #ffe0b3;\n",
       "  --sklearn-color-unfitted-level-3: chocolate;\n",
       "  /* Definition of color scheme for fitted estimators */\n",
       "  --sklearn-color-fitted-level-0: #f0f8ff;\n",
       "  --sklearn-color-fitted-level-1: #d4ebff;\n",
       "  --sklearn-color-fitted-level-2: #b3dbfd;\n",
       "  --sklearn-color-fitted-level-3: cornflowerblue;\n",
       "\n",
       "  /* Specific color for light theme */\n",
       "  --sklearn-color-text-on-default-background: var(--sg-text-color, var(--theme-code-foreground, var(--jp-content-font-color1, black)));\n",
       "  --sklearn-color-background: var(--sg-background-color, var(--theme-background, var(--jp-layout-color0, white)));\n",
       "  --sklearn-color-border-box: var(--sg-text-color, var(--theme-code-foreground, var(--jp-content-font-color1, black)));\n",
       "  --sklearn-color-icon: #696969;\n",
       "\n",
       "  @media (prefers-color-scheme: dark) {\n",
       "    /* Redefinition of color scheme for dark theme */\n",
       "    --sklearn-color-text-on-default-background: var(--sg-text-color, var(--theme-code-foreground, var(--jp-content-font-color1, white)));\n",
       "    --sklearn-color-background: var(--sg-background-color, var(--theme-background, var(--jp-layout-color0, #111)));\n",
       "    --sklearn-color-border-box: var(--sg-text-color, var(--theme-code-foreground, var(--jp-content-font-color1, white)));\n",
       "    --sklearn-color-icon: #878787;\n",
       "  }\n",
       "}\n",
       "\n",
       "#sk-container-id-2 {\n",
       "  color: var(--sklearn-color-text);\n",
       "}\n",
       "\n",
       "#sk-container-id-2 pre {\n",
       "  padding: 0;\n",
       "}\n",
       "\n",
       "#sk-container-id-2 input.sk-hidden--visually {\n",
       "  border: 0;\n",
       "  clip: rect(1px 1px 1px 1px);\n",
       "  clip: rect(1px, 1px, 1px, 1px);\n",
       "  height: 1px;\n",
       "  margin: -1px;\n",
       "  overflow: hidden;\n",
       "  padding: 0;\n",
       "  position: absolute;\n",
       "  width: 1px;\n",
       "}\n",
       "\n",
       "#sk-container-id-2 div.sk-dashed-wrapped {\n",
       "  border: 1px dashed var(--sklearn-color-line);\n",
       "  margin: 0 0.4em 0.5em 0.4em;\n",
       "  box-sizing: border-box;\n",
       "  padding-bottom: 0.4em;\n",
       "  background-color: var(--sklearn-color-background);\n",
       "}\n",
       "\n",
       "#sk-container-id-2 div.sk-container {\n",
       "  /* jupyter's `normalize.less` sets `[hidden] { display: none; }`\n",
       "     but bootstrap.min.css set `[hidden] { display: none !important; }`\n",
       "     so we also need the `!important` here to be able to override the\n",
       "     default hidden behavior on the sphinx rendered scikit-learn.org.\n",
       "     See: https://github.com/scikit-learn/scikit-learn/issues/21755 */\n",
       "  display: inline-block !important;\n",
       "  position: relative;\n",
       "}\n",
       "\n",
       "#sk-container-id-2 div.sk-text-repr-fallback {\n",
       "  display: none;\n",
       "}\n",
       "\n",
       "div.sk-parallel-item,\n",
       "div.sk-serial,\n",
       "div.sk-item {\n",
       "  /* draw centered vertical line to link estimators */\n",
       "  background-image: linear-gradient(var(--sklearn-color-text-on-default-background), var(--sklearn-color-text-on-default-background));\n",
       "  background-size: 2px 100%;\n",
       "  background-repeat: no-repeat;\n",
       "  background-position: center center;\n",
       "}\n",
       "\n",
       "/* Parallel-specific style estimator block */\n",
       "\n",
       "#sk-container-id-2 div.sk-parallel-item::after {\n",
       "  content: \"\";\n",
       "  width: 100%;\n",
       "  border-bottom: 2px solid var(--sklearn-color-text-on-default-background);\n",
       "  flex-grow: 1;\n",
       "}\n",
       "\n",
       "#sk-container-id-2 div.sk-parallel {\n",
       "  display: flex;\n",
       "  align-items: stretch;\n",
       "  justify-content: center;\n",
       "  background-color: var(--sklearn-color-background);\n",
       "  position: relative;\n",
       "}\n",
       "\n",
       "#sk-container-id-2 div.sk-parallel-item {\n",
       "  display: flex;\n",
       "  flex-direction: column;\n",
       "}\n",
       "\n",
       "#sk-container-id-2 div.sk-parallel-item:first-child::after {\n",
       "  align-self: flex-end;\n",
       "  width: 50%;\n",
       "}\n",
       "\n",
       "#sk-container-id-2 div.sk-parallel-item:last-child::after {\n",
       "  align-self: flex-start;\n",
       "  width: 50%;\n",
       "}\n",
       "\n",
       "#sk-container-id-2 div.sk-parallel-item:only-child::after {\n",
       "  width: 0;\n",
       "}\n",
       "\n",
       "/* Serial-specific style estimator block */\n",
       "\n",
       "#sk-container-id-2 div.sk-serial {\n",
       "  display: flex;\n",
       "  flex-direction: column;\n",
       "  align-items: center;\n",
       "  background-color: var(--sklearn-color-background);\n",
       "  padding-right: 1em;\n",
       "  padding-left: 1em;\n",
       "}\n",
       "\n",
       "\n",
       "/* Toggleable style: style used for estimator/Pipeline/ColumnTransformer box that is\n",
       "clickable and can be expanded/collapsed.\n",
       "- Pipeline and ColumnTransformer use this feature and define the default style\n",
       "- Estimators will overwrite some part of the style using the `sk-estimator` class\n",
       "*/\n",
       "\n",
       "/* Pipeline and ColumnTransformer style (default) */\n",
       "\n",
       "#sk-container-id-2 div.sk-toggleable {\n",
       "  /* Default theme specific background. It is overwritten whether we have a\n",
       "  specific estimator or a Pipeline/ColumnTransformer */\n",
       "  background-color: var(--sklearn-color-background);\n",
       "}\n",
       "\n",
       "/* Toggleable label */\n",
       "#sk-container-id-2 label.sk-toggleable__label {\n",
       "  cursor: pointer;\n",
       "  display: block;\n",
       "  width: 100%;\n",
       "  margin-bottom: 0;\n",
       "  padding: 0.5em;\n",
       "  box-sizing: border-box;\n",
       "  text-align: center;\n",
       "}\n",
       "\n",
       "#sk-container-id-2 label.sk-toggleable__label-arrow:before {\n",
       "  /* Arrow on the left of the label */\n",
       "  content: \"▸\";\n",
       "  float: left;\n",
       "  margin-right: 0.25em;\n",
       "  color: var(--sklearn-color-icon);\n",
       "}\n",
       "\n",
       "#sk-container-id-2 label.sk-toggleable__label-arrow:hover:before {\n",
       "  color: var(--sklearn-color-text);\n",
       "}\n",
       "\n",
       "/* Toggleable content - dropdown */\n",
       "\n",
       "#sk-container-id-2 div.sk-toggleable__content {\n",
       "  max-height: 0;\n",
       "  max-width: 0;\n",
       "  overflow: hidden;\n",
       "  text-align: left;\n",
       "  /* unfitted */\n",
       "  background-color: var(--sklearn-color-unfitted-level-0);\n",
       "}\n",
       "\n",
       "#sk-container-id-2 div.sk-toggleable__content.fitted {\n",
       "  /* fitted */\n",
       "  background-color: var(--sklearn-color-fitted-level-0);\n",
       "}\n",
       "\n",
       "#sk-container-id-2 div.sk-toggleable__content pre {\n",
       "  margin: 0.2em;\n",
       "  border-radius: 0.25em;\n",
       "  color: var(--sklearn-color-text);\n",
       "  /* unfitted */\n",
       "  background-color: var(--sklearn-color-unfitted-level-0);\n",
       "}\n",
       "\n",
       "#sk-container-id-2 div.sk-toggleable__content.fitted pre {\n",
       "  /* unfitted */\n",
       "  background-color: var(--sklearn-color-fitted-level-0);\n",
       "}\n",
       "\n",
       "#sk-container-id-2 input.sk-toggleable__control:checked~div.sk-toggleable__content {\n",
       "  /* Expand drop-down */\n",
       "  max-height: 200px;\n",
       "  max-width: 100%;\n",
       "  overflow: auto;\n",
       "}\n",
       "\n",
       "#sk-container-id-2 input.sk-toggleable__control:checked~label.sk-toggleable__label-arrow:before {\n",
       "  content: \"▾\";\n",
       "}\n",
       "\n",
       "/* Pipeline/ColumnTransformer-specific style */\n",
       "\n",
       "#sk-container-id-2 div.sk-label input.sk-toggleable__control:checked~label.sk-toggleable__label {\n",
       "  color: var(--sklearn-color-text);\n",
       "  background-color: var(--sklearn-color-unfitted-level-2);\n",
       "}\n",
       "\n",
       "#sk-container-id-2 div.sk-label.fitted input.sk-toggleable__control:checked~label.sk-toggleable__label {\n",
       "  background-color: var(--sklearn-color-fitted-level-2);\n",
       "}\n",
       "\n",
       "/* Estimator-specific style */\n",
       "\n",
       "/* Colorize estimator box */\n",
       "#sk-container-id-2 div.sk-estimator input.sk-toggleable__control:checked~label.sk-toggleable__label {\n",
       "  /* unfitted */\n",
       "  background-color: var(--sklearn-color-unfitted-level-2);\n",
       "}\n",
       "\n",
       "#sk-container-id-2 div.sk-estimator.fitted input.sk-toggleable__control:checked~label.sk-toggleable__label {\n",
       "  /* fitted */\n",
       "  background-color: var(--sklearn-color-fitted-level-2);\n",
       "}\n",
       "\n",
       "#sk-container-id-2 div.sk-label label.sk-toggleable__label,\n",
       "#sk-container-id-2 div.sk-label label {\n",
       "  /* The background is the default theme color */\n",
       "  color: var(--sklearn-color-text-on-default-background);\n",
       "}\n",
       "\n",
       "/* On hover, darken the color of the background */\n",
       "#sk-container-id-2 div.sk-label:hover label.sk-toggleable__label {\n",
       "  color: var(--sklearn-color-text);\n",
       "  background-color: var(--sklearn-color-unfitted-level-2);\n",
       "}\n",
       "\n",
       "/* Label box, darken color on hover, fitted */\n",
       "#sk-container-id-2 div.sk-label.fitted:hover label.sk-toggleable__label.fitted {\n",
       "  color: var(--sklearn-color-text);\n",
       "  background-color: var(--sklearn-color-fitted-level-2);\n",
       "}\n",
       "\n",
       "/* Estimator label */\n",
       "\n",
       "#sk-container-id-2 div.sk-label label {\n",
       "  font-family: monospace;\n",
       "  font-weight: bold;\n",
       "  display: inline-block;\n",
       "  line-height: 1.2em;\n",
       "}\n",
       "\n",
       "#sk-container-id-2 div.sk-label-container {\n",
       "  text-align: center;\n",
       "}\n",
       "\n",
       "/* Estimator-specific */\n",
       "#sk-container-id-2 div.sk-estimator {\n",
       "  font-family: monospace;\n",
       "  border: 1px dotted var(--sklearn-color-border-box);\n",
       "  border-radius: 0.25em;\n",
       "  box-sizing: border-box;\n",
       "  margin-bottom: 0.5em;\n",
       "  /* unfitted */\n",
       "  background-color: var(--sklearn-color-unfitted-level-0);\n",
       "}\n",
       "\n",
       "#sk-container-id-2 div.sk-estimator.fitted {\n",
       "  /* fitted */\n",
       "  background-color: var(--sklearn-color-fitted-level-0);\n",
       "}\n",
       "\n",
       "/* on hover */\n",
       "#sk-container-id-2 div.sk-estimator:hover {\n",
       "  /* unfitted */\n",
       "  background-color: var(--sklearn-color-unfitted-level-2);\n",
       "}\n",
       "\n",
       "#sk-container-id-2 div.sk-estimator.fitted:hover {\n",
       "  /* fitted */\n",
       "  background-color: var(--sklearn-color-fitted-level-2);\n",
       "}\n",
       "\n",
       "/* Specification for estimator info (e.g. \"i\" and \"?\") */\n",
       "\n",
       "/* Common style for \"i\" and \"?\" */\n",
       "\n",
       ".sk-estimator-doc-link,\n",
       "a:link.sk-estimator-doc-link,\n",
       "a:visited.sk-estimator-doc-link {\n",
       "  float: right;\n",
       "  font-size: smaller;\n",
       "  line-height: 1em;\n",
       "  font-family: monospace;\n",
       "  background-color: var(--sklearn-color-background);\n",
       "  border-radius: 1em;\n",
       "  height: 1em;\n",
       "  width: 1em;\n",
       "  text-decoration: none !important;\n",
       "  margin-left: 1ex;\n",
       "  /* unfitted */\n",
       "  border: var(--sklearn-color-unfitted-level-1) 1pt solid;\n",
       "  color: var(--sklearn-color-unfitted-level-1);\n",
       "}\n",
       "\n",
       ".sk-estimator-doc-link.fitted,\n",
       "a:link.sk-estimator-doc-link.fitted,\n",
       "a:visited.sk-estimator-doc-link.fitted {\n",
       "  /* fitted */\n",
       "  border: var(--sklearn-color-fitted-level-1) 1pt solid;\n",
       "  color: var(--sklearn-color-fitted-level-1);\n",
       "}\n",
       "\n",
       "/* On hover */\n",
       "div.sk-estimator:hover .sk-estimator-doc-link:hover,\n",
       ".sk-estimator-doc-link:hover,\n",
       "div.sk-label-container:hover .sk-estimator-doc-link:hover,\n",
       ".sk-estimator-doc-link:hover {\n",
       "  /* unfitted */\n",
       "  background-color: var(--sklearn-color-unfitted-level-3);\n",
       "  color: var(--sklearn-color-background);\n",
       "  text-decoration: none;\n",
       "}\n",
       "\n",
       "div.sk-estimator.fitted:hover .sk-estimator-doc-link.fitted:hover,\n",
       ".sk-estimator-doc-link.fitted:hover,\n",
       "div.sk-label-container:hover .sk-estimator-doc-link.fitted:hover,\n",
       ".sk-estimator-doc-link.fitted:hover {\n",
       "  /* fitted */\n",
       "  background-color: var(--sklearn-color-fitted-level-3);\n",
       "  color: var(--sklearn-color-background);\n",
       "  text-decoration: none;\n",
       "}\n",
       "\n",
       "/* Span, style for the box shown on hovering the info icon */\n",
       ".sk-estimator-doc-link span {\n",
       "  display: none;\n",
       "  z-index: 9999;\n",
       "  position: relative;\n",
       "  font-weight: normal;\n",
       "  right: .2ex;\n",
       "  padding: .5ex;\n",
       "  margin: .5ex;\n",
       "  width: min-content;\n",
       "  min-width: 20ex;\n",
       "  max-width: 50ex;\n",
       "  color: var(--sklearn-color-text);\n",
       "  box-shadow: 2pt 2pt 4pt #999;\n",
       "  /* unfitted */\n",
       "  background: var(--sklearn-color-unfitted-level-0);\n",
       "  border: .5pt solid var(--sklearn-color-unfitted-level-3);\n",
       "}\n",
       "\n",
       ".sk-estimator-doc-link.fitted span {\n",
       "  /* fitted */\n",
       "  background: var(--sklearn-color-fitted-level-0);\n",
       "  border: var(--sklearn-color-fitted-level-3);\n",
       "}\n",
       "\n",
       ".sk-estimator-doc-link:hover span {\n",
       "  display: block;\n",
       "}\n",
       "\n",
       "/* \"?\"-specific style due to the `<a>` HTML tag */\n",
       "\n",
       "#sk-container-id-2 a.estimator_doc_link {\n",
       "  float: right;\n",
       "  font-size: 1rem;\n",
       "  line-height: 1em;\n",
       "  font-family: monospace;\n",
       "  background-color: var(--sklearn-color-background);\n",
       "  border-radius: 1rem;\n",
       "  height: 1rem;\n",
       "  width: 1rem;\n",
       "  text-decoration: none;\n",
       "  /* unfitted */\n",
       "  color: var(--sklearn-color-unfitted-level-1);\n",
       "  border: var(--sklearn-color-unfitted-level-1) 1pt solid;\n",
       "}\n",
       "\n",
       "#sk-container-id-2 a.estimator_doc_link.fitted {\n",
       "  /* fitted */\n",
       "  border: var(--sklearn-color-fitted-level-1) 1pt solid;\n",
       "  color: var(--sklearn-color-fitted-level-1);\n",
       "}\n",
       "\n",
       "/* On hover */\n",
       "#sk-container-id-2 a.estimator_doc_link:hover {\n",
       "  /* unfitted */\n",
       "  background-color: var(--sklearn-color-unfitted-level-3);\n",
       "  color: var(--sklearn-color-background);\n",
       "  text-decoration: none;\n",
       "}\n",
       "\n",
       "#sk-container-id-2 a.estimator_doc_link.fitted:hover {\n",
       "  /* fitted */\n",
       "  background-color: var(--sklearn-color-fitted-level-3);\n",
       "}\n",
       "</style><div id=\"sk-container-id-2\" class=\"sk-top-container\"><div class=\"sk-text-repr-fallback\"><pre>AdaBoostRegressor()</pre><b>In a Jupyter environment, please rerun this cell to show the HTML representation or trust the notebook. <br />On GitHub, the HTML representation is unable to render, please try loading this page with nbviewer.org.</b></div><div class=\"sk-container\" hidden><div class=\"sk-item\"><div class=\"sk-estimator fitted sk-toggleable\"><input class=\"sk-toggleable__control sk-hidden--visually\" id=\"sk-estimator-id-2\" type=\"checkbox\" checked><label for=\"sk-estimator-id-2\" class=\"sk-toggleable__label fitted sk-toggleable__label-arrow fitted\">&nbsp;&nbsp;AdaBoostRegressor<a class=\"sk-estimator-doc-link fitted\" rel=\"noreferrer\" target=\"_blank\" href=\"https://scikit-learn.org/1.4/modules/generated/sklearn.ensemble.AdaBoostRegressor.html\">?<span>Documentation for AdaBoostRegressor</span></a><span class=\"sk-estimator-doc-link fitted\">i<span>Fitted</span></span></label><div class=\"sk-toggleable__content fitted\"><pre>AdaBoostRegressor()</pre></div> </div></div></div></div>"
      ],
      "text/plain": [
       "AdaBoostRegressor()"
      ]
     },
     "execution_count": 276,
     "metadata": {},
     "output_type": "execute_result"
    }
   ],
   "source": [
    "a.fit(x_trian,y_train)"
   ]
  },
  {
   "cell_type": "code",
   "execution_count": 277,
   "metadata": {},
   "outputs": [],
   "source": [
    "p=a.predict(x_test)"
   ]
  },
  {
   "cell_type": "code",
   "execution_count": 278,
   "metadata": {},
   "outputs": [],
   "source": [
    "from sklearn.metrics import r2_score,mean_absolute_error"
   ]
  },
  {
   "cell_type": "code",
   "execution_count": 279,
   "metadata": {},
   "outputs": [
    {
     "data": {
      "text/plain": [
       "0.8489675277959782"
      ]
     },
     "execution_count": 279,
     "metadata": {},
     "output_type": "execute_result"
    }
   ],
   "source": [
    "r2_score(y_test,p)"
   ]
  },
  {
   "cell_type": "code",
   "execution_count": 280,
   "metadata": {},
   "outputs": [],
   "source": [
    "import optuna"
   ]
  },
  {
   "cell_type": "code",
   "execution_count": 284,
   "metadata": {},
   "outputs": [],
   "source": [
    "def objective(trial):\n",
    "    learning_rate=trial.suggest_float('learning_rate',.001,1,log=True)\n",
    "    loss=trial.suggest_categorical('loss',['linear','square','exponential'])\n",
    "    n_estimators=trial.suggest_int('n_estimators',100,1000)\n",
    "    model=AdaBoostRegressor(n_estimators=n_estimators,\n",
    "    learning_rate=learning_rate,\n",
    "    loss=loss\n",
    "    )\n",
    "    model.fit(x_trian,y_train)\n",
    "    p=model.predict(x_test)\n",
    "    v=r2_score(y_test,p)\n",
    "    return v"
   ]
  },
  {
   "cell_type": "code",
   "execution_count": 285,
   "metadata": {},
   "outputs": [
    {
     "name": "stderr",
     "output_type": "stream",
     "text": [
      "[I 2024-04-19 05:00:23,686] A new study created in memory with name: no-name-8dab0243-fb9c-4b00-a71d-aa77704cfdd6\n"
     ]
    }
   ],
   "source": [
    "study=optuna.create_study(direction='maximize')"
   ]
  },
  {
   "cell_type": "code",
   "execution_count": 286,
   "metadata": {},
   "outputs": [
    {
     "name": "stderr",
     "output_type": "stream",
     "text": [
      "[I 2024-04-19 05:00:24,713] Trial 0 finished with value: 0.8738118723034412 and parameters: {'learning_rate': 0.9431691095417283, 'loss': 'linear', 'n_estimators': 983}. Best is trial 0 with value: 0.8738118723034412.\n",
      "[I 2024-04-19 05:00:24,977] Trial 1 finished with value: 0.6554551306875172 and parameters: {'learning_rate': 0.1614575651023029, 'loss': 'exponential', 'n_estimators': 168}. Best is trial 0 with value: 0.8738118723034412.\n",
      "[I 2024-04-19 05:00:25,315] Trial 2 finished with value: 0.8544776268090437 and parameters: {'learning_rate': 0.026312948293508144, 'loss': 'linear', 'n_estimators': 528}. Best is trial 0 with value: 0.8738118723034412.\n",
      "[I 2024-04-19 05:00:26,429] Trial 3 finished with value: 0.8333557875984653 and parameters: {'learning_rate': 0.004975364137272745, 'loss': 'square', 'n_estimators': 780}. Best is trial 0 with value: 0.8738118723034412.\n",
      "[I 2024-04-19 05:00:27,096] Trial 4 finished with value: 0.8553418890035747 and parameters: {'learning_rate': 0.012136789538624916, 'loss': 'linear', 'n_estimators': 809}. Best is trial 0 with value: 0.8738118723034412.\n",
      "[I 2024-04-19 05:00:28,198] Trial 5 finished with value: 0.8815985210854207 and parameters: {'learning_rate': 0.001979433682637516, 'loss': 'square', 'n_estimators': 782}. Best is trial 5 with value: 0.8815985210854207.\n",
      "[I 2024-04-19 05:00:29,528] Trial 6 finished with value: 0.33572556971377376 and parameters: {'learning_rate': 0.06296981949091082, 'loss': 'square', 'n_estimators': 1000}. Best is trial 5 with value: 0.8815985210854207.\n",
      "[I 2024-04-19 05:00:29,945] Trial 7 finished with value: 0.856475062318543 and parameters: {'learning_rate': 0.020433971346368335, 'loss': 'linear', 'n_estimators': 625}. Best is trial 5 with value: 0.8815985210854207.\n",
      "[I 2024-04-19 05:00:31,042] Trial 8 finished with value: 0.8795853196963127 and parameters: {'learning_rate': 0.002144999853590997, 'loss': 'square', 'n_estimators': 753}. Best is trial 5 with value: 0.8815985210854207.\n",
      "[I 2024-04-19 05:00:32,102] Trial 9 finished with value: 0.8907751902763072 and parameters: {'learning_rate': 0.00245841802278782, 'loss': 'linear', 'n_estimators': 751}. Best is trial 9 with value: 0.8907751902763072.\n",
      "[I 2024-04-19 05:00:32,696] Trial 10 finished with value: 0.9111002894952955 and parameters: {'learning_rate': 0.001201615904384064, 'loss': 'exponential', 'n_estimators': 399}. Best is trial 10 with value: 0.9111002894952955.\n",
      "[I 2024-04-19 05:00:33,217] Trial 11 finished with value: 0.9116781628854775 and parameters: {'learning_rate': 0.0012529517194935248, 'loss': 'exponential', 'n_estimators': 353}. Best is trial 11 with value: 0.9116781628854775.\n",
      "[I 2024-04-19 05:00:33,666] Trial 12 finished with value: 0.9119704416568073 and parameters: {'learning_rate': 0.0011460679878985893, 'loss': 'exponential', 'n_estimators': 303}. Best is trial 12 with value: 0.9119704416568073.\n",
      "[I 2024-04-19 05:00:34,031] Trial 13 finished with value: 0.896591734701708 and parameters: {'learning_rate': 0.00687080546436837, 'loss': 'exponential', 'n_estimators': 244}. Best is trial 12 with value: 0.9119704416568073.\n",
      "[I 2024-04-19 05:00:34,511] Trial 14 finished with value: 0.9119604769191494 and parameters: {'learning_rate': 0.0010585771195788104, 'loss': 'exponential', 'n_estimators': 328}. Best is trial 12 with value: 0.9119704416568073.\n",
      "[I 2024-04-19 05:00:34,695] Trial 15 finished with value: 0.9098237062008576 and parameters: {'learning_rate': 0.004863352947930933, 'loss': 'exponential', 'n_estimators': 116}. Best is trial 12 with value: 0.9119704416568073.\n",
      "[I 2024-04-19 05:00:35,147] Trial 16 finished with value: 0.6780534749867806 and parameters: {'learning_rate': 0.0759615740220683, 'loss': 'exponential', 'n_estimators': 321}. Best is trial 12 with value: 0.9119704416568073.\n",
      "[I 2024-04-19 05:00:35,828] Trial 17 finished with value: 0.3661113096642036 and parameters: {'learning_rate': 0.30102565469247383, 'loss': 'exponential', 'n_estimators': 495}. Best is trial 12 with value: 0.9119704416568073.\n",
      "[I 2024-04-19 05:00:36,179] Trial 18 finished with value: 0.9129191511931156 and parameters: {'learning_rate': 0.0010163048972455567, 'loss': 'exponential', 'n_estimators': 231}. Best is trial 18 with value: 0.9129191511931156.\n",
      "[I 2024-04-19 05:00:36,545] Trial 19 finished with value: 0.8910858822371771 and parameters: {'learning_rate': 0.009887401717355946, 'loss': 'exponential', 'n_estimators': 233}. Best is trial 18 with value: 0.9129191511931156.\n",
      "[I 2024-04-19 05:00:37,164] Trial 20 finished with value: 0.8983025548386452 and parameters: {'learning_rate': 0.003602570928005736, 'loss': 'exponential', 'n_estimators': 427}. Best is trial 18 with value: 0.9129191511931156.\n",
      "[I 2024-04-19 05:00:37,557] Trial 21 finished with value: 0.9120814363903771 and parameters: {'learning_rate': 0.001037668767317099, 'loss': 'exponential', 'n_estimators': 263}. Best is trial 18 with value: 0.9129191511931156.\n",
      "[I 2024-04-19 05:00:37,895] Trial 22 finished with value: 0.9100483669777417 and parameters: {'learning_rate': 0.002570156586700664, 'loss': 'exponential', 'n_estimators': 229}. Best is trial 18 with value: 0.9129191511931156.\n",
      "[I 2024-04-19 05:00:38,078] Trial 23 finished with value: 0.9129530105996254 and parameters: {'learning_rate': 0.0015142422573417795, 'loss': 'exponential', 'n_estimators': 103}. Best is trial 23 with value: 0.9129530105996254.\n",
      "[I 2024-04-19 05:00:38,244] Trial 24 finished with value: 0.912490291684547 and parameters: {'learning_rate': 0.0019190701859635184, 'loss': 'exponential', 'n_estimators': 110}. Best is trial 23 with value: 0.9129530105996254.\n",
      "[I 2024-04-19 05:00:38,429] Trial 25 finished with value: 0.9021260257762258 and parameters: {'learning_rate': 0.012584290968493768, 'loss': 'exponential', 'n_estimators': 124}. Best is trial 23 with value: 0.9129530105996254.\n",
      "[I 2024-04-19 05:00:38,695] Trial 26 finished with value: 0.9091772211056794 and parameters: {'learning_rate': 0.003611902608127292, 'loss': 'exponential', 'n_estimators': 173}. Best is trial 23 with value: 0.9129530105996254.\n",
      "[I 2024-04-19 05:00:38,945] Trial 27 finished with value: 0.9120502128440863 and parameters: {'learning_rate': 0.0018630210905695747, 'loss': 'exponential', 'n_estimators': 167}. Best is trial 23 with value: 0.9129530105996254.\n",
      "[I 2024-04-19 05:00:39,128] Trial 28 finished with value: 0.8970331013955897 and parameters: {'learning_rate': 0.0072733465947379915, 'loss': 'square', 'n_estimators': 124}. Best is trial 23 with value: 0.9129530105996254.\n",
      "[I 2024-04-19 05:00:39,396] Trial 29 finished with value: 0.34956692514944343 and parameters: {'learning_rate': 0.819692738688726, 'loss': 'exponential', 'n_estimators': 196}. Best is trial 23 with value: 0.9129530105996254.\n",
      "[I 2024-04-19 05:00:39,577] Trial 30 finished with value: 0.8579218466494938 and parameters: {'learning_rate': 0.04865034665487631, 'loss': 'linear', 'n_estimators': 646}. Best is trial 23 with value: 0.9129530105996254.\n",
      "[I 2024-04-19 05:00:39,961] Trial 31 finished with value: 0.9104395659471995 and parameters: {'learning_rate': 0.0017170946229190904, 'loss': 'exponential', 'n_estimators': 262}. Best is trial 23 with value: 0.9129530105996254.\n",
      "[I 2024-04-19 05:00:40,128] Trial 32 finished with value: 0.9135480360271705 and parameters: {'learning_rate': 0.001033807711960873, 'loss': 'exponential', 'n_estimators': 104}. Best is trial 32 with value: 0.9135480360271705.\n",
      "[I 2024-04-19 05:00:40,277] Trial 33 finished with value: 0.9117838457559034 and parameters: {'learning_rate': 0.0034082894212418145, 'loss': 'exponential', 'n_estimators': 101}. Best is trial 32 with value: 0.9135480360271705.\n",
      "[I 2024-04-19 05:00:40,513] Trial 34 finished with value: 0.9120759236490618 and parameters: {'learning_rate': 0.001498118732429998, 'loss': 'exponential', 'n_estimators': 155}. Best is trial 32 with value: 0.9135480360271705.\n",
      "[I 2024-04-19 05:00:41,811] Trial 35 finished with value: 0.8874740040793309 and parameters: {'learning_rate': 0.0028094817002437054, 'loss': 'exponential', 'n_estimators': 908}. Best is trial 32 with value: 0.9135480360271705.\n",
      "[I 2024-04-19 05:00:42,111] Trial 36 finished with value: 0.9036798138653096 and parameters: {'learning_rate': 0.00462581030719762, 'loss': 'linear', 'n_estimators': 203}. Best is trial 32 with value: 0.9135480360271705.\n",
      "[I 2024-04-19 05:00:42,345] Trial 37 finished with value: 0.9102429251165484 and parameters: {'learning_rate': 0.0016290032534942809, 'loss': 'square', 'n_estimators': 161}. Best is trial 32 with value: 0.9135480360271705.\n",
      "[I 2024-04-19 05:00:42,927] Trial 38 finished with value: 0.8374640870607659 and parameters: {'learning_rate': 0.019159305528890315, 'loss': 'exponential', 'n_estimators': 395}. Best is trial 32 with value: 0.9135480360271705.\n",
      "[I 2024-04-19 05:00:43,327] Trial 39 finished with value: 0.6027805035863785 and parameters: {'learning_rate': 0.12053174060613868, 'loss': 'exponential', 'n_estimators': 287}. Best is trial 32 with value: 0.9135480360271705.\n",
      "[I 2024-04-19 05:00:43,493] Trial 40 finished with value: 0.8993774230970829 and parameters: {'learning_rate': 0.006361398119133522, 'loss': 'square', 'n_estimators': 104}. Best is trial 32 with value: 0.9135480360271705.\n",
      "[I 2024-04-19 05:00:43,795] Trial 41 finished with value: 0.9126414501875344 and parameters: {'learning_rate': 0.0010144557431033129, 'loss': 'exponential', 'n_estimators': 206}. Best is trial 32 with value: 0.9135480360271705.\n",
      "[I 2024-04-19 05:00:44,111] Trial 42 finished with value: 0.9106474432437517 and parameters: {'learning_rate': 0.002195115295351943, 'loss': 'exponential', 'n_estimators': 209}. Best is trial 32 with value: 0.9135480360271705.\n",
      "[I 2024-04-19 05:00:44,342] Trial 43 finished with value: 0.9134928535941972 and parameters: {'learning_rate': 0.001518568941544266, 'loss': 'exponential', 'n_estimators': 155}. Best is trial 32 with value: 0.9135480360271705.\n",
      "[I 2024-04-19 05:00:44,610] Trial 44 finished with value: 0.912305937647686 and parameters: {'learning_rate': 0.001481588866473174, 'loss': 'linear', 'n_estimators': 165}. Best is trial 32 with value: 0.9135480360271705.\n",
      "[I 2024-04-19 05:00:45,131] Trial 45 finished with value: 0.9112503683779756 and parameters: {'learning_rate': 0.0010347219421979915, 'loss': 'exponential', 'n_estimators': 363}. Best is trial 32 with value: 0.9135480360271705.\n",
      "[I 2024-04-19 05:00:45,841] Trial 46 finished with value: 0.9092236557850059 and parameters: {'learning_rate': 0.0013500218516862392, 'loss': 'exponential', 'n_estimators': 477}. Best is trial 32 with value: 0.9135480360271705.\n",
      "[I 2024-04-19 05:00:46,712] Trial 47 finished with value: 0.9003035030441427 and parameters: {'learning_rate': 0.0025779476184545316, 'loss': 'exponential', 'n_estimators': 603}. Best is trial 32 with value: 0.9135480360271705.\n",
      "[I 2024-04-19 05:00:47,110] Trial 48 finished with value: 0.8973365352482523 and parameters: {'learning_rate': 0.0032117359009775593, 'loss': 'square', 'n_estimators': 270}. Best is trial 32 with value: 0.9135480360271705.\n",
      "[I 2024-04-19 05:00:47,325] Trial 49 finished with value: 0.9124194015848418 and parameters: {'learning_rate': 0.0014148926297919582, 'loss': 'linear', 'n_estimators': 147}. Best is trial 32 with value: 0.9135480360271705.\n",
      "[I 2024-04-19 05:00:47,627] Trial 50 finished with value: 0.9137748763233269 and parameters: {'learning_rate': 0.001009739887018164, 'loss': 'exponential', 'n_estimators': 201}. Best is trial 50 with value: 0.9137748763233269.\n",
      "[I 2024-04-19 05:00:47,911] Trial 51 finished with value: 0.9130051133248067 and parameters: {'learning_rate': 0.0010353087971188798, 'loss': 'exponential', 'n_estimators': 197}. Best is trial 50 with value: 0.9137748763233269.\n",
      "[I 2024-04-19 05:00:48,194] Trial 52 finished with value: 0.9119823783965345 and parameters: {'learning_rate': 0.0020498835836547757, 'loss': 'exponential', 'n_estimators': 190}. Best is trial 50 with value: 0.9137748763233269.\n",
      "[I 2024-04-19 05:00:48,561] Trial 53 finished with value: 0.9113697958944912 and parameters: {'learning_rate': 0.0012788983642272257, 'loss': 'exponential', 'n_estimators': 241}. Best is trial 50 with value: 0.9137748763233269.\n",
      "[I 2024-04-19 05:00:48,991] Trial 54 finished with value: 0.9124258564294034 and parameters: {'learning_rate': 0.0010088612265125563, 'loss': 'exponential', 'n_estimators': 299}. Best is trial 50 with value: 0.9137748763233269.\n",
      "[I 2024-04-19 05:00:49,211] Trial 55 finished with value: 0.9136197634440251 and parameters: {'learning_rate': 0.001704437105271571, 'loss': 'exponential', 'n_estimators': 140}. Best is trial 50 with value: 0.9137748763233269.\n",
      "[I 2024-04-19 05:00:49,408] Trial 56 finished with value: 0.9088075916806706 and parameters: {'learning_rate': 0.004638688174985368, 'loss': 'exponential', 'n_estimators': 130}. Best is trial 50 with value: 0.9137748763233269.\n",
      "[I 2024-04-19 05:00:49,890] Trial 57 finished with value: 0.9088185863995527 and parameters: {'learning_rate': 0.002267827724770739, 'loss': 'exponential', 'n_estimators': 329}. Best is trial 50 with value: 0.9137748763233269.\n",
      "[I 2024-04-19 05:00:50,105] Trial 58 finished with value: 0.9125216318850704 and parameters: {'learning_rate': 0.001660183306379207, 'loss': 'exponential', 'n_estimators': 143}. Best is trial 50 with value: 0.9137748763233269.\n",
      "[I 2024-04-19 05:00:50,361] Trial 59 finished with value: 0.9112671164496419 and parameters: {'learning_rate': 0.0030384055434386956, 'loss': 'exponential', 'n_estimators': 177}. Best is trial 50 with value: 0.9137748763233269.\n",
      "[I 2024-04-19 05:00:50,529] Trial 60 finished with value: 0.9121139572855269 and parameters: {'learning_rate': 0.004109737305418579, 'loss': 'exponential', 'n_estimators': 100}. Best is trial 50 with value: 0.9137748763233269.\n",
      "[I 2024-04-19 05:00:50,860] Trial 61 finished with value: 0.9123447656062494 and parameters: {'learning_rate': 0.0012195366578608114, 'loss': 'exponential', 'n_estimators': 225}. Best is trial 50 with value: 0.9137748763233269.\n",
      "[I 2024-04-19 05:00:51,062] Trial 62 finished with value: 0.9119877591310168 and parameters: {'learning_rate': 0.0019168695459646351, 'loss': 'exponential', 'n_estimators': 133}. Best is trial 50 with value: 0.9137748763233269.\n",
      "[I 2024-04-19 05:00:51,426] Trial 63 finished with value: 0.9117476608431055 and parameters: {'learning_rate': 0.001326876823521993, 'loss': 'exponential', 'n_estimators': 251}. Best is trial 50 with value: 0.9137748763233269.\n",
      "[I 2024-04-19 05:00:51,760] Trial 64 finished with value: 0.9115348371187215 and parameters: {'learning_rate': 0.0023626915970099177, 'loss': 'exponential', 'n_estimators': 218}. Best is trial 50 with value: 0.9137748763233269.\n",
      "[I 2024-04-19 05:00:52,027] Trial 65 finished with value: 0.9120708357553736 and parameters: {'learning_rate': 0.0015776529810623276, 'loss': 'exponential', 'n_estimators': 180}. Best is trial 50 with value: 0.9137748763233269.\n",
      "[I 2024-04-19 05:00:53,008] Trial 66 finished with value: 0.9023670935454459 and parameters: {'learning_rate': 0.0019587606517723526, 'loss': 'exponential', 'n_estimators': 681}. Best is trial 50 with value: 0.9137748763233269.\n",
      "[I 2024-04-19 05:00:53,210] Trial 67 finished with value: 0.9124554987488915 and parameters: {'learning_rate': 0.001204665280096965, 'loss': 'linear', 'n_estimators': 144}. Best is trial 50 with value: 0.9137748763233269.\n",
      "[I 2024-04-19 05:00:53,593] Trial 68 finished with value: 0.31010900942830255 and parameters: {'learning_rate': 0.4378266528067214, 'loss': 'square', 'n_estimators': 281}. Best is trial 50 with value: 0.9137748763233269.\n",
      "[I 2024-04-19 05:00:53,875] Trial 69 finished with value: 0.9120274537953972 and parameters: {'learning_rate': 0.0026738889506834787, 'loss': 'exponential', 'n_estimators': 190}. Best is trial 50 with value: 0.9137748763233269.\n",
      "[I 2024-04-19 05:00:55,095] Trial 70 finished with value: 0.6527236150312544 and parameters: {'learning_rate': 0.031195726852877876, 'loss': 'exponential', 'n_estimators': 872}. Best is trial 50 with value: 0.9137748763233269.\n",
      "[I 2024-04-19 05:00:55,412] Trial 71 finished with value: 0.912870622930777 and parameters: {'learning_rate': 0.0010782709946183782, 'loss': 'exponential', 'n_estimators': 216}. Best is trial 50 with value: 0.9137748763233269.\n",
      "[I 2024-04-19 05:00:55,760] Trial 72 finished with value: 0.9121000069320742 and parameters: {'learning_rate': 0.0011931136577336963, 'loss': 'exponential', 'n_estimators': 241}. Best is trial 50 with value: 0.9137748763233269.\n",
      "[I 2024-04-19 05:00:55,977] Trial 73 finished with value: 0.9122474797118909 and parameters: {'learning_rate': 0.0016841642989987994, 'loss': 'exponential', 'n_estimators': 134}. Best is trial 50 with value: 0.9137748763233269.\n",
      "[I 2024-04-19 05:00:56,226] Trial 74 finished with value: 0.9125641506243316 and parameters: {'learning_rate': 0.001455283054831049, 'loss': 'exponential', 'n_estimators': 169}. Best is trial 50 with value: 0.9137748763233269.\n",
      "[I 2024-04-19 05:00:56,410] Trial 75 finished with value: 0.9140812702128652 and parameters: {'learning_rate': 0.0010017110828471239, 'loss': 'exponential', 'n_estimators': 118}. Best is trial 75 with value: 0.9140812702128652.\n",
      "[I 2024-04-19 05:00:56,593] Trial 76 finished with value: 0.913956273540499 and parameters: {'learning_rate': 0.0010008827908042873, 'loss': 'exponential', 'n_estimators': 122}. Best is trial 75 with value: 0.9140812702128652.\n",
      "[I 2024-04-19 05:00:56,789] Trial 77 finished with value: 0.9134327245130939 and parameters: {'learning_rate': 0.0018350531468145318, 'loss': 'exponential', 'n_estimators': 121}. Best is trial 75 with value: 0.9140812702128652.\n",
      "[I 2024-04-19 05:00:56,960] Trial 78 finished with value: 0.9148659538632945 and parameters: {'learning_rate': 0.0017318756129784008, 'loss': 'exponential', 'n_estimators': 116}. Best is trial 78 with value: 0.9148659538632945.\n",
      "[I 2024-04-19 05:00:57,143] Trial 79 finished with value: 0.9123287465321857 and parameters: {'learning_rate': 0.0019183148543458755, 'loss': 'exponential', 'n_estimators': 115}. Best is trial 78 with value: 0.9148659538632945.\n",
      "[I 2024-04-19 05:00:57,376] Trial 80 finished with value: 0.9093594807592931 and parameters: {'learning_rate': 0.003876252745879345, 'loss': 'exponential', 'n_estimators': 158}. Best is trial 78 with value: 0.9148659538632945.\n",
      "[I 2024-04-19 05:00:57,574] Trial 81 finished with value: 0.913682823849342 and parameters: {'learning_rate': 0.0012242749950022926, 'loss': 'exponential', 'n_estimators': 128}. Best is trial 78 with value: 0.9148659538632945.\n",
      "[I 2024-04-19 05:00:57,761] Trial 82 finished with value: 0.9077952766850779 and parameters: {'learning_rate': 0.005800808757110551, 'loss': 'exponential', 'n_estimators': 122}. Best is trial 78 with value: 0.9148659538632945.\n",
      "[I 2024-04-19 05:00:57,976] Trial 83 finished with value: 0.9132510721476794 and parameters: {'learning_rate': 0.0013679722345967798, 'loss': 'exponential', 'n_estimators': 140}. Best is trial 78 with value: 0.9148659538632945.\n",
      "[I 2024-04-19 05:00:58,127] Trial 84 finished with value: 0.9112668525819914 and parameters: {'learning_rate': 0.0022277373750798422, 'loss': 'exponential', 'n_estimators': 101}. Best is trial 78 with value: 0.9148659538632945.\n",
      "[I 2024-04-19 05:00:58,378] Trial 85 finished with value: 0.9099250625138013 and parameters: {'learning_rate': 0.0017034921699972845, 'loss': 'square', 'n_estimators': 161}. Best is trial 78 with value: 0.9148659538632945.\n",
      "[I 2024-04-19 05:00:58,643] Trial 86 finished with value: 0.8996967500246147 and parameters: {'learning_rate': 0.00857509831586471, 'loss': 'exponential', 'n_estimators': 181}. Best is trial 78 with value: 0.9148659538632945.\n",
      "[I 2024-04-19 05:00:58,841] Trial 87 finished with value: 0.9103693173815071 and parameters: {'learning_rate': 0.0029810765994044267, 'loss': 'linear', 'n_estimators': 122}. Best is trial 78 with value: 0.9148659538632945.\n",
      "[I 2024-04-19 05:00:59,059] Trial 88 finished with value: 0.9124753561750455 and parameters: {'learning_rate': 0.0012105885751950765, 'loss': 'exponential', 'n_estimators': 149}. Best is trial 78 with value: 0.9148659538632945.\n",
      "[I 2024-04-19 05:00:59,226] Trial 89 finished with value: 0.9012185222633526 and parameters: {'learning_rate': 0.014097275434361128, 'loss': 'exponential', 'n_estimators': 101}. Best is trial 78 with value: 0.9148659538632945.\n",
      "[I 2024-04-19 05:01:00,043] Trial 90 finished with value: 0.9073386416379976 and parameters: {'learning_rate': 0.0015029734431732387, 'loss': 'exponential', 'n_estimators': 567}. Best is trial 78 with value: 0.9148659538632945.\n",
      "[I 2024-04-19 05:01:00,256] Trial 91 finished with value: 0.9131507568079187 and parameters: {'learning_rate': 0.0013613072142445858, 'loss': 'exponential', 'n_estimators': 137}. Best is trial 78 with value: 0.9148659538632945.\n",
      "[I 2024-04-19 05:01:00,476] Trial 92 finished with value: 0.9132496993575565 and parameters: {'learning_rate': 0.0010048665942553243, 'loss': 'exponential', 'n_estimators': 150}. Best is trial 78 with value: 0.9148659538632945.\n",
      "[I 2024-04-19 05:01:00,659] Trial 93 finished with value: 0.9112394517534174 and parameters: {'learning_rate': 0.0017469144084454621, 'loss': 'exponential', 'n_estimators': 122}. Best is trial 78 with value: 0.9148659538632945.\n",
      "[I 2024-04-19 05:01:00,959] Trial 94 finished with value: 0.9127404803824369 and parameters: {'learning_rate': 0.0012433903549870459, 'loss': 'exponential', 'n_estimators': 200}. Best is trial 78 with value: 0.9148659538632945.\n",
      "[I 2024-04-19 05:01:01,228] Trial 95 finished with value: 0.9103068045935061 and parameters: {'learning_rate': 0.002422388855994917, 'loss': 'exponential', 'n_estimators': 179}. Best is trial 78 with value: 0.9148659538632945.\n",
      "[I 2024-04-19 05:01:01,444] Trial 96 finished with value: 0.9136383914511991 and parameters: {'learning_rate': 0.0014344567052832866, 'loss': 'exponential', 'n_estimators': 137}. Best is trial 78 with value: 0.9148659538632945.\n",
      "[I 2024-04-19 05:01:01,692] Trial 97 finished with value: 0.9113681403813367 and parameters: {'learning_rate': 0.0020655193797970706, 'loss': 'exponential', 'n_estimators': 162}. Best is trial 78 with value: 0.9148659538632945.\n",
      "[I 2024-04-19 05:01:01,876] Trial 98 finished with value: 0.9131194009692236 and parameters: {'learning_rate': 0.0015467684991906426, 'loss': 'exponential', 'n_estimators': 119}. Best is trial 78 with value: 0.9148659538632945.\n",
      "[I 2024-04-19 05:01:02,196] Trial 99 finished with value: 0.9118169882232801 and parameters: {'learning_rate': 0.0011765692272579377, 'loss': 'exponential', 'n_estimators': 208}. Best is trial 78 with value: 0.9148659538632945.\n"
     ]
    }
   ],
   "source": [
    "study.optimize(objective,n_trials=100)"
   ]
  },
  {
   "cell_type": "code",
   "execution_count": 287,
   "metadata": {},
   "outputs": [
    {
     "data": {
      "text/plain": [
       "{'learning_rate': 0.0017318756129784008,\n",
       " 'loss': 'exponential',\n",
       " 'n_estimators': 116}"
      ]
     },
     "execution_count": 287,
     "metadata": {},
     "output_type": "execute_result"
    }
   ],
   "source": [
    "study.best_params"
   ]
  },
  {
   "cell_type": "code",
   "execution_count": 289,
   "metadata": {},
   "outputs": [
    {
     "data": {
      "text/plain": [
       "0.9148659538632945"
      ]
     },
     "execution_count": 289,
     "metadata": {},
     "output_type": "execute_result"
    }
   ],
   "source": [
    "study.best_value"
   ]
  },
  {
   "cell_type": "code",
   "execution_count": 348,
   "metadata": {},
   "outputs": [],
   "source": [
    "ada=AdaBoostRegressor(learning_rate=.0017318756129784008,\n",
    " loss='exponential',\n",
    " n_estimators=116)"
   ]
  },
  {
   "cell_type": "code",
   "execution_count": 349,
   "metadata": {},
   "outputs": [
    {
     "data": {
      "text/plain": [
       "0.9141005114751872"
      ]
     },
     "execution_count": 349,
     "metadata": {},
     "output_type": "execute_result"
    }
   ],
   "source": [
    "ada.fit(x_trian,y_train)\n",
    "p=ada.predict(x_test)\n",
    "r2_score(y_test,p)"
   ]
  },
  {
   "cell_type": "code",
   "execution_count": 350,
   "metadata": {},
   "outputs": [
    {
     "data": {
      "text/plain": [
       "0.8613449444585841"
      ]
     },
     "execution_count": 350,
     "metadata": {},
     "output_type": "execute_result"
    }
   ],
   "source": [
    "ada.score(f,y)"
   ]
  },
  {
   "cell_type": "code",
   "execution_count": 290,
   "metadata": {},
   "outputs": [],
   "source": [
    "from xgboost import XGBRFRegressor"
   ]
  },
  {
   "cell_type": "code",
   "execution_count": 291,
   "metadata": {},
   "outputs": [],
   "source": [
    "r1=XGBRFRegressor()"
   ]
  },
  {
   "cell_type": "code",
   "execution_count": 292,
   "metadata": {},
   "outputs": [
    {
     "data": {
      "text/plain": [
       "0.9118153231697641"
      ]
     },
     "execution_count": 292,
     "metadata": {},
     "output_type": "execute_result"
    }
   ],
   "source": [
    "r1.fit(x_trian,y_train)\n",
    "p=r1.predict(x_test)\n",
    "r2_score(y_test,p)"
   ]
  },
  {
   "cell_type": "code",
   "execution_count": 298,
   "metadata": {},
   "outputs": [
    {
     "data": {
      "text/plain": [
       "0.9683610283030483"
      ]
     },
     "execution_count": 298,
     "metadata": {},
     "output_type": "execute_result"
    }
   ],
   "source": [
    "r2.score(f,y)"
   ]
  },
  {
   "cell_type": "code",
   "execution_count": 314,
   "metadata": {},
   "outputs": [],
   "source": [
    "def objective(trial):\n",
    "    objective=trial.suggest_categorical('objective',['reg:squarederror'])\n",
    "    learning_rate=trial.suggest_float('learning_rate',.001,1,log=True)\n",
    "    max_depth=trial.suggest_int('max_depth',1,4)\n",
    "    min_child_weight=trial.suggest_int('min_child_weight',1,10)\n",
    "    subsample=trial.suggest_float('subsample',0.4,1)\n",
    "    colsample_bytree=trial.suggest_float('colsample_bytree',.4,1)\n",
    "    n_estimators=trial.suggest_int('n_estimators',100,1000)\n",
    "    model=XGBRFRegressor(n_estimators=n_estimators,\n",
    "    learning_rate=learning_rate,\n",
    "    max_depth=max_depth,\n",
    "    min_child_weight=min_child_weight,\n",
    "    subsample=subsample,\n",
    "    colsample_bytree=colsample_bytree,\n",
    "    objective=objective\n",
    "    )\n",
    "    model.fit(x_trian,y_train)\n",
    "    p=model.predict(x_test)\n",
    "    v=r2_score(y_test,p)\n",
    "    return v"
   ]
  },
  {
   "cell_type": "code",
   "execution_count": 315,
   "metadata": {},
   "outputs": [
    {
     "name": "stderr",
     "output_type": "stream",
     "text": [
      "[I 2024-04-19 06:05:23,060] A new study created in memory with name: no-name-ade804e4-771e-4323-9f4f-02f8329579a3\n"
     ]
    }
   ],
   "source": [
    "study1=optuna.create_study(direction='maximize')"
   ]
  },
  {
   "cell_type": "code",
   "execution_count": 316,
   "metadata": {},
   "outputs": [
    {
     "name": "stderr",
     "output_type": "stream",
     "text": [
      "[I 2024-04-19 06:05:23,495] Trial 0 finished with value: -0.011466794434486394 and parameters: {'objective': 'reg:squarederror', 'learning_rate': 0.01450307609779548, 'max_depth': 1, 'min_child_weight': 2, 'subsample': 0.7699106323214673, 'colsample_bytree': 0.41555028212179096, 'n_estimators': 544}. Best is trial 0 with value: -0.011466794434486394.\n",
      "[I 2024-04-19 06:05:23,613] Trial 1 finished with value: 0.07338422396668332 and parameters: {'objective': 'reg:squarederror', 'learning_rate': 0.05925083983858826, 'max_depth': 4, 'min_child_weight': 5, 'subsample': 0.48261862541066164, 'colsample_bytree': 0.8891030726716054, 'n_estimators': 501}. Best is trial 1 with value: 0.07338422396668332.\n",
      "[I 2024-04-19 06:05:23,760] Trial 2 finished with value: 0.04213537508759768 and parameters: {'objective': 'reg:squarederror', 'learning_rate': 0.03894565176495049, 'max_depth': 3, 'min_child_weight': 1, 'subsample': 0.7818929400653278, 'colsample_bytree': 0.9273645189778891, 'n_estimators': 951}. Best is trial 1 with value: 0.07338422396668332.\n",
      "[I 2024-04-19 06:05:23,813] Trial 3 finished with value: 0.3214210059890229 and parameters: {'objective': 'reg:squarederror', 'learning_rate': 0.7012315157758856, 'max_depth': 1, 'min_child_weight': 7, 'subsample': 0.6707836495671373, 'colsample_bytree': 0.6198419622408528, 'n_estimators': 431}. Best is trial 3 with value: 0.3214210059890229.\n",
      "[I 2024-04-19 06:05:23,877] Trial 4 finished with value: 0.6393063517314946 and parameters: {'objective': 'reg:squarederror', 'learning_rate': 0.7940037214740171, 'max_depth': 2, 'min_child_weight': 5, 'subsample': 0.8843600605143987, 'colsample_bytree': 0.7224660078372542, 'n_estimators': 457}. Best is trial 4 with value: 0.6393063517314946.\n",
      "[I 2024-04-19 06:05:23,901] Trial 5 finished with value: 0.17437141742134465 and parameters: {'objective': 'reg:squarederror', 'learning_rate': 0.7233496613072437, 'max_depth': 1, 'min_child_weight': 10, 'subsample': 0.9001718135461446, 'colsample_bytree': 0.44726292880208673, 'n_estimators': 175}. Best is trial 4 with value: 0.6393063517314946.\n",
      "[I 2024-04-19 06:05:23,947] Trial 6 finished with value: -0.0010004063511026562 and parameters: {'objective': 'reg:squarederror', 'learning_rate': 0.015991645086964747, 'max_depth': 4, 'min_child_weight': 10, 'subsample': 0.9812168296252228, 'colsample_bytree': 0.6308714279613477, 'n_estimators': 222}. Best is trial 4 with value: 0.6393063517314946.\n",
      "[I 2024-04-19 06:05:24,038] Trial 7 finished with value: 0.669272399205429 and parameters: {'objective': 'reg:squarederror', 'learning_rate': 0.5858766563863147, 'max_depth': 3, 'min_child_weight': 3, 'subsample': 0.9759321791645615, 'colsample_bytree': 0.9723176575346075, 'n_estimators': 427}. Best is trial 7 with value: 0.669272399205429.\n",
      "[I 2024-04-19 06:05:24,068] Trial 8 finished with value: -0.004946188894158432 and parameters: {'objective': 'reg:squarederror', 'learning_rate': 0.0186600810563255, 'max_depth': 1, 'min_child_weight': 4, 'subsample': 0.5396497321303331, 'colsample_bytree': 0.5208879543770515, 'n_estimators': 273}. Best is trial 7 with value: 0.669272399205429.\n",
      "[I 2024-04-19 06:05:24,143] Trial 9 finished with value: 0.0027316087198607786 and parameters: {'objective': 'reg:squarederror', 'learning_rate': 0.02203580721519843, 'max_depth': 3, 'min_child_weight': 5, 'subsample': 0.6728668925886563, 'colsample_bytree': 0.5284592152336087, 'n_estimators': 399}. Best is trial 7 with value: 0.669272399205429.\n",
      "[I 2024-04-19 06:05:24,274] Trial 10 finished with value: -0.013713591500050804 and parameters: {'objective': 'reg:squarederror', 'learning_rate': 0.001154005038700515, 'max_depth': 2, 'min_child_weight': 3, 'subsample': 0.9865113268562065, 'colsample_bytree': 0.9973603248594144, 'n_estimators': 764}. Best is trial 7 with value: 0.669272399205429.\n",
      "[I 2024-04-19 06:05:24,394] Trial 11 finished with value: 0.2382502545235231 and parameters: {'objective': 'reg:squarederror', 'learning_rate': 0.2595192437916448, 'max_depth': 2, 'min_child_weight': 7, 'subsample': 0.8490382157034033, 'colsample_bytree': 0.7763651663572957, 'n_estimators': 720}. Best is trial 7 with value: 0.669272399205429.\n",
      "[I 2024-04-19 06:05:24,544] Trial 12 finished with value: 0.2007736138079459 and parameters: {'objective': 'reg:squarederror', 'learning_rate': 0.19643022289401302, 'max_depth': 3, 'min_child_weight': 7, 'subsample': 0.9007227884907308, 'colsample_bytree': 0.7699061949017256, 'n_estimators': 642}. Best is trial 7 with value: 0.669272399205429.\n",
      "[I 2024-04-19 06:05:24,644] Trial 13 finished with value: 0.18663697058053685 and parameters: {'objective': 'reg:squarederror', 'learning_rate': 0.20024272215775524, 'max_depth': 2, 'min_child_weight': 3, 'subsample': 0.9865499901147101, 'colsample_bytree': 0.8013247319774076, 'n_estimators': 380}. Best is trial 7 with value: 0.669272399205429.\n",
      "[I 2024-04-19 06:05:24,743] Trial 14 finished with value: 0.8336182977723572 and parameters: {'objective': 'reg:squarederror', 'learning_rate': 0.8558617859195917, 'max_depth': 3, 'min_child_weight': 6, 'subsample': 0.8732399360822688, 'colsample_bytree': 0.8609065150007897, 'n_estimators': 310}. Best is trial 14 with value: 0.8336182977723572.\n",
      "[I 2024-04-19 06:05:24,800] Trial 15 finished with value: -0.007523793602076889 and parameters: {'objective': 'reg:squarederror', 'learning_rate': 0.004785384565585715, 'max_depth': 3, 'min_child_weight': 8, 'subsample': 0.7824066884060414, 'colsample_bytree': 0.8770549209366665, 'n_estimators': 116}. Best is trial 14 with value: 0.8336182977723572.\n",
      "[I 2024-04-19 06:05:24,911] Trial 16 finished with value: 0.16481799195973468 and parameters: {'objective': 'reg:squarederror', 'learning_rate': 0.12216383674427617, 'max_depth': 4, 'min_child_weight': 1, 'subsample': 0.8257134462248643, 'colsample_bytree': 0.9895457984439053, 'n_estimators': 303}. Best is trial 14 with value: 0.8336182977723572.\n",
      "[I 2024-04-19 06:05:24,997] Trial 17 finished with value: 0.47371799557926886 and parameters: {'objective': 'reg:squarederror', 'learning_rate': 0.3831358809763917, 'max_depth': 3, 'min_child_weight': 3, 'subsample': 0.40338606081080414, 'colsample_bytree': 0.84656972650497, 'n_estimators': 323}. Best is trial 14 with value: 0.8336182977723572.\n",
      "[I 2024-04-19 06:05:25,197] Trial 18 finished with value: 0.1319664533987156 and parameters: {'objective': 'reg:squarederror', 'learning_rate': 0.09813490318952862, 'max_depth': 4, 'min_child_weight': 6, 'subsample': 0.5931856471910439, 'colsample_bytree': 0.942148867954697, 'n_estimators': 647}. Best is trial 14 with value: 0.8336182977723572.\n",
      "[I 2024-04-19 06:05:25,394] Trial 19 finished with value: 0.8775455829476345 and parameters: {'objective': 'reg:squarederror', 'learning_rate': 0.9875751915499474, 'max_depth': 3, 'min_child_weight': 4, 'subsample': 0.9296748290162827, 'colsample_bytree': 0.8366195496742477, 'n_estimators': 928}. Best is trial 19 with value: 0.8775455829476345.\n",
      "[I 2024-04-19 06:05:25,544] Trial 20 finished with value: -0.010810198130988491 and parameters: {'objective': 'reg:squarederror', 'learning_rate': 0.004249512801100831, 'max_depth': 2, 'min_child_weight': 9, 'subsample': 0.7245426659441392, 'colsample_bytree': 0.7035503795818903, 'n_estimators': 907}. Best is trial 19 with value: 0.8775455829476345.\n",
      "[I 2024-04-19 06:05:25,677] Trial 21 finished with value: 0.7787758450380994 and parameters: {'objective': 'reg:squarederror', 'learning_rate': 0.99864383622493, 'max_depth': 3, 'min_child_weight': 4, 'subsample': 0.9260119394664852, 'colsample_bytree': 0.832384486056669, 'n_estimators': 598}. Best is trial 19 with value: 0.8775455829476345.\n",
      "[I 2024-04-19 06:05:25,850] Trial 22 finished with value: 0.3896844731209653 and parameters: {'objective': 'reg:squarederror', 'learning_rate': 0.3975813346407905, 'max_depth': 3, 'min_child_weight': 4, 'subsample': 0.9119299924641264, 'colsample_bytree': 0.8285239399806937, 'n_estimators': 849}. Best is trial 19 with value: 0.8775455829476345.\n",
      "[I 2024-04-19 06:05:25,996] Trial 23 finished with value: 0.8759044641169115 and parameters: {'objective': 'reg:squarederror', 'learning_rate': 0.961582951370339, 'max_depth': 3, 'min_child_weight': 6, 'subsample': 0.9232301266860579, 'colsample_bytree': 0.8849816654937361, 'n_estimators': 606}. Best is trial 19 with value: 0.8775455829476345.\n",
      "[I 2024-04-19 06:05:26,279] Trial 24 finished with value: 0.48047317842705217 and parameters: {'objective': 'reg:squarederror', 'learning_rate': 0.3811227733958057, 'max_depth': 4, 'min_child_weight': 6, 'subsample': 0.8446009017010448, 'colsample_bytree': 0.9098330020532766, 'n_estimators': 987}. Best is trial 19 with value: 0.8775455829476345.\n",
      "[I 2024-04-19 06:05:26,465] Trial 25 finished with value: 0.16307291068974272 and parameters: {'objective': 'reg:squarederror', 'learning_rate': 0.12353255299334545, 'max_depth': 3, 'min_child_weight': 6, 'subsample': 0.9359990399732742, 'colsample_bytree': 0.8716368209526404, 'n_estimators': 794}. Best is trial 19 with value: 0.8775455829476345.\n",
      "[I 2024-04-19 06:05:26,614] Trial 26 finished with value: 0.7295622832479198 and parameters: {'objective': 'reg:squarederror', 'learning_rate': 0.9950121681922928, 'max_depth': 2, 'min_child_weight': 7, 'subsample': 0.8238330242073715, 'colsample_bytree': 0.7504219613291236, 'n_estimators': 871}. Best is trial 19 with value: 0.8775455829476345.\n",
      "[I 2024-04-19 06:05:26,760] Trial 27 finished with value: 0.30607902995288006 and parameters: {'objective': 'reg:squarederror', 'learning_rate': 0.43611250645594046, 'max_depth': 3, 'min_child_weight': 5, 'subsample': 0.8646313005841713, 'colsample_bytree': 0.6559790466105739, 'n_estimators': 697}. Best is trial 19 with value: 0.8775455829476345.\n",
      "[I 2024-04-19 06:05:26,910] Trial 28 finished with value: 0.21417184178102322 and parameters: {'objective': 'reg:squarederror', 'learning_rate': 0.20510593147103662, 'max_depth': 4, 'min_child_weight': 8, 'subsample': 0.943353816822021, 'colsample_bytree': 0.807563270993507, 'n_estimators': 549}. Best is trial 19 with value: 0.8775455829476345.\n",
      "[I 2024-04-19 06:05:26,982] Trial 29 finished with value: -0.0008213752618975168 and parameters: {'objective': 'reg:squarederror', 'learning_rate': 0.008955942459401733, 'max_depth': 3, 'min_child_weight': 4, 'subsample': 0.7347851848801699, 'colsample_bytree': 0.9429400484958916, 'n_estimators': 101}. Best is trial 19 with value: 0.8775455829476345.\n",
      "[I 2024-04-19 06:05:27,077] Trial 30 finished with value: 0.07488574283388294 and parameters: {'objective': 'reg:squarederror', 'learning_rate': 0.06537568589998473, 'max_depth': 2, 'min_child_weight': 6, 'subsample': 0.7954581672696718, 'colsample_bytree': 0.8563385634124485, 'n_estimators': 496}. Best is trial 19 with value: 0.8775455829476345.\n",
      "[I 2024-04-19 06:05:27,214] Trial 31 finished with value: 0.773286758789931 and parameters: {'objective': 'reg:squarederror', 'learning_rate': 0.9850514217577269, 'max_depth': 3, 'min_child_weight': 2, 'subsample': 0.9280308041409255, 'colsample_bytree': 0.8308641371290094, 'n_estimators': 603}. Best is trial 19 with value: 0.8775455829476345.\n",
      "[I 2024-04-19 06:05:27,343] Trial 32 finished with value: 0.6034834644101523 and parameters: {'objective': 'reg:squarederror', 'learning_rate': 0.5102768483343881, 'max_depth': 3, 'min_child_weight': 4, 'subsample': 0.947291615931833, 'colsample_bytree': 0.8986013530714497, 'n_estimators': 578}. Best is trial 19 with value: 0.8775455829476345.\n",
      "[I 2024-04-19 06:05:27,477] Trial 33 finished with value: 0.3105440846383215 and parameters: {'objective': 'reg:squarederror', 'learning_rate': 0.31667964476983496, 'max_depth': 3, 'min_child_weight': 5, 'subsample': 0.8743393183491379, 'colsample_bytree': 0.792904202551572, 'n_estimators': 506}. Best is trial 19 with value: 0.8775455829476345.\n",
      "[I 2024-04-19 06:05:27,682] Trial 34 finished with value: 0.5846266440066572 and parameters: {'objective': 'reg:squarederror', 'learning_rate': 0.6446392281298235, 'max_depth': 4, 'min_child_weight': 2, 'subsample': 0.9496890019379604, 'colsample_bytree': 0.734225576298314, 'n_estimators': 680}. Best is trial 19 with value: 0.8775455829476345.\n",
      "[I 2024-04-19 06:05:27,843] Trial 35 finished with value: 0.7742067095367284 and parameters: {'objective': 'reg:squarederror', 'learning_rate': 0.9887477731710425, 'max_depth': 3, 'min_child_weight': 4, 'subsample': 0.8179522579853462, 'colsample_bytree': 0.676937346475667, 'n_estimators': 782}. Best is trial 19 with value: 0.8775455829476345.\n",
      "[I 2024-04-19 06:05:27,977] Trial 36 finished with value: 0.6584556654567506 and parameters: {'objective': 'reg:squarederror', 'learning_rate': 0.5762905370351443, 'max_depth': 3, 'min_child_weight': 5, 'subsample': 0.7523298750494568, 'colsample_bytree': 0.9117436380041176, 'n_estimators': 583}. Best is trial 19 with value: 0.8775455829476345.\n",
      "[I 2024-04-19 06:05:28,093] Trial 37 finished with value: 0.3303235680587856 and parameters: {'objective': 'reg:squarederror', 'learning_rate': 0.24722673220163255, 'max_depth': 4, 'min_child_weight': 6, 'subsample': 0.8811457291270725, 'colsample_bytree': 0.8777098504017435, 'n_estimators': 347}. Best is trial 19 with value: 0.8775455829476345.\n",
      "[I 2024-04-19 06:05:28,177] Trial 38 finished with value: 0.7352214545395962 and parameters: {'objective': 'reg:squarederror', 'learning_rate': 0.6624245677070283, 'max_depth': 3, 'min_child_weight': 5, 'subsample': 0.9131165162926289, 'colsample_bytree': 0.9543231594372047, 'n_estimators': 230}. Best is trial 19 with value: 0.8775455829476345.\n",
      "[I 2024-04-19 06:05:28,277] Trial 39 finished with value: 0.01852472850763931 and parameters: {'objective': 'reg:squarederror', 'learning_rate': 0.031589336491309156, 'max_depth': 2, 'min_child_weight': 8, 'subsample': 0.6141767669397397, 'colsample_bytree': 0.8214971132372036, 'n_estimators': 486}. Best is trial 19 with value: 0.8775455829476345.\n",
      "[I 2024-04-19 06:05:28,460] Trial 40 finished with value: 0.6559050818265066 and parameters: {'objective': 'reg:squarederror', 'learning_rate': 0.7541621479948031, 'max_depth': 3, 'min_child_weight': 4, 'subsample': 0.9963428341368081, 'colsample_bytree': 0.7545964787782544, 'n_estimators': 837}. Best is trial 19 with value: 0.8775455829476345.\n",
      "[I 2024-04-19 06:05:28,627] Trial 41 finished with value: 0.7289233510024697 and parameters: {'objective': 'reg:squarederror', 'learning_rate': 0.8904889137946987, 'max_depth': 3, 'min_child_weight': 4, 'subsample': 0.8127618946852162, 'colsample_bytree': 0.6953526619217354, 'n_estimators': 929}. Best is trial 19 with value: 0.8775455829476345.\n",
      "[I 2024-04-19 06:05:28,793] Trial 42 finished with value: 0.4622726444060673 and parameters: {'objective': 'reg:squarederror', 'learning_rate': 0.4859731411996699, 'max_depth': 3, 'min_child_weight': 3, 'subsample': 0.8633034797202062, 'colsample_bytree': 0.6761759061891509, 'n_estimators': 773}. Best is trial 19 with value: 0.8775455829476345.\n",
      "[I 2024-04-19 06:05:28,960] Trial 43 finished with value: 0.6121094718078123 and parameters: {'objective': 'reg:squarederror', 'learning_rate': 0.9892643809215714, 'max_depth': 3, 'min_child_weight': 7, 'subsample': 0.954014936757448, 'colsample_bytree': 0.55550170362583, 'n_estimators': 807}. Best is trial 19 with value: 0.8775455829476345.\n",
      "[I 2024-04-19 06:05:29,112] Trial 44 finished with value: 0.41819766655710244 and parameters: {'objective': 'reg:squarederror', 'learning_rate': 0.6260985577013501, 'max_depth': 3, 'min_child_weight': 3, 'subsample': 0.8897513946809069, 'colsample_bytree': 0.6321240452152621, 'n_estimators': 742}. Best is trial 19 with value: 0.8775455829476345.\n",
      "[I 2024-04-19 06:05:29,293] Trial 45 finished with value: 0.20337671086567743 and parameters: {'objective': 'reg:squarederror', 'learning_rate': 0.27929646755222765, 'max_depth': 3, 'min_child_weight': 5, 'subsample': 0.9611670755116762, 'colsample_bytree': 0.577914816318154, 'n_estimators': 995}. Best is trial 19 with value: 0.8775455829476345.\n",
      "[I 2024-04-19 06:05:29,410] Trial 46 finished with value: 0.5960310886350472 and parameters: {'objective': 'reg:squarederror', 'learning_rate': 0.7298865278944111, 'max_depth': 2, 'min_child_weight': 4, 'subsample': 0.9148197951058835, 'colsample_bytree': 0.7843637987223242, 'n_estimators': 635}. Best is trial 19 with value: 0.8775455829476345.\n",
      "[I 2024-04-19 06:05:29,593] Trial 47 finished with value: -0.013183249371708117 and parameters: {'objective': 'reg:squarederror', 'learning_rate': 0.0014253639633084753, 'max_depth': 3, 'min_child_weight': 6, 'subsample': 0.8418187580027543, 'colsample_bytree': 0.9186012173841283, 'n_estimators': 894}. Best is trial 19 with value: 0.8775455829476345.\n",
      "[I 2024-04-19 06:05:29,842] Trial 48 finished with value: 0.5558945774481986 and parameters: {'objective': 'reg:squarederror', 'learning_rate': 0.4567658271132807, 'max_depth': 4, 'min_child_weight': 5, 'subsample': 0.7726551975517495, 'colsample_bytree': 0.8543593485328651, 'n_estimators': 956}. Best is trial 19 with value: 0.8775455829476345.\n",
      "[I 2024-04-19 06:05:29,926] Trial 49 finished with value: 0.022674568669599715 and parameters: {'objective': 'reg:squarederror', 'learning_rate': 0.1507652410576507, 'max_depth': 1, 'min_child_weight': 2, 'subsample': 0.8032637381486935, 'colsample_bytree': 0.40633577408694527, 'n_estimators': 686}. Best is trial 19 with value: 0.8775455829476345.\n",
      "[I 2024-04-19 06:05:30,043] Trial 50 finished with value: 0.22719656547258504 and parameters: {'objective': 'reg:squarederror', 'learning_rate': 0.31970821543279354, 'max_depth': 3, 'min_child_weight': 1, 'subsample': 0.6996009697503642, 'colsample_bytree': 0.6043022677707223, 'n_estimators': 434}. Best is trial 19 with value: 0.8775455829476345.\n",
      "[I 2024-04-19 06:05:30,180] Trial 51 finished with value: 0.7059023603107426 and parameters: {'objective': 'reg:squarederror', 'learning_rate': 0.8542116789191998, 'max_depth': 3, 'min_child_weight': 2, 'subsample': 0.9323465002875418, 'colsample_bytree': 0.8292004263378551, 'n_estimators': 586}. Best is trial 19 with value: 0.8775455829476345.\n",
      "[I 2024-04-19 06:05:30,326] Trial 52 finished with value: 0.8247931550436449 and parameters: {'objective': 'reg:squarederror', 'learning_rate': 0.8339497310883756, 'max_depth': 3, 'min_child_weight': 2, 'subsample': 0.9769334672956592, 'colsample_bytree': 0.83989775740929, 'n_estimators': 602}. Best is trial 19 with value: 0.8775455829476345.\n",
      "[I 2024-04-19 06:05:30,443] Trial 53 finished with value: 0.21923961345412468 and parameters: {'objective': 'reg:squarederror', 'learning_rate': 0.5641318700747091, 'max_depth': 3, 'min_child_weight': 1, 'subsample': 0.982714862765067, 'colsample_bytree': 0.4442586271007826, 'n_estimators': 539}. Best is trial 19 with value: 0.8775455829476345.\n",
      "[I 2024-04-19 06:05:30,560] Trial 54 finished with value: 0.8167743268185021 and parameters: {'objective': 'reg:squarederror', 'learning_rate': 0.8128362390734939, 'max_depth': 3, 'min_child_weight': 3, 'subsample': 0.9663635992050252, 'colsample_bytree': 0.8940112787615793, 'n_estimators': 468}. Best is trial 19 with value: 0.8775455829476345.\n",
      "[I 2024-04-19 06:05:30,643] Trial 55 finished with value: 0.7040921427532588 and parameters: {'objective': 'reg:squarederror', 'learning_rate': 0.6932294200843947, 'max_depth': 2, 'min_child_weight': 3, 'subsample': 0.9991221736471878, 'colsample_bytree': 0.8952540845140041, 'n_estimators': 381}. Best is trial 19 with value: 0.8775455829476345.\n",
      "[I 2024-04-19 06:05:30,743] Trial 56 finished with value: 0.4651953026715485 and parameters: {'objective': 'reg:squarederror', 'learning_rate': 0.3646145687769455, 'max_depth': 3, 'min_child_weight': 3, 'subsample': 0.9043434469813174, 'colsample_bytree': 0.9728548125734519, 'n_estimators': 250}. Best is trial 19 with value: 0.8775455829476345.\n",
      "[I 2024-04-19 06:05:30,860] Trial 57 finished with value: 0.6211457081406528 and parameters: {'objective': 'reg:squarederror', 'learning_rate': 0.5281716684034795, 'max_depth': 3, 'min_child_weight': 2, 'subsample': 0.9808245733813248, 'colsample_bytree': 0.8609258113982715, 'n_estimators': 456}. Best is trial 19 with value: 0.8775455829476345.\n",
      "[I 2024-04-19 06:05:30,943] Trial 58 finished with value: 0.8198943563960368 and parameters: {'objective': 'reg:squarederror', 'learning_rate': 0.783096360956152, 'max_depth': 3, 'min_child_weight': 3, 'subsample': 0.9687257631678713, 'colsample_bytree': 0.9318256445589793, 'n_estimators': 179}. Best is trial 19 with value: 0.8775455829476345.\n",
      "[I 2024-04-19 06:05:31,043] Trial 59 finished with value: 0.09769876082403095 and parameters: {'objective': 'reg:squarederror', 'learning_rate': 0.0744913345201088, 'max_depth': 4, 'min_child_weight': 1, 'subsample': 0.9677278245205618, 'colsample_bytree': 0.9385881054469157, 'n_estimators': 279}. Best is trial 19 with value: 0.8775455829476345.\n",
      "[I 2024-04-19 06:05:31,129] Trial 60 finished with value: 0.3264432238491236 and parameters: {'objective': 'reg:squarederror', 'learning_rate': 0.2330149098372112, 'max_depth': 3, 'min_child_weight': 7, 'subsample': 0.9713448455797495, 'colsample_bytree': 0.9759257413796433, 'n_estimators': 171}. Best is trial 19 with value: 0.8775455829476345.\n",
      "[I 2024-04-19 06:05:31,210] Trial 61 finished with value: 0.7923545175315855 and parameters: {'objective': 'reg:squarederror', 'learning_rate': 0.739090406321516, 'max_depth': 3, 'min_child_weight': 3, 'subsample': 0.923559646251231, 'colsample_bytree': 0.8941489219562181, 'n_estimators': 187}. Best is trial 19 with value: 0.8775455829476345.\n",
      "[I 2024-04-19 06:05:31,276] Trial 62 finished with value: 0.8337739546875297 and parameters: {'objective': 'reg:squarederror', 'learning_rate': 0.8039874488722514, 'max_depth': 3, 'min_child_weight': 3, 'subsample': 0.9624889947990789, 'colsample_bytree': 0.8798619192530973, 'n_estimators': 176}. Best is trial 19 with value: 0.8775455829476345.\n",
      "[I 2024-04-19 06:05:31,360] Trial 63 finished with value: 0.5523717882227293 and parameters: {'objective': 'reg:squarederror', 'learning_rate': 0.4309908839635051, 'max_depth': 3, 'min_child_weight': 2, 'subsample': 0.8912351585093642, 'colsample_bytree': 0.9251886650528891, 'n_estimators': 156}. Best is trial 19 with value: 0.8775455829476345.\n",
      "[I 2024-04-19 06:05:31,446] Trial 64 finished with value: 0.8185973539030666 and parameters: {'objective': 'reg:squarederror', 'learning_rate': 0.7949048591076519, 'max_depth': 3, 'min_child_weight': 3, 'subsample': 0.9561588648418349, 'colsample_bytree': 0.880081695974396, 'n_estimators': 207}. Best is trial 19 with value: 0.8775455829476345.\n",
      "[I 2024-04-19 06:05:31,543] Trial 65 finished with value: 0.46073489611174956 and parameters: {'objective': 'reg:squarederror', 'learning_rate': 0.4980450195853355, 'max_depth': 3, 'min_child_weight': 2, 'subsample': 0.9416163779936785, 'colsample_bytree': 0.8064678264064202, 'n_estimators': 218}. Best is trial 19 with value: 0.8775455829476345.\n",
      "[I 2024-04-19 06:05:31,610] Trial 66 finished with value: 0.383263872801457 and parameters: {'objective': 'reg:squarederror', 'learning_rate': 0.3171546243600039, 'max_depth': 2, 'min_child_weight': 3, 'subsample': 0.9973181494107421, 'colsample_bytree': 0.8758456374034621, 'n_estimators': 129}. Best is trial 19 with value: 0.8775455829476345.\n",
      "[I 2024-04-19 06:05:31,693] Trial 67 finished with value: 0.6902350179300349 and parameters: {'objective': 'reg:squarederror', 'learning_rate': 0.5970757846903367, 'max_depth': 3, 'min_child_weight': 6, 'subsample': 0.5170167686947003, 'colsample_bytree': 0.8477351225775887, 'n_estimators': 200}. Best is trial 19 with value: 0.8775455829476345.\n",
      "[I 2024-04-19 06:05:31,793] Trial 68 finished with value: 0.003059740397184263 and parameters: {'objective': 'reg:squarederror', 'learning_rate': 0.012184554390085181, 'max_depth': 3, 'min_child_weight': 2, 'subsample': 0.8545893730510468, 'colsample_bytree': 0.9380976812794106, 'n_estimators': 335}. Best is trial 19 with value: 0.8775455829476345.\n",
      "[I 2024-04-19 06:05:31,893] Trial 69 finished with value: 0.2110706088231763 and parameters: {'objective': 'reg:squarederror', 'learning_rate': 0.15884042068973253, 'max_depth': 3, 'min_child_weight': 3, 'subsample': 0.903668398601979, 'colsample_bytree': 0.8673170378369556, 'n_estimators': 278}. Best is trial 19 with value: 0.8775455829476345.\n",
      "[I 2024-04-19 06:05:31,976] Trial 70 finished with value: 0.8007684840878875 and parameters: {'objective': 'reg:squarederror', 'learning_rate': 0.747898968823121, 'max_depth': 3, 'min_child_weight': 4, 'subsample': 0.9596270388110693, 'colsample_bytree': 0.9614571810681659, 'n_estimators': 142}. Best is trial 19 with value: 0.8775455829476345.\n",
      "[I 2024-04-19 06:05:32,076] Trial 71 finished with value: 0.8290619331199182 and parameters: {'objective': 'reg:squarederror', 'learning_rate': 0.825313550328075, 'max_depth': 3, 'min_child_weight': 3, 'subsample': 0.9670286776598275, 'colsample_bytree': 0.9069799335618145, 'n_estimators': 240}. Best is trial 19 with value: 0.8775455829476345.\n",
      "[I 2024-04-19 06:05:32,160] Trial 72 finished with value: 0.8202385656148345 and parameters: {'objective': 'reg:squarederror', 'learning_rate': 0.8098341944317695, 'max_depth': 3, 'min_child_weight': 3, 'subsample': 0.9380285735002656, 'colsample_bytree': 0.9129243697049105, 'n_estimators': 243}. Best is trial 19 with value: 0.8775455829476345.\n",
      "[I 2024-04-19 06:05:32,260] Trial 73 finished with value: 0.04780983592581445 and parameters: {'objective': 'reg:squarederror', 'learning_rate': 0.04132395542184389, 'max_depth': 3, 'min_child_weight': 2, 'subsample': 0.9366802591659152, 'colsample_bytree': 0.9126944470766055, 'n_estimators': 248}. Best is trial 19 with value: 0.8775455829476345.\n",
      "[I 2024-04-19 06:05:32,360] Trial 74 finished with value: 0.4838013093120497 and parameters: {'objective': 'reg:squarederror', 'learning_rate': 0.3868214583317934, 'max_depth': 3, 'min_child_weight': 3, 'subsample': 0.9798313976600952, 'colsample_bytree': 0.9957024921328427, 'n_estimators': 307}. Best is trial 19 with value: 0.8775455829476345.\n",
      "[I 2024-04-19 06:05:32,458] Trial 75 finished with value: 0.5390374525672781 and parameters: {'objective': 'reg:squarederror', 'learning_rate': 0.5945142349555548, 'max_depth': 3, 'min_child_weight': 4, 'subsample': 0.876666455295153, 'colsample_bytree': 0.81762353787476, 'n_estimators': 248}. Best is trial 19 with value: 0.8775455829476345.\n",
      "[I 2024-04-19 06:05:32,526] Trial 76 finished with value: 0.8445076134481097 and parameters: {'objective': 'reg:squarederror', 'learning_rate': 0.830943922080837, 'max_depth': 3, 'min_child_weight': 7, 'subsample': 0.9241242478123971, 'colsample_bytree': 0.8444169663017963, 'n_estimators': 161}. Best is trial 19 with value: 0.8775455829476345.\n",
      "[I 2024-04-19 06:05:32,643] Trial 77 finished with value: 0.8808964134072701 and parameters: {'objective': 'reg:squarederror', 'learning_rate': 0.9787147178033466, 'max_depth': 3, 'min_child_weight': 7, 'subsample': 0.914339405724803, 'colsample_bytree': 0.8403859714018932, 'n_estimators': 362}. Best is trial 77 with value: 0.8808964134072701.\n",
      "[I 2024-04-19 06:05:32,760] Trial 78 finished with value: 0.7313533016442237 and parameters: {'objective': 'reg:squarederror', 'learning_rate': 0.9203495690456052, 'max_depth': 3, 'min_child_weight': 7, 'subsample': 0.42986901610378525, 'colsample_bytree': 0.765861841063764, 'n_estimators': 371}. Best is trial 77 with value: 0.8808964134072701.\n",
      "[I 2024-04-19 06:05:32,843] Trial 79 finished with value: 0.5998343908215045 and parameters: {'objective': 'reg:squarederror', 'learning_rate': 0.4908391055925367, 'max_depth': 4, 'min_child_weight': 8, 'subsample': 0.9193299752346809, 'colsample_bytree': 0.8354904204729822, 'n_estimators': 105}. Best is trial 77 with value: 0.8808964134072701.\n",
      "[I 2024-04-19 06:05:32,926] Trial 80 finished with value: 0.5385468600977461 and parameters: {'objective': 'reg:squarederror', 'learning_rate': 0.6379855818884246, 'max_depth': 2, 'min_child_weight': 7, 'subsample': 0.8862378872402145, 'colsample_bytree': 0.7934487644877651, 'n_estimators': 308}. Best is trial 77 with value: 0.8808964134072701.\n",
      "[I 2024-04-19 06:05:33,043] Trial 81 finished with value: 0.8443736008102856 and parameters: {'objective': 'reg:squarederror', 'learning_rate': 0.8779302733775665, 'max_depth': 3, 'min_child_weight': 7, 'subsample': 0.9436279877128214, 'colsample_bytree': 0.8413270555973703, 'n_estimators': 411}. Best is trial 77 with value: 0.8808964134072701.\n",
      "[I 2024-04-19 06:05:33,176] Trial 82 finished with value: 0.8850228943081697 and parameters: {'objective': 'reg:squarederror', 'learning_rate': 0.9951244279464926, 'max_depth': 3, 'min_child_weight': 7, 'subsample': 0.8972000190967084, 'colsample_bytree': 0.8379622187768934, 'n_estimators': 400}. Best is trial 82 with value: 0.8850228943081697.\n",
      "[I 2024-04-19 06:05:33,276] Trial 83 finished with value: 0.8620223531875971 and parameters: {'objective': 'reg:squarederror', 'learning_rate': 0.92553370521931, 'max_depth': 3, 'min_child_weight': 7, 'subsample': 0.8344443962423326, 'colsample_bytree': 0.8574312983365314, 'n_estimators': 357}. Best is trial 82 with value: 0.8850228943081697.\n",
      "[I 2024-04-19 06:05:33,393] Trial 84 finished with value: 0.7507378647420648 and parameters: {'objective': 'reg:squarederror', 'learning_rate': 0.9657735663627653, 'max_depth': 3, 'min_child_weight': 7, 'subsample': 0.836371610282114, 'colsample_bytree': 0.8113801988410314, 'n_estimators': 402}. Best is trial 82 with value: 0.8850228943081697.\n",
      "[I 2024-04-19 06:05:33,509] Trial 85 finished with value: 0.6882226839181238 and parameters: {'objective': 'reg:squarederror', 'learning_rate': 0.6169423970422616, 'max_depth': 3, 'min_child_weight': 8, 'subsample': 0.8634485488794652, 'colsample_bytree': 0.8594136343587833, 'n_estimators': 354}. Best is trial 82 with value: 0.8850228943081697.\n",
      "[I 2024-04-19 06:05:33,626] Trial 86 finished with value: 0.883043312940175 and parameters: {'objective': 'reg:squarederror', 'learning_rate': 0.9872919085194445, 'max_depth': 3, 'min_child_weight': 6, 'subsample': 0.9020716191283177, 'colsample_bytree': 0.841949106812069, 'n_estimators': 415}. Best is trial 82 with value: 0.8850228943081697.\n",
      "[I 2024-04-19 06:05:33,743] Trial 87 finished with value: 0.7548384364042611 and parameters: {'objective': 'reg:squarederror', 'learning_rate': 0.97867281478954, 'max_depth': 3, 'min_child_weight': 8, 'subsample': 0.8982907537365901, 'colsample_bytree': 0.7843918741188269, 'n_estimators': 404}. Best is trial 82 with value: 0.8850228943081697.\n",
      "[I 2024-04-19 06:05:33,876] Trial 88 finished with value: 0.7392006899130048 and parameters: {'objective': 'reg:squarederror', 'learning_rate': 0.6815507491028807, 'max_depth': 3, 'min_child_weight': 7, 'subsample': 0.9160124563768233, 'colsample_bytree': 0.8467693874294048, 'n_estimators': 436}. Best is trial 82 with value: 0.8850228943081697.\n",
      "[I 2024-04-19 06:05:34,010] Trial 89 finished with value: 0.4887316756805008 and parameters: {'objective': 'reg:squarederror', 'learning_rate': 0.5289977551059041, 'max_depth': 3, 'min_child_weight': 9, 'subsample': 0.9029003726514752, 'colsample_bytree': 0.7436066271233411, 'n_estimators': 512}. Best is trial 82 with value: 0.8850228943081697.\n",
      "[I 2024-04-19 06:05:34,126] Trial 90 finished with value: -0.011773803162191676 and parameters: {'objective': 'reg:squarederror', 'learning_rate': 0.002325824095825613, 'max_depth': 3, 'min_child_weight': 6, 'subsample': 0.6236258007020861, 'colsample_bytree': 0.8835035797938029, 'n_estimators': 418}. Best is trial 82 with value: 0.8850228943081697.\n",
      "[I 2024-04-19 06:05:34,243] Trial 91 finished with value: 0.6097542788607584 and parameters: {'objective': 'reg:squarederror', 'learning_rate': 0.7065897791305403, 'max_depth': 3, 'min_child_weight': 6, 'subsample': 0.8660223849627401, 'colsample_bytree': 0.8250609466435365, 'n_estimators': 385}. Best is trial 82 with value: 0.8850228943081697.\n",
      "[I 2024-04-19 06:05:34,359] Trial 92 finished with value: 0.8422941488113371 and parameters: {'objective': 'reg:squarederror', 'learning_rate': 0.8772960631390432, 'max_depth': 3, 'min_child_weight': 6, 'subsample': 0.9276237485242693, 'colsample_bytree': 0.8670106216893997, 'n_estimators': 345}. Best is trial 82 with value: 0.8850228943081697.\n",
      "[I 2024-04-19 06:05:34,476] Trial 93 finished with value: 0.8848052910521076 and parameters: {'objective': 'reg:squarederror', 'learning_rate': 0.9939980905294864, 'max_depth': 3, 'min_child_weight': 7, 'subsample': 0.9298626181547212, 'colsample_bytree': 0.8474968003354089, 'n_estimators': 358}. Best is trial 82 with value: 0.8850228943081697.\n",
      "[I 2024-04-19 06:05:34,593] Trial 94 finished with value: 0.7610769768824297 and parameters: {'objective': 'reg:squarederror', 'learning_rate': 0.9901203802550574, 'max_depth': 3, 'min_child_weight': 7, 'subsample': 0.9279905396690952, 'colsample_bytree': 0.8015849945189494, 'n_estimators': 453}. Best is trial 82 with value: 0.8850228943081697.\n",
      "[I 2024-04-19 06:05:34,713] Trial 95 finished with value: 0.726192237295878 and parameters: {'objective': 'reg:squarederror', 'learning_rate': 0.671323511770842, 'max_depth': 3, 'min_child_weight': 7, 'subsample': 0.8837700630145359, 'colsample_bytree': 0.8394883135331951, 'n_estimators': 343}. Best is trial 82 with value: 0.8850228943081697.\n",
      "[I 2024-04-19 06:05:34,843] Trial 96 finished with value: 0.397057585912315 and parameters: {'objective': 'reg:squarederror', 'learning_rate': 0.41753239540205056, 'max_depth': 3, 'min_child_weight': 6, 'subsample': 0.9471970523185961, 'colsample_bytree': 0.7725349638009722, 'n_estimators': 478}. Best is trial 82 with value: 0.8850228943081697.\n",
      "[I 2024-04-19 06:05:34,961] Trial 97 finished with value: 0.6377980628512243 and parameters: {'objective': 'reg:squarederror', 'learning_rate': 0.5520871050922234, 'max_depth': 3, 'min_child_weight': 7, 'subsample': 0.9108883388875235, 'colsample_bytree': 0.8622851446222275, 'n_estimators': 368}. Best is trial 82 with value: 0.8850228943081697.\n",
      "[I 2024-04-19 06:05:35,059] Trial 98 finished with value: 0.7093857445269549 and parameters: {'objective': 'reg:squarederror', 'learning_rate': 0.8778631867381042, 'max_depth': 3, 'min_child_weight': 8, 'subsample': 0.892883167958594, 'colsample_bytree': 0.8174967873880988, 'n_estimators': 334}. Best is trial 82 with value: 0.8850228943081697.\n",
      "[I 2024-04-19 06:05:35,209] Trial 99 finished with value: 0.5704113248798028 and parameters: {'objective': 'reg:squarederror', 'learning_rate': 0.4710218743301228, 'max_depth': 3, 'min_child_weight': 6, 'subsample': 0.8548932728472273, 'colsample_bytree': 0.8502291116289273, 'n_estimators': 531}. Best is trial 82 with value: 0.8850228943081697.\n"
     ]
    }
   ],
   "source": [
    "study1.optimize(objective,n_trials=100)"
   ]
  },
  {
   "cell_type": "code",
   "execution_count": 317,
   "metadata": {},
   "outputs": [
    {
     "data": {
      "text/plain": [
       "{'objective': 'reg:squarederror',\n",
       " 'learning_rate': 0.9951244279464926,\n",
       " 'max_depth': 3,\n",
       " 'min_child_weight': 7,\n",
       " 'subsample': 0.8972000190967084,\n",
       " 'colsample_bytree': 0.8379622187768934,\n",
       " 'n_estimators': 400}"
      ]
     },
     "execution_count": 317,
     "metadata": {},
     "output_type": "execute_result"
    }
   ],
   "source": [
    "study1.best_params"
   ]
  },
  {
   "cell_type": "code",
   "execution_count": 318,
   "metadata": {},
   "outputs": [
    {
     "data": {
      "text/plain": [
       "0.8850228943081697"
      ]
     },
     "execution_count": 318,
     "metadata": {},
     "output_type": "execute_result"
    }
   ],
   "source": [
    "study1.best_value"
   ]
  },
  {
   "cell_type": "code",
   "execution_count": 322,
   "metadata": {},
   "outputs": [],
   "source": [
    "from sklearn.linear_model import ElasticNet,LinearRegression"
   ]
  },
  {
   "cell_type": "code",
   "execution_count": 323,
   "metadata": {},
   "outputs": [],
   "source": [
    "l=LinearRegression()"
   ]
  },
  {
   "cell_type": "code",
   "execution_count": 320,
   "metadata": {},
   "outputs": [],
   "source": [
    "e=ElasticNet()"
   ]
  },
  {
   "cell_type": "code",
   "execution_count": 324,
   "metadata": {},
   "outputs": [
    {
     "data": {
      "text/plain": [
       "0.8141164268761931"
      ]
     },
     "execution_count": 324,
     "metadata": {},
     "output_type": "execute_result"
    }
   ],
   "source": [
    "l.fit(x_trian,y_train)\n",
    "p=l.predict(x_test)\n",
    "r2_score(y_test,p)"
   ]
  },
  {
   "cell_type": "code",
   "execution_count": 331,
   "metadata": {},
   "outputs": [],
   "source": [
    "def objective(trial):\n",
    "    alpha=trial.suggest_float('alpha',.001,1,log=True)\n",
    "    l1_ratio=trial.suggest_float('l1_ratio',.1,1,log=True)\n",
    "    max_iter=trial.suggest_int('max_iter',1000,10000)\n",
    "    model=ElasticNet(alpha=alpha,\n",
    "    l1_ratio=l1_ratio,\n",
    "    max_iter=max_iter\n",
    "    )\n",
    "    model.fit(x_trian,y_train)\n",
    "    p=model.predict(x_test)\n",
    "    v=r2_score(y_test,p)\n",
    "    return v"
   ]
  },
  {
   "cell_type": "code",
   "execution_count": 332,
   "metadata": {},
   "outputs": [
    {
     "name": "stderr",
     "output_type": "stream",
     "text": [
      "[I 2024-04-19 06:09:38,093] A new study created in memory with name: no-name-6d1f7371-557c-4396-b542-c7ad9f5e8751\n"
     ]
    }
   ],
   "source": [
    "study2=optuna.create_study(direction='maximize')"
   ]
  },
  {
   "cell_type": "code",
   "execution_count": 333,
   "metadata": {},
   "outputs": [
    {
     "name": "stderr",
     "output_type": "stream",
     "text": [
      "[I 2024-04-19 06:09:38,510] Trial 0 finished with value: 0.8142397471956252 and parameters: {'alpha': 0.004580022027769376, 'l1_ratio': 0.8328972239263743, 'max_iter': 4952}. Best is trial 0 with value: 0.8142397471956252.\n",
      "[I 2024-04-19 06:09:38,513] Trial 1 finished with value: 0.8141554318340828 and parameters: {'alpha': 0.005240940378351492, 'l1_ratio': 0.9658276250664551, 'max_iter': 8276}. Best is trial 0 with value: 0.8142397471956252.\n",
      "[I 2024-04-19 06:09:38,519] Trial 2 finished with value: 0.7146277471392433 and parameters: {'alpha': 0.11094315704316657, 'l1_ratio': 0.378396831949797, 'max_iter': 2278}. Best is trial 0 with value: 0.8142397471956252.\n",
      "[I 2024-04-19 06:09:38,523] Trial 3 finished with value: 0.8136609571744884 and parameters: {'alpha': 0.013004843225450816, 'l1_ratio': 0.6805707993772827, 'max_iter': 8448}. Best is trial 0 with value: 0.8142397471956252.\n",
      "[I 2024-04-19 06:09:38,527] Trial 4 finished with value: 0.8141938782789391 and parameters: {'alpha': 0.0010474109783139066, 'l1_ratio': 0.6211403429734746, 'max_iter': 3121}. Best is trial 0 with value: 0.8142397471956252.\n",
      "[I 2024-04-19 06:09:38,530] Trial 5 finished with value: 0.8109007818649485 and parameters: {'alpha': 0.009878787883251118, 'l1_ratio': 0.13181915313542492, 'max_iter': 5302}. Best is trial 0 with value: 0.8142397471956252.\n",
      "[I 2024-04-19 06:09:38,534] Trial 6 finished with value: 0.5736603878036771 and parameters: {'alpha': 0.17969901224112156, 'l1_ratio': 0.11555498944345385, 'max_iter': 4667}. Best is trial 0 with value: 0.8142397471956252.\n",
      "[I 2024-04-19 06:09:38,539] Trial 7 finished with value: 0.5747439178948514 and parameters: {'alpha': 0.19016820475253968, 'l1_ratio': 0.16852677337217908, 'max_iter': 6503}. Best is trial 0 with value: 0.8142397471956252.\n",
      "[I 2024-04-19 06:09:38,543] Trial 8 finished with value: 0.813377997545065 and parameters: {'alpha': 0.0053840485152297215, 'l1_ratio': 0.10814776895193454, 'max_iter': 6627}. Best is trial 0 with value: 0.8142397471956252.\n",
      "[I 2024-04-19 06:09:38,547] Trial 9 finished with value: 0.4154372912542086 and parameters: {'alpha': 0.6920490868796731, 'l1_ratio': 0.5426656331313541, 'max_iter': 2965}. Best is trial 0 with value: 0.8142397471956252.\n",
      "[I 2024-04-19 06:09:38,561] Trial 10 finished with value: 0.8142474679183274 and parameters: {'alpha': 0.0011366764400959181, 'l1_ratio': 0.24130716709794517, 'max_iter': 9985}. Best is trial 10 with value: 0.8142474679183274.\n",
      "[I 2024-04-19 06:09:38,574] Trial 11 finished with value: 0.8142422870426256 and parameters: {'alpha': 0.0010468947903359395, 'l1_ratio': 0.238566103203796, 'max_iter': 9977}. Best is trial 10 with value: 0.8142474679183274.\n",
      "[I 2024-04-19 06:09:38,587] Trial 12 finished with value: 0.8142440244926563 and parameters: {'alpha': 0.0010816263548193217, 'l1_ratio': 0.24373736004882043, 'max_iter': 9730}. Best is trial 10 with value: 0.8142474679183274.\n",
      "[I 2024-04-19 06:09:38,591] Trial 13 finished with value: 0.8142594893029943 and parameters: {'alpha': 0.002054433225189984, 'l1_ratio': 0.26413378682288596, 'max_iter': 10000}. Best is trial 13 with value: 0.8142594893029943.\n",
      "[I 2024-04-19 06:09:38,612] Trial 14 finished with value: 0.8142522646076282 and parameters: {'alpha': 0.002662581975619081, 'l1_ratio': 0.37475704624682105, 'max_iter': 8380}. Best is trial 13 with value: 0.8142594893029943.\n",
      "[I 2024-04-19 06:09:38,627] Trial 15 finished with value: 0.8051844860844702 and parameters: {'alpha': 0.024778274726769627, 'l1_ratio': 0.42390685279749596, 'max_iter': 8272}. Best is trial 13 with value: 0.8142594893029943.\n",
      "[I 2024-04-19 06:09:38,640] Trial 16 finished with value: 0.8142168201247624 and parameters: {'alpha': 0.00303456717713667, 'l1_ratio': 0.3217509424940492, 'max_iter': 7054}. Best is trial 13 with value: 0.8142594893029943.\n",
      "[I 2024-04-19 06:09:38,647] Trial 17 finished with value: 0.7569061019006476 and parameters: {'alpha': 0.05560651144590554, 'l1_ratio': 0.18699121758254486, 'max_iter': 8829}. Best is trial 13 with value: 0.8142594893029943.\n",
      "[I 2024-04-19 06:09:38,658] Trial 18 finished with value: 0.8142628974460224 and parameters: {'alpha': 0.002502984664139938, 'l1_ratio': 0.4528885260370443, 'max_iter': 7629}. Best is trial 18 with value: 0.8142628974460224.\n",
      "[I 2024-04-19 06:09:38,674] Trial 19 finished with value: 0.8113614448822195 and parameters: {'alpha': 0.015927133144358202, 'l1_ratio': 0.4978542205812054, 'max_iter': 1003}. Best is trial 18 with value: 0.8142628974460224.\n",
      "[I 2024-04-19 06:09:38,692] Trial 20 finished with value: 0.8142506374656294 and parameters: {'alpha': 0.0023735873677408624, 'l1_ratio': 0.2876332811497878, 'max_iter': 7507}. Best is trial 18 with value: 0.8142628974460224.\n",
      "[I 2024-04-19 06:09:38,706] Trial 21 finished with value: 0.8142619954141377 and parameters: {'alpha': 0.00233024361380321, 'l1_ratio': 0.38923164105867997, 'max_iter': 9095}. Best is trial 18 with value: 0.8142628974460224.\n",
      "[I 2024-04-19 06:09:38,721] Trial 22 finished with value: 0.8142615992912913 and parameters: {'alpha': 0.002122003774711442, 'l1_ratio': 0.45736079238504657, 'max_iter': 9043}. Best is trial 18 with value: 0.8142628974460224.\n",
      "[I 2024-04-19 06:09:38,724] Trial 23 finished with value: 0.8137443871859297 and parameters: {'alpha': 0.007638984171999282, 'l1_ratio': 0.4845141544243939, 'max_iter': 9079}. Best is trial 18 with value: 0.8142628974460224.\n",
      "[I 2024-04-19 06:09:38,742] Trial 24 finished with value: 0.7937058774683903 and parameters: {'alpha': 0.03544226969136879, 'l1_ratio': 0.35358762173511316, 'max_iter': 7603}. Best is trial 18 with value: 0.8142628974460224.\n",
      "[I 2024-04-19 06:09:38,762] Trial 25 finished with value: 0.8142252887543833 and parameters: {'alpha': 0.0018702467765172662, 'l1_ratio': 0.664851106757363, 'max_iter': 9140}. Best is trial 18 with value: 0.8142628974460224.\n",
      "[I 2024-04-19 06:09:38,773] Trial 26 finished with value: 0.8141989360506792 and parameters: {'alpha': 0.0038981753905546848, 'l1_ratio': 0.43675235062470097, 'max_iter': 7665}. Best is trial 18 with value: 0.8142628974460224.\n",
      "[I 2024-04-19 06:09:38,792] Trial 27 finished with value: 0.8140530770578505 and parameters: {'alpha': 0.006962471914687965, 'l1_ratio': 0.5768579637028055, 'max_iter': 5861}. Best is trial 18 with value: 0.8142628974460224.\n",
      "[I 2024-04-19 06:09:38,805] Trial 28 finished with value: 0.8142567630649162 and parameters: {'alpha': 0.0017772565348298196, 'l1_ratio': 0.4284031081079288, 'max_iter': 9216}. Best is trial 18 with value: 0.8142628974460224.\n",
      "[I 2024-04-19 06:09:38,811] Trial 29 finished with value: 0.8142479665999961 and parameters: {'alpha': 0.0037824066676863696, 'l1_ratio': 0.7708734456877658, 'max_iter': 4425}. Best is trial 18 with value: 0.8142628974460224.\n",
      "[I 2024-04-19 06:09:38,823] Trial 30 finished with value: 0.8139877931952213 and parameters: {'alpha': 0.01647494121084141, 'l1_ratio': 0.8060431234266815, 'max_iter': 6097}. Best is trial 18 with value: 0.8142628974460224.\n",
      "[I 2024-04-19 06:09:38,842] Trial 31 finished with value: 0.8142628839396945 and parameters: {'alpha': 0.0019208416280362805, 'l1_ratio': 0.28810473294219996, 'max_iter': 9484}. Best is trial 18 with value: 0.8142628974460224.\n",
      "[I 2024-04-19 06:09:38,860] Trial 32 finished with value: 0.8142584294139766 and parameters: {'alpha': 0.0015486299853872804, 'l1_ratio': 0.3191938108632891, 'max_iter': 9379}. Best is trial 18 with value: 0.8142628974460224.\n",
      "[I 2024-04-19 06:09:38,875] Trial 33 finished with value: 0.8137506834560971 and parameters: {'alpha': 0.00487934804412369, 'l1_ratio': 0.1964700380498627, 'max_iter': 7977}. Best is trial 18 with value: 0.8142628974460224.\n",
      "[I 2024-04-19 06:09:38,891] Trial 34 finished with value: 0.8141906765413213 and parameters: {'alpha': 0.0035175413797897473, 'l1_ratio': 0.3596340670176697, 'max_iter': 8711}. Best is trial 18 with value: 0.8142628974460224.\n",
      "[I 2024-04-19 06:09:38,905] Trial 35 finished with value: 0.8135725284985189 and parameters: {'alpha': 0.008233315180303898, 'l1_ratio': 0.46941417071420016, 'max_iter': 7254}. Best is trial 18 with value: 0.8142628974460224.\n",
      "[I 2024-04-19 06:09:38,911] Trial 36 finished with value: 0.8142616576205887 and parameters: {'alpha': 0.0016312953839280318, 'l1_ratio': 0.2917740764507775, 'max_iter': 9460}. Best is trial 18 with value: 0.8142628974460224.\n",
      "[I 2024-04-19 06:09:38,925] Trial 37 finished with value: 0.8142551502079257 and parameters: {'alpha': 0.0013841181168681874, 'l1_ratio': 0.2890693623716444, 'max_iter': 8094}. Best is trial 18 with value: 0.8142628974460224.\n",
      "[I 2024-04-19 06:09:38,944] Trial 38 finished with value: 0.8133804084142116 and parameters: {'alpha': 0.006132145919996482, 'l1_ratio': 0.21777534363687134, 'max_iter': 9440}. Best is trial 18 with value: 0.8142628974460224.\n",
      "[I 2024-04-19 06:09:38,959] Trial 39 finished with value: 0.810137699328426 and parameters: {'alpha': 0.01116148696499559, 'l1_ratio': 0.151293102941969, 'max_iter': 8607}. Best is trial 18 with value: 0.8142628974460224.\n",
      "[I 2024-04-19 06:09:38,974] Trial 40 finished with value: 0.30989720477960203 and parameters: {'alpha': 0.7151652868313778, 'l1_ratio': 0.2980840416900266, 'max_iter': 7012}. Best is trial 18 with value: 0.8142628974460224.\n",
      "[I 2024-04-19 06:09:38,991] Trial 41 finished with value: 0.8142466656440726 and parameters: {'alpha': 0.002888924981589925, 'l1_ratio': 0.3944291664800354, 'max_iter': 9498}. Best is trial 18 with value: 0.8142628974460224.\n",
      "[I 2024-04-19 06:09:39,007] Trial 42 finished with value: 0.8142578321776084 and parameters: {'alpha': 0.001577868382264205, 'l1_ratio': 0.34091693133986645, 'max_iter': 8717}. Best is trial 18 with value: 0.8142628974460224.\n",
      "[I 2024-04-19 06:09:39,022] Trial 43 finished with value: 0.8142585506077566 and parameters: {'alpha': 0.0023064394083109774, 'l1_ratio': 0.542132122436304, 'max_iter': 7980}. Best is trial 18 with value: 0.8142628974460224.\n",
      "[I 2024-04-19 06:09:39,024] Trial 44 finished with value: 0.8140669548106286 and parameters: {'alpha': 0.004888110763392192, 'l1_ratio': 0.4090302807722532, 'max_iter': 9590}. Best is trial 18 with value: 0.8142628974460224.\n",
      "[I 2024-04-19 06:09:39,043] Trial 45 finished with value: 0.8141260267222297 and parameters: {'alpha': 0.0014761109716571134, 'l1_ratio': 0.971970234711498, 'max_iter': 8979}. Best is trial 18 with value: 0.8142628974460224.\n",
      "[I 2024-04-19 06:09:39,063] Trial 46 finished with value: 0.8142375949602564 and parameters: {'alpha': 0.001001697887993898, 'l1_ratio': 0.25641984161395354, 'max_iter': 8502}. Best is trial 18 with value: 0.8142628974460224.\n",
      "[I 2024-04-19 06:09:39,075] Trial 47 finished with value: 0.8142485052835626 and parameters: {'alpha': 0.0023236612799722037, 'l1_ratio': 0.6232005594725827, 'max_iter': 4056}. Best is trial 18 with value: 0.8142628974460224.\n",
      "[I 2024-04-19 06:09:39,092] Trial 48 finished with value: 0.7024756855443686 and parameters: {'alpha': 0.10499743551306717, 'l1_ratio': 0.27755525294482314, 'max_iter': 9724}. Best is trial 18 with value: 0.8142628974460224.\n",
      "[I 2024-04-19 06:09:39,113] Trial 49 finished with value: 0.4754486428350474 and parameters: {'alpha': 0.3148997254551747, 'l1_ratio': 0.21986854021313082, 'max_iter': 9074}. Best is trial 18 with value: 0.8142628974460224.\n",
      "[I 2024-04-19 06:09:39,126] Trial 50 finished with value: 0.8141972738334892 and parameters: {'alpha': 0.0035708686803688776, 'l1_ratio': 0.3818705404225229, 'max_iter': 5198}. Best is trial 18 with value: 0.8142628974460224.\n",
      "[I 2024-04-19 06:09:39,142] Trial 51 finished with value: 0.8142559683313317 and parameters: {'alpha': 0.002166873217996262, 'l1_ratio': 0.26353672097687625, 'max_iter': 9589}. Best is trial 18 with value: 0.8142628974460224.\n",
      "[I 2024-04-19 06:09:39,160] Trial 52 finished with value: 0.8142265301538112 and parameters: {'alpha': 0.0013785629740906131, 'l1_ratio': 0.53721172787801, 'max_iter': 9943}. Best is trial 18 with value: 0.8142628974460224.\n",
      "[I 2024-04-19 06:09:39,175] Trial 53 finished with value: 0.8142235744686399 and parameters: {'alpha': 0.002966212008504354, 'l1_ratio': 0.3257978299105942, 'max_iter': 9869}. Best is trial 18 with value: 0.8142628974460224.\n",
      "[I 2024-04-19 06:09:39,193] Trial 54 finished with value: 0.8142617995966297 and parameters: {'alpha': 0.001829958573731477, 'l1_ratio': 0.21809195593871974, 'max_iter': 8265}. Best is trial 18 with value: 0.8142628974460224.\n",
      "[I 2024-04-19 06:09:39,210] Trial 55 finished with value: 0.8142530188046294 and parameters: {'alpha': 0.0012116678970960776, 'l1_ratio': 0.2192441612490978, 'max_iter': 8264}. Best is trial 18 with value: 0.8142628974460224.\n",
      "[I 2024-04-19 06:09:39,225] Trial 56 finished with value: 0.8142524389725875 and parameters: {'alpha': 0.001993395104472914, 'l1_ratio': 0.16667608430882877, 'max_iter': 6710}. Best is trial 18 with value: 0.8142628974460224.\n",
      "[I 2024-04-19 06:09:39,244] Trial 57 finished with value: 0.8142596037488447 and parameters: {'alpha': 0.002799051282774448, 'l1_ratio': 0.4605875585867949, 'max_iter': 7812}. Best is trial 18 with value: 0.8142628974460224.\n",
      "[I 2024-04-19 06:09:39,259] Trial 58 finished with value: 0.8138686095127765 and parameters: {'alpha': 0.004403218457350177, 'l1_ratio': 0.1859416889865564, 'max_iter': 8906}. Best is trial 18 with value: 0.8142628974460224.\n",
      "[I 2024-04-19 06:09:39,276] Trial 59 finished with value: 0.8142446701188385 and parameters: {'alpha': 0.001694481709897984, 'l1_ratio': 0.5128583602597762, 'max_iter': 8281}. Best is trial 18 with value: 0.8142628974460224.\n",
      "[I 2024-04-19 06:09:39,294] Trial 60 finished with value: 0.8137590615490694 and parameters: {'alpha': 0.005605951682055856, 'l1_ratio': 0.304644867653857, 'max_iter': 8485}. Best is trial 18 with value: 0.8142628974460224.\n",
      "[I 2024-04-19 06:09:39,309] Trial 61 finished with value: 0.8142609945406303 and parameters: {'alpha': 0.0027673215943485444, 'l1_ratio': 0.4704465489272006, 'max_iter': 7845}. Best is trial 18 with value: 0.8142628974460224.\n",
      "[I 2024-04-19 06:09:39,326] Trial 62 finished with value: 0.814227039541539 and parameters: {'alpha': 0.0011665425234290041, 'l1_ratio': 0.4491148618522032, 'max_iter': 7218}. Best is trial 18 with value: 0.8142628974460224.\n",
      "[I 2024-04-19 06:09:39,344] Trial 63 finished with value: 0.8142411438146889 and parameters: {'alpha': 0.0019781022161075323, 'l1_ratio': 0.6041073233270212, 'max_iter': 9243}. Best is trial 18 with value: 0.8142628974460224.\n",
      "[I 2024-04-19 06:09:39,360] Trial 64 finished with value: 0.8142128720289907 and parameters: {'alpha': 0.003296906232242802, 'l1_ratio': 0.36591766389370767, 'max_iter': 8882}. Best is trial 18 with value: 0.8142628974460224.\n",
      "[I 2024-04-19 06:09:39,377] Trial 65 finished with value: 0.814257795195735 and parameters: {'alpha': 0.0026048341873858272, 'l1_ratio': 0.402534543992102, 'max_iter': 7541}. Best is trial 18 with value: 0.8142628974460224.\n",
      "[I 2024-04-19 06:09:39,393] Trial 66 finished with value: 0.8139916368096379 and parameters: {'alpha': 0.004196099887377811, 'l1_ratio': 0.2421732800964709, 'max_iter': 6227}. Best is trial 18 with value: 0.8142628974460224.\n",
      "[I 2024-04-19 06:09:39,409] Trial 67 finished with value: 0.8141870629828767 and parameters: {'alpha': 0.0012728766352535033, 'l1_ratio': 0.7215091803725223, 'max_iter': 8137}. Best is trial 18 with value: 0.8142628974460224.\n",
      "[I 2024-04-19 06:09:39,430] Trial 68 finished with value: 0.8142617781720458 and parameters: {'alpha': 0.0017621712602968133, 'l1_ratio': 0.3416100340246344, 'max_iter': 1545}. Best is trial 18 with value: 0.8142628974460224.\n",
      "[I 2024-04-19 06:09:39,442] Trial 69 finished with value: 0.8142633093583471 and parameters: {'alpha': 0.0019526308036015491, 'l1_ratio': 0.33946953106925937, 'max_iter': 2104}. Best is trial 69 with value: 0.8142633093583471.\n",
      "[I 2024-04-19 06:09:39,464] Trial 70 finished with value: 0.8142608930223708 and parameters: {'alpha': 0.0016909580964159497, 'l1_ratio': 0.3343299746433409, 'max_iter': 1618}. Best is trial 69 with value: 0.8142633093583471.\n",
      "[I 2024-04-19 06:09:39,488] Trial 71 finished with value: 0.814263278253367 and parameters: {'alpha': 0.0020345623929586953, 'l1_ratio': 0.35255009769261997, 'max_iter': 2505}. Best is trial 69 with value: 0.8142633093583471.\n",
      "[I 2024-04-19 06:09:39,507] Trial 72 finished with value: 0.8142633046447024 and parameters: {'alpha': 0.0018910103130590225, 'l1_ratio': 0.31149748560590473, 'max_iter': 2520}. Best is trial 69 with value: 0.8142633093583471.\n",
      "[I 2024-04-19 06:09:39,528] Trial 73 finished with value: 0.814263307174732 and parameters: {'alpha': 0.001976185218355007, 'l1_ratio': 0.3489041073899055, 'max_iter': 2785}. Best is trial 69 with value: 0.8142633093583471.\n",
      "[I 2024-04-19 06:09:39,546] Trial 74 finished with value: 0.8142252797802775 and parameters: {'alpha': 0.001004912520324159, 'l1_ratio': 0.37577904073495777, 'max_iter': 2827}. Best is trial 69 with value: 0.8142633093583471.\n",
      "[I 2024-04-19 06:09:39,565] Trial 75 finished with value: 0.8142556634335746 and parameters: {'alpha': 0.002325334657699378, 'l1_ratio': 0.310974052665922, 'max_iter': 2246}. Best is trial 69 with value: 0.8142633093583471.\n",
      "[I 2024-04-19 06:09:39,575] Trial 76 finished with value: 0.8142132296679973 and parameters: {'alpha': 0.0035913824130464197, 'l1_ratio': 0.4186711380848718, 'max_iter': 3445}. Best is trial 69 with value: 0.8142633093583471.\n",
      "[I 2024-04-19 06:09:39,605] Trial 77 finished with value: 0.7778023650565352 and parameters: {'alpha': 0.045403876996011894, 'l1_ratio': 0.2725593392572021, 'max_iter': 2522}. Best is trial 69 with value: 0.8142633093583471.\n",
      "[I 2024-04-19 06:09:39,624] Trial 78 finished with value: 0.8136642010646392 and parameters: {'alpha': 0.006481582217574283, 'l1_ratio': 0.3604225139809828, 'max_iter': 3465}. Best is trial 69 with value: 0.8142633093583471.\n",
      "[I 2024-04-19 06:09:39,644] Trial 79 finished with value: 0.814252037967303 and parameters: {'alpha': 0.0013490828949667142, 'l1_ratio': 0.310909644564239, 'max_iter': 2048}. Best is trial 69 with value: 0.8142633093583471.\n",
      "[I 2024-04-19 06:09:39,667] Trial 80 finished with value: 0.8142599852453658 and parameters: {'alpha': 0.002006338741837213, 'l1_ratio': 0.2537928372726729, 'max_iter': 1831}. Best is trial 69 with value: 0.8142633093583471.\n",
      "[I 2024-04-19 06:09:39,687] Trial 81 finished with value: 0.8142583667856522 and parameters: {'alpha': 0.0016033630323289585, 'l1_ratio': 0.34345305638377627, 'max_iter': 1414}. Best is trial 69 with value: 0.8142633093583471.\n",
      "[I 2024-04-19 06:09:39,707] Trial 82 finished with value: 0.8142623522095198 and parameters: {'alpha': 0.001950303627792556, 'l1_ratio': 0.3908802553664404, 'max_iter': 1175}. Best is trial 69 with value: 0.8142633093583471.\n",
      "[I 2024-04-19 06:09:39,730] Trial 83 finished with value: 0.8142289287377621 and parameters: {'alpha': 0.003200411812790506, 'l1_ratio': 0.390641473888315, 'max_iter': 1178}. Best is trial 69 with value: 0.8142633093583471.\n",
      "[I 2024-04-19 06:09:39,749] Trial 84 finished with value: 0.8142622539144887 and parameters: {'alpha': 0.002496081327418072, 'l1_ratio': 0.4347968880148878, 'max_iter': 2794}. Best is trial 69 with value: 0.8142633093583471.\n",
      "[I 2024-04-19 06:09:39,772] Trial 85 finished with value: 0.8066430481082352 and parameters: {'alpha': 0.022791078857242263, 'l1_ratio': 0.430330625452851, 'max_iter': 2673}. Best is trial 69 with value: 0.8142633093583471.\n",
      "[I 2024-04-19 06:09:39,794] Trial 86 finished with value: 0.8131146754869543 and parameters: {'alpha': 0.00899511185662445, 'l1_ratio': 0.407778887441553, 'max_iter': 3331}. Best is trial 69 with value: 0.8142633093583471.\n",
      "[I 2024-04-19 06:09:39,814] Trial 87 finished with value: 0.8142358535021637 and parameters: {'alpha': 0.0026174631018627127, 'l1_ratio': 0.28192821277240665, 'max_iter': 3113}. Best is trial 69 with value: 0.8142633093583471.\n",
      "[I 2024-04-19 06:09:39,824] Trial 88 finished with value: 0.8142111573733252 and parameters: {'alpha': 0.004336705726857506, 'l1_ratio': 0.5147101257230258, 'max_iter': 2412}. Best is trial 69 with value: 0.8142633093583471.\n",
      "[I 2024-04-19 06:09:39,856] Trial 89 finished with value: 0.8142521861452694 and parameters: {'alpha': 0.001386287343875477, 'l1_ratio': 0.32770065624557904, 'max_iter': 3871}. Best is trial 69 with value: 0.8142633093583471.\n",
      "[I 2024-04-19 06:09:39,878] Trial 90 finished with value: 0.814262869356768 and parameters: {'alpha': 0.0024387287072019006, 'l1_ratio': 0.437674721856637, 'max_iter': 2046}. Best is trial 69 with value: 0.8142633093583471.\n",
      "[I 2024-04-19 06:09:39,892] Trial 91 finished with value: 0.8142633161343658 and parameters: {'alpha': 0.0025438784156783844, 'l1_ratio': 0.48274380767581343, 'max_iter': 2079}. Best is trial 91 with value: 0.8142633161343658.\n",
      "[I 2024-04-19 06:09:39,908] Trial 92 finished with value: 0.8142632838643427 and parameters: {'alpha': 0.0025281844284043018, 'l1_ratio': 0.498724577292062, 'max_iter': 1995}. Best is trial 91 with value: 0.8142633161343658.\n",
      "[I 2024-04-19 06:09:39,946] Trial 93 finished with value: 0.814255426489365 and parameters: {'alpha': 0.0031474043237884916, 'l1_ratio': 0.48912331505286505, 'max_iter': 2097}. Best is trial 91 with value: 0.8142633161343658.\n",
      "[I 2024-04-19 06:09:39,967] Trial 94 finished with value: 0.8142529965314435 and parameters: {'alpha': 0.0021535886556176896, 'l1_ratio': 0.5614136557437543, 'max_iter': 1903}. Best is trial 91 with value: 0.8142633161343658.\n",
      "[I 2024-04-19 06:09:39,991] Trial 95 finished with value: 0.8139568349316498 and parameters: {'alpha': 0.005120118144258432, 'l1_ratio': 0.35513641209576857, 'max_iter': 1296}. Best is trial 91 with value: 0.8142633161343658.\n",
      "[I 2024-04-19 06:09:40,014] Trial 96 finished with value: 0.7604813589876731 and parameters: {'alpha': 0.08743502201573988, 'l1_ratio': 0.5062878004149398, 'max_iter': 1744}. Best is trial 91 with value: 0.8142633161343658.\n",
      "[I 2024-04-19 06:09:40,038] Trial 97 finished with value: 0.8141695439448499 and parameters: {'alpha': 0.0038080301705269003, 'l1_ratio': 0.37350497614284145, 'max_iter': 2267}. Best is trial 91 with value: 0.8142633161343658.\n",
      "[I 2024-04-19 06:09:40,060] Trial 98 finished with value: 0.8142584020036517 and parameters: {'alpha': 0.0019252309784640604, 'l1_ratio': 0.45304734332240176, 'max_iter': 2545}. Best is trial 91 with value: 0.8142633161343658.\n",
      "[I 2024-04-19 06:09:40,082] Trial 99 finished with value: 0.8142370295863046 and parameters: {'alpha': 0.001201966859471382, 'l1_ratio': 0.38540092341002574, 'max_iter': 1064}. Best is trial 91 with value: 0.8142633161343658.\n"
     ]
    }
   ],
   "source": [
    "study2.optimize(objective,n_trials=100)"
   ]
  },
  {
   "cell_type": "code",
   "execution_count": 334,
   "metadata": {},
   "outputs": [
    {
     "data": {
      "text/plain": [
       "0.8142633161343658"
      ]
     },
     "execution_count": 334,
     "metadata": {},
     "output_type": "execute_result"
    }
   ],
   "source": [
    "study2.best_value"
   ]
  },
  {
   "cell_type": "code",
   "execution_count": 335,
   "metadata": {},
   "outputs": [
    {
     "data": {
      "text/plain": [
       "{'alpha': 0.0025438784156783844,\n",
       " 'l1_ratio': 0.48274380767581343,\n",
       " 'max_iter': 2079}"
      ]
     },
     "execution_count": 335,
     "metadata": {},
     "output_type": "execute_result"
    }
   ],
   "source": [
    "study2.best_params"
   ]
  },
  {
   "cell_type": "code",
   "execution_count": 336,
   "metadata": {},
   "outputs": [],
   "source": [
    "from sklearn.ensemble import RandomForestRegressor"
   ]
  },
  {
   "cell_type": "code",
   "execution_count": 337,
   "metadata": {},
   "outputs": [],
   "source": [
    "r=RandomForestRegressor()"
   ]
  },
  {
   "cell_type": "code",
   "execution_count": 338,
   "metadata": {},
   "outputs": [
    {
     "data": {
      "text/plain": [
       "0.8881483970517412"
      ]
     },
     "execution_count": 338,
     "metadata": {},
     "output_type": "execute_result"
    }
   ],
   "source": [
    "r.fit(x_trian,y_train)\n",
    "p=r.predict(x_test)\n",
    "r2_score(y_test,p)"
   ]
  },
  {
   "cell_type": "code",
   "execution_count": 340,
   "metadata": {},
   "outputs": [],
   "source": [
    "def objective(trial):\n",
    "    criterion=trial.suggest_categorical('criterion',['squared_error','absolute_error','poisson'])\n",
    "    max_depth=trial.suggest_int('max_depth',1,100)\n",
    "    ccp_alpha=trial.suggest_float('ccp_alpha',0.1,100,log=True)\n",
    "    n_estimators=trial.suggest_int('n_estimators',100,1000)\n",
    "    model=RandomForestRegressor(n_estimators=n_estimators,\n",
    "    max_depth=max_depth,\n",
    "    ccp_alpha=ccp_alpha,\n",
    "    criterion=criterion,\n",
    "    oob_score=True,\n",
    "    n_jobs=-1\n",
    "    )\n",
    "    model.fit(x_trian,y_train)\n",
    "    p=model.predict(x_test)\n",
    "    v=r2_score(y_test,p)\n",
    "    return v"
   ]
  },
  {
   "cell_type": "code",
   "execution_count": 341,
   "metadata": {},
   "outputs": [
    {
     "name": "stderr",
     "output_type": "stream",
     "text": [
      "[I 2024-04-19 06:16:23,462] A new study created in memory with name: no-name-9b32ece5-cf7a-47ea-bcb4-de3947ca21eb\n"
     ]
    }
   ],
   "source": [
    "study3=optuna.create_study(direction='maximize')"
   ]
  },
  {
   "cell_type": "code",
   "execution_count": 342,
   "metadata": {},
   "outputs": [
    {
     "name": "stderr",
     "output_type": "stream",
     "text": [
      "[I 2024-04-19 06:16:40,120] Trial 0 finished with value: 0.896485394302775 and parameters: {'criterion': 'poisson', 'max_depth': 20, 'ccp_alpha': 5.691503146517383, 'n_estimators': 835}. Best is trial 0 with value: 0.896485394302775.\n",
      "[I 2024-04-19 06:16:41,077] Trial 1 finished with value: 0.9139737137335244 and parameters: {'criterion': 'absolute_error', 'max_depth': 15, 'ccp_alpha': 13.570414270271586, 'n_estimators': 362}. Best is trial 1 with value: 0.9139737137335244.\n",
      "[I 2024-04-19 06:16:42,868] Trial 2 finished with value: 0.8850609599779329 and parameters: {'criterion': 'absolute_error', 'max_depth': 13, 'ccp_alpha': 1.8980920499362341, 'n_estimators': 730}. Best is trial 1 with value: 0.9139737137335244.\n",
      "[I 2024-04-19 06:16:43,095] Trial 3 finished with value: 0.8839189927602569 and parameters: {'criterion': 'squared_error', 'max_depth': 40, 'ccp_alpha': 2.1481650346135375, 'n_estimators': 139}. Best is trial 1 with value: 0.9139737137335244.\n",
      "[I 2024-04-19 06:16:44,433] Trial 4 finished with value: 0.8937370289478395 and parameters: {'criterion': 'poisson', 'max_depth': 82, 'ccp_alpha': 69.31426228108003, 'n_estimators': 935}. Best is trial 1 with value: 0.9139737137335244.\n",
      "[I 2024-04-19 06:16:45,837] Trial 5 finished with value: 0.8878702251559484 and parameters: {'criterion': 'poisson', 'max_depth': 82, 'ccp_alpha': 1.4643948484805565, 'n_estimators': 956}. Best is trial 1 with value: 0.9139737137335244.\n",
      "[I 2024-04-19 06:16:46,985] Trial 6 finished with value: 0.9010079771239482 and parameters: {'criterion': 'poisson', 'max_depth': 34, 'ccp_alpha': 28.77032768520441, 'n_estimators': 776}. Best is trial 1 with value: 0.9139737137335244.\n",
      "[I 2024-04-19 06:16:47,451] Trial 7 finished with value: 0.8873027889084548 and parameters: {'criterion': 'poisson', 'max_depth': 69, 'ccp_alpha': 0.2718970163268517, 'n_estimators': 313}. Best is trial 1 with value: 0.9139737137335244.\n",
      "[I 2024-04-19 06:16:48,700] Trial 8 finished with value: 0.8855218160875116 and parameters: {'criterion': 'squared_error', 'max_depth': 66, 'ccp_alpha': 1.133095174226792, 'n_estimators': 859}. Best is trial 1 with value: 0.9139737137335244.\n",
      "[I 2024-04-19 06:16:50,319] Trial 9 finished with value: 0.8866479127985838 and parameters: {'criterion': 'absolute_error', 'max_depth': 58, 'ccp_alpha': 0.5626649858877414, 'n_estimators': 555}. Best is trial 1 with value: 0.9139737137335244.\n",
      "[I 2024-04-19 06:16:51,041] Trial 10 finished with value: 0.9162778398645655 and parameters: {'criterion': 'absolute_error', 'max_depth': 3, 'ccp_alpha': 10.12740493933125, 'n_estimators': 401}. Best is trial 10 with value: 0.9162778398645655.\n",
      "[I 2024-04-19 06:16:51,910] Trial 11 finished with value: 0.922094753403639 and parameters: {'criterion': 'absolute_error', 'max_depth': 4, 'ccp_alpha': 9.81641754131339, 'n_estimators': 429}. Best is trial 11 with value: 0.922094753403639.\n",
      "[I 2024-04-19 06:16:52,872] Trial 12 finished with value: 0.9248129266518381 and parameters: {'criterion': 'absolute_error', 'max_depth': 5, 'ccp_alpha': 8.449900011425743, 'n_estimators': 484}. Best is trial 12 with value: 0.9248129266518381.\n",
      "[I 2024-04-19 06:16:53,654] Trial 13 finished with value: 0.7036325636876557 and parameters: {'criterion': 'absolute_error', 'max_depth': 1, 'ccp_alpha': 28.545781666503505, 'n_estimators': 536}. Best is trial 12 with value: 0.9248129266518381.\n",
      "[I 2024-04-19 06:16:55,238] Trial 14 finished with value: 0.8914771813267837 and parameters: {'criterion': 'absolute_error', 'max_depth': 30, 'ccp_alpha': 5.450857468892127, 'n_estimators': 590}. Best is trial 12 with value: 0.9248129266518381.\n",
      "[I 2024-04-19 06:16:55,838] Trial 15 finished with value: 0.9167780082111937 and parameters: {'criterion': 'absolute_error', 'max_depth': 47, 'ccp_alpha': 86.30843770261787, 'n_estimators': 218}. Best is trial 12 with value: 0.9248129266518381.\n",
      "[I 2024-04-19 06:16:56,571] Trial 16 finished with value: 0.8857480694458191 and parameters: {'criterion': 'squared_error', 'max_depth': 98, 'ccp_alpha': 21.491753171051197, 'n_estimators': 485}. Best is trial 12 with value: 0.9248129266518381.\n",
      "[I 2024-04-19 06:16:58,336] Trial 17 finished with value: 0.8889253924568888 and parameters: {'criterion': 'absolute_error', 'max_depth': 25, 'ccp_alpha': 4.448123639940911, 'n_estimators': 655}. Best is trial 12 with value: 0.9248129266518381.\n",
      "[I 2024-04-19 06:16:59,317] Trial 18 finished with value: 0.9084040105584976 and parameters: {'criterion': 'absolute_error', 'max_depth': 8, 'ccp_alpha': 0.183454433072769, 'n_estimators': 414}. Best is trial 12 with value: 0.9248129266518381.\n",
      "[I 2024-04-19 06:17:00,027] Trial 19 finished with value: 0.905120811061039 and parameters: {'criterion': 'absolute_error', 'max_depth': 20, 'ccp_alpha': 9.198203931436318, 'n_estimators': 264}. Best is trial 12 with value: 0.9248129266518381.\n",
      "[I 2024-04-19 06:17:00,203] Trial 20 finished with value: 0.885822894823022 and parameters: {'criterion': 'squared_error', 'max_depth': 39, 'ccp_alpha': 47.58691649503245, 'n_estimators': 101}. Best is trial 12 with value: 0.9248129266518381.\n",
      "[I 2024-04-19 06:17:00,745] Trial 21 finished with value: 0.9165410023225099 and parameters: {'criterion': 'absolute_error', 'max_depth': 48, 'ccp_alpha': 85.0805056148229, 'n_estimators': 196}. Best is trial 12 with value: 0.9248129266518381.\n",
      "[I 2024-04-19 06:17:01,328] Trial 22 finished with value: 0.918926951711175 and parameters: {'criterion': 'absolute_error', 'max_depth': 53, 'ccp_alpha': 17.016574632176532, 'n_estimators': 215}. Best is trial 12 with value: 0.9248129266518381.\n",
      "[I 2024-04-19 06:17:02,619] Trial 23 finished with value: 0.9209856685161241 and parameters: {'criterion': 'absolute_error', 'max_depth': 53, 'ccp_alpha': 19.862496164237303, 'n_estimators': 489}. Best is trial 12 with value: 0.9248129266518381.\n",
      "[I 2024-04-19 06:17:03,799] Trial 24 finished with value: 0.9009330178371013 and parameters: {'criterion': 'absolute_error', 'max_depth': 10, 'ccp_alpha': 7.939121237946835, 'n_estimators': 472}. Best is trial 12 with value: 0.9248129266518381.\n",
      "[I 2024-04-19 06:17:05,420] Trial 25 finished with value: 0.886841073908383 and parameters: {'criterion': 'absolute_error', 'max_depth': 65, 'ccp_alpha': 3.641340407149968, 'n_estimators': 617}. Best is trial 12 with value: 0.9248129266518381.\n",
      "[I 2024-04-19 06:17:06,641] Trial 26 finished with value: 0.9215082267101251 and parameters: {'criterion': 'absolute_error', 'max_depth': 21, 'ccp_alpha': 39.48783424380995, 'n_estimators': 463}. Best is trial 12 with value: 0.9248129266518381.\n",
      "[I 2024-04-19 06:17:07,129] Trial 27 finished with value: 0.7043789116165253 and parameters: {'criterion': 'absolute_error', 'max_depth': 1, 'ccp_alpha': 41.041204596798025, 'n_estimators': 330}. Best is trial 12 with value: 0.9248129266518381.\n",
      "[I 2024-04-19 06:17:07,769] Trial 28 finished with value: 0.8852415534783705 and parameters: {'criterion': 'squared_error', 'max_depth': 21, 'ccp_alpha': 45.70491404592113, 'n_estimators': 436}. Best is trial 12 with value: 0.9248129266518381.\n",
      "[I 2024-04-19 06:17:09,502] Trial 29 finished with value: 0.8952195683940005 and parameters: {'criterion': 'absolute_error', 'max_depth': 26, 'ccp_alpha': 6.7825051198377375, 'n_estimators': 639}. Best is trial 12 with value: 0.9248129266518381.\n",
      "[I 2024-04-19 06:17:10,520] Trial 30 finished with value: 0.9047346934532944 and parameters: {'criterion': 'poisson', 'max_depth': 16, 'ccp_alpha': 12.339580762623676, 'n_estimators': 703}. Best is trial 12 with value: 0.9248129266518381.\n",
      "[I 2024-04-19 06:17:11,780] Trial 31 finished with value: 0.9219746109873226 and parameters: {'criterion': 'absolute_error', 'max_depth': 9, 'ccp_alpha': 23.583553536661903, 'n_estimators': 534}. Best is trial 12 with value: 0.9248129266518381.\n",
      "[I 2024-04-19 06:17:13,007] Trial 32 finished with value: 0.9228084500346507 and parameters: {'criterion': 'absolute_error', 'max_depth': 8, 'ccp_alpha': 29.060526303715815, 'n_estimators': 536}. Best is trial 12 with value: 0.9248129266518381.\n",
      "[I 2024-04-19 06:17:14,205] Trial 33 finished with value: 0.9178959499977398 and parameters: {'criterion': 'absolute_error', 'max_depth': 8, 'ccp_alpha': 14.096184843921423, 'n_estimators': 514}. Best is trial 12 with value: 0.9248129266518381.\n",
      "[I 2024-04-19 06:17:15,226] Trial 34 finished with value: 0.884364695593015 and parameters: {'criterion': 'absolute_error', 'max_depth': 14, 'ccp_alpha': 2.535895478089005, 'n_estimators': 373}. Best is trial 12 with value: 0.9248129266518381.\n",
      "[I 2024-04-19 06:17:16,424] Trial 35 finished with value: 0.9230416889381065 and parameters: {'criterion': 'absolute_error', 'max_depth': 6, 'ccp_alpha': 23.693752451091886, 'n_estimators': 567}. Best is trial 12 with value: 0.9248129266518381.\n",
      "[I 2024-04-19 06:17:17,856] Trial 36 finished with value: 0.9218140180165488 and parameters: {'criterion': 'absolute_error', 'max_depth': 6, 'ccp_alpha': 13.491636819691525, 'n_estimators': 691}. Best is trial 12 with value: 0.9248129266518381.\n",
      "[I 2024-04-19 06:17:18,710] Trial 37 finished with value: 0.8973560342809379 and parameters: {'criterion': 'poisson', 'max_depth': 15, 'ccp_alpha': 5.886289139588099, 'n_estimators': 584}. Best is trial 12 with value: 0.9248129266518381.\n",
      "[I 2024-04-19 06:17:20,718] Trial 38 finished with value: 0.9184781823902773 and parameters: {'criterion': 'absolute_error', 'max_depth': 13, 'ccp_alpha': 63.63633217514593, 'n_estimators': 774}. Best is trial 12 with value: 0.9248129266518381.\n",
      "[I 2024-04-19 06:17:21,230] Trial 39 finished with value: 0.885060895277493 and parameters: {'criterion': 'squared_error', 'max_depth': 33, 'ccp_alpha': 31.48754398948742, 'n_estimators': 341}. Best is trial 12 with value: 0.9248129266518381.\n",
      "[I 2024-04-19 06:17:21,715] Trial 40 finished with value: 0.9173638297155715 and parameters: {'criterion': 'poisson', 'max_depth': 4, 'ccp_alpha': 1.508887623424107, 'n_estimators': 381}. Best is trial 12 with value: 0.9248129266518381.\n",
      "[I 2024-04-19 06:17:23,100] Trial 41 finished with value: 0.92218016967495 and parameters: {'criterion': 'absolute_error', 'max_depth': 11, 'ccp_alpha': 24.271756115017453, 'n_estimators': 552}. Best is trial 12 with value: 0.9248129266518381.\n",
      "[I 2024-04-19 06:17:24,258] Trial 42 finished with value: 0.9093106107656256 and parameters: {'criterion': 'absolute_error', 'max_depth': 17, 'ccp_alpha': 10.629739012475303, 'n_estimators': 436}. Best is trial 12 with value: 0.9248129266518381.\n",
      "[I 2024-04-19 06:17:25,713] Trial 43 finished with value: 0.9185852313198528 and parameters: {'criterion': 'absolute_error', 'max_depth': 12, 'ccp_alpha': 16.732376814730156, 'n_estimators': 562}. Best is trial 12 with value: 0.9248129266518381.\n",
      "[I 2024-04-19 06:17:26,605] Trial 44 finished with value: 0.7041548783415119 and parameters: {'criterion': 'absolute_error', 'max_depth': 1, 'ccp_alpha': 26.587905442699714, 'n_estimators': 622}. Best is trial 12 with value: 0.9248129266518381.\n",
      "[I 2024-04-19 06:17:27,956] Trial 45 finished with value: 0.9187977416118915 and parameters: {'criterion': 'absolute_error', 'max_depth': 27, 'ccp_alpha': 63.449811749418124, 'n_estimators': 512}. Best is trial 12 with value: 0.9248129266518381.\n",
      "[I 2024-04-19 06:17:28,551] Trial 46 finished with value: 0.9221604263680949 and parameters: {'criterion': 'absolute_error', 'max_depth': 6, 'ccp_alpha': 0.8585794092528924, 'n_estimators': 278}. Best is trial 12 with value: 0.9248129266518381.\n",
      "[I 2024-04-19 06:17:29,141] Trial 47 finished with value: 0.9210320869780722 and parameters: {'criterion': 'absolute_error', 'max_depth': 6, 'ccp_alpha': 0.13221684945806772, 'n_estimators': 271}. Best is trial 12 with value: 0.9248129266518381.\n",
      "[I 2024-04-19 06:17:31,429] Trial 48 finished with value: 0.8855032800823697 and parameters: {'criterion': 'absolute_error', 'max_depth': 38, 'ccp_alpha': 0.4382058236595564, 'n_estimators': 861}. Best is trial 12 with value: 0.9248129266518381.\n",
      "[I 2024-04-19 06:17:32,522] Trial 49 finished with value: 0.8867302770674266 and parameters: {'criterion': 'poisson', 'max_depth': 22, 'ccp_alpha': 0.9379273926568071, 'n_estimators': 751}. Best is trial 12 with value: 0.9248129266518381.\n",
      "[I 2024-04-19 06:17:33,484] Trial 50 finished with value: 0.8857817458274294 and parameters: {'criterion': 'squared_error', 'max_depth': 18, 'ccp_alpha': 3.7107697118314427, 'n_estimators': 670}. Best is trial 12 with value: 0.9248129266518381.\n",
      "[I 2024-04-19 06:17:34,572] Trial 51 finished with value: 0.9212378385921867 and parameters: {'criterion': 'absolute_error', 'max_depth': 4, 'ccp_alpha': 33.9001988889887, 'n_estimators': 587}. Best is trial 12 with value: 0.9248129266518381.\n",
      "[I 2024-04-19 06:17:35,698] Trial 52 finished with value: 0.8863835644546365 and parameters: {'criterion': 'absolute_error', 'max_depth': 12, 'ccp_alpha': 0.6128941844100079, 'n_estimators': 437}. Best is trial 12 with value: 0.9248129266518381.\n",
      "[I 2024-04-19 06:17:36,369] Trial 53 finished with value: 0.9161387079173441 and parameters: {'criterion': 'absolute_error', 'max_depth': 7, 'ccp_alpha': 2.478265502415208, 'n_estimators': 301}. Best is trial 12 with value: 0.9248129266518381.\n",
      "[I 2024-04-19 06:17:37,733] Trial 54 finished with value: 0.896114620283183 and parameters: {'criterion': 'absolute_error', 'max_depth': 10, 'ccp_alpha': 4.669251510544343, 'n_estimators': 554}. Best is trial 12 with value: 0.9248129266518381.\n",
      "[I 2024-04-19 06:17:38,219] Trial 55 finished with value: 0.9209445949008999 and parameters: {'criterion': 'absolute_error', 'max_depth': 91, 'ccp_alpha': 18.885197202787683, 'n_estimators': 176}. Best is trial 12 with value: 0.9248129266518381.\n",
      "[I 2024-04-19 06:17:38,816] Trial 56 finished with value: 0.7031537559849765 and parameters: {'criterion': 'absolute_error', 'max_depth': 1, 'ccp_alpha': 9.259489750648317, 'n_estimators': 400}. Best is trial 12 with value: 0.9248129266518381.\n",
      "[I 2024-04-19 06:17:40,001] Trial 57 finished with value: 0.9251557636536936 and parameters: {'criterion': 'absolute_error', 'max_depth': 5, 'ccp_alpha': 0.31206905730411105, 'n_estimators': 599}. Best is trial 57 with value: 0.9251557636536936.\n",
      "[I 2024-04-19 06:17:41,180] Trial 58 finished with value: 0.9249779685734778 and parameters: {'criterion': 'absolute_error', 'max_depth': 5, 'ccp_alpha': 0.27916707278040065, 'n_estimators': 596}. Best is trial 57 with value: 0.9251557636536936.\n",
      "[I 2024-04-19 06:17:42,705] Trial 59 finished with value: 0.8889717527979253 and parameters: {'criterion': 'absolute_error', 'max_depth': 11, 'ccp_alpha': 0.1926540821647377, 'n_estimators': 605}. Best is trial 57 with value: 0.9251557636536936.\n",
      "[I 2024-04-19 06:17:43,444] Trial 60 finished with value: 0.8877742537864184 and parameters: {'criterion': 'squared_error', 'max_depth': 24, 'ccp_alpha': 0.40040870182478144, 'n_estimators': 514}. Best is trial 57 with value: 0.9251557636536936.\n",
      "[I 2024-04-19 06:17:44,717] Trial 61 finished with value: 0.9248439547487106 and parameters: {'criterion': 'absolute_error', 'max_depth': 5, 'ccp_alpha': 0.22340357614840958, 'n_estimators': 648}. Best is trial 57 with value: 0.9251557636536936.\n",
      "[I 2024-04-19 06:17:45,933] Trial 62 finished with value: 0.9220322329590624 and parameters: {'criterion': 'absolute_error', 'max_depth': 4, 'ccp_alpha': 0.2843506466316145, 'n_estimators': 655}. Best is trial 57 with value: 0.9251557636536936.\n",
      "[I 2024-04-19 06:17:47,779] Trial 63 finished with value: 0.8858000982673677 and parameters: {'criterion': 'absolute_error', 'max_depth': 19, 'ccp_alpha': 0.1265289728065518, 'n_estimators': 718}. Best is trial 57 with value: 0.9251557636536936.\n",
      "[I 2024-04-19 06:17:49,085] Trial 64 finished with value: 0.9003878634910664 and parameters: {'criterion': 'absolute_error', 'max_depth': 9, 'ccp_alpha': 0.15491440958949587, 'n_estimators': 554}. Best is trial 57 with value: 0.9251557636536936.\n",
      "[I 2024-04-19 06:17:50,387] Trial 65 finished with value: 0.8846818350817861 and parameters: {'criterion': 'absolute_error', 'max_depth': 77, 'ccp_alpha': 0.250837385851018, 'n_estimators': 489}. Best is trial 57 with value: 0.9251557636536936.\n",
      "[I 2024-04-19 06:17:52,002] Trial 66 finished with value: 0.8850240506808784 and parameters: {'criterion': 'absolute_error', 'max_depth': 15, 'ccp_alpha': 0.33232689569655677, 'n_estimators': 628}. Best is trial 57 with value: 0.9251557636536936.\n",
      "[I 2024-04-19 06:17:53,012] Trial 67 finished with value: 0.9165099011034197 and parameters: {'criterion': 'absolute_error', 'max_depth': 3, 'ccp_alpha': 0.2329011222507784, 'n_estimators': 580}. Best is trial 57 with value: 0.9251557636536936.\n",
      "[I 2024-04-19 06:17:54,016] Trial 68 finished with value: 0.8859421612796116 and parameters: {'criterion': 'poisson', 'max_depth': 43, 'ccp_alpha': 0.10011231867616152, 'n_estimators': 684}. Best is trial 57 with value: 0.9251557636536936.\n",
      "[I 2024-04-19 06:17:55,192] Trial 69 finished with value: 0.9155686696066907 and parameters: {'criterion': 'absolute_error', 'max_depth': 7, 'ccp_alpha': 0.5697367722024153, 'n_estimators': 538}. Best is trial 57 with value: 0.9251557636536936.\n",
      "[I 2024-04-19 06:17:56,428] Trial 70 finished with value: 0.9196657716878512 and parameters: {'criterion': 'absolute_error', 'max_depth': 30, 'ccp_alpha': 53.50880482437915, 'n_estimators': 469}. Best is trial 57 with value: 0.9251557636536936.\n",
      "[I 2024-04-19 06:17:57,778] Trial 71 finished with value: 0.9216324464583897 and parameters: {'criterion': 'absolute_error', 'max_depth': 6, 'ccp_alpha': 1.0189824122823967, 'n_estimators': 649}. Best is trial 57 with value: 0.9251557636536936.\n",
      "[I 2024-04-19 06:17:59,313] Trial 72 finished with value: 0.8861386176101528 and parameters: {'criterion': 'absolute_error', 'max_depth': 12, 'ccp_alpha': 0.6966218943855327, 'n_estimators': 600}. Best is trial 57 with value: 0.9251557636536936.\n",
      "[I 2024-04-19 06:18:00,125] Trial 73 finished with value: 0.7041468831021184 and parameters: {'criterion': 'absolute_error', 'max_depth': 1, 'ccp_alpha': 25.02582586598798, 'n_estimators': 567}. Best is trial 57 with value: 0.9251557636536936.\n",
      "[I 2024-04-19 06:18:01,859] Trial 74 finished with value: 0.8999708989152765 and parameters: {'criterion': 'absolute_error', 'max_depth': 9, 'ccp_alpha': 0.40981791641020493, 'n_estimators': 741}. Best is trial 57 with value: 0.9251557636536936.\n",
      "[I 2024-04-19 06:18:02,868] Trial 75 finished with value: 0.9250074897398965 and parameters: {'criterion': 'absolute_error', 'max_depth': 5, 'ccp_alpha': 0.2168656257162884, 'n_estimators': 513}. Best is trial 57 with value: 0.9251557636536936.\n",
      "[I 2024-04-19 06:18:04,163] Trial 76 finished with value: 0.8850619194534685 and parameters: {'criterion': 'absolute_error', 'max_depth': 15, 'ccp_alpha': 0.17710969587068517, 'n_estimators': 503}. Best is trial 57 with value: 0.9251557636536936.\n",
      "[I 2024-04-19 06:18:04,968] Trial 77 finished with value: 0.9162384182564522 and parameters: {'criterion': 'absolute_error', 'max_depth': 3, 'ccp_alpha': 15.42714210555724, 'n_estimators': 461}. Best is trial 57 with value: 0.9251557636536936.\n",
      "[I 2024-04-19 06:18:05,752] Trial 78 finished with value: 0.8851916532751386 and parameters: {'criterion': 'squared_error', 'max_depth': 17, 'ccp_alpha': 0.32511704553711707, 'n_estimators': 542}. Best is trial 57 with value: 0.9251557636536936.\n",
      "[I 2024-04-19 06:18:07,360] Trial 79 finished with value: 0.8853773560479645 and parameters: {'criterion': 'absolute_error', 'max_depth': 61, 'ccp_alpha': 0.2049077205449434, 'n_estimators': 619}. Best is trial 57 with value: 0.9251557636536936.\n",
      "[I 2024-04-19 06:18:08,703] Trial 80 finished with value: 0.8998387461468648 and parameters: {'criterion': 'absolute_error', 'max_depth': 13, 'ccp_alpha': 7.610527412844144, 'n_estimators': 518}. Best is trial 57 with value: 0.9251557636536936.\n",
      "[I 2024-04-19 06:18:10,319] Trial 81 finished with value: 0.9252159735542927 and parameters: {'criterion': 'absolute_error', 'max_depth': 5, 'ccp_alpha': 0.4778343227151153, 'n_estimators': 826}. Best is trial 81 with value: 0.9252159735542927.\n",
      "[I 2024-04-19 06:18:11,994] Trial 82 finished with value: 0.9252392102035409 and parameters: {'criterion': 'absolute_error', 'max_depth': 5, 'ccp_alpha': 0.4908856789310373, 'n_estimators': 841}. Best is trial 82 with value: 0.9252392102035409.\n",
      "[I 2024-04-19 06:18:13,658] Trial 83 finished with value: 0.9160507120009821 and parameters: {'criterion': 'absolute_error', 'max_depth': 3, 'ccp_alpha': 0.502698710249675, 'n_estimators': 922}. Best is trial 82 with value: 0.9252392102035409.\n",
      "[I 2024-04-19 06:18:15,310] Trial 84 finished with value: 0.9251087802524354 and parameters: {'criterion': 'absolute_error', 'max_depth': 5, 'ccp_alpha': 0.34382924247236607, 'n_estimators': 826}. Best is trial 82 with value: 0.9252392102035409.\n",
      "[I 2024-04-19 06:18:17,094] Trial 85 finished with value: 0.9253841955224508 and parameters: {'criterion': 'absolute_error', 'max_depth': 5, 'ccp_alpha': 0.3022712676783935, 'n_estimators': 900}. Best is trial 85 with value: 0.9253841955224508.\n",
      "[I 2024-04-19 06:18:18,123] Trial 86 finished with value: 0.9127530990699577 and parameters: {'criterion': 'poisson', 'max_depth': 5, 'ccp_alpha': 0.32651712005646566, 'n_estimators': 826}. Best is trial 85 with value: 0.9253841955224508.\n",
      "[I 2024-04-19 06:18:20,291] Trial 87 finished with value: 0.901491562533025 and parameters: {'criterion': 'absolute_error', 'max_depth': 9, 'ccp_alpha': 0.22018326545038827, 'n_estimators': 900}. Best is trial 85 with value: 0.9253841955224508.\n",
      "[I 2024-04-19 06:18:21,700] Trial 88 finished with value: 0.703786302326199 and parameters: {'criterion': 'absolute_error', 'max_depth': 1, 'ccp_alpha': 0.4666340315785434, 'n_estimators': 995}. Best is trial 85 with value: 0.9253841955224508.\n",
      "[I 2024-04-19 06:18:23,224] Trial 89 finished with value: 0.922149167522483 and parameters: {'criterion': 'absolute_error', 'max_depth': 4, 'ccp_alpha': 0.2934288212559226, 'n_estimators': 820}. Best is trial 85 with value: 0.9253841955224508.\n",
      "[I 2024-04-19 06:18:25,190] Trial 90 finished with value: 0.8938562070366323 and parameters: {'criterion': 'absolute_error', 'max_depth': 10, 'ccp_alpha': 0.17178607306333338, 'n_estimators': 797}. Best is trial 85 with value: 0.9253841955224508.\n",
      "[I 2024-04-19 06:18:27,337] Trial 91 finished with value: 0.9156821555854 and parameters: {'criterion': 'absolute_error', 'max_depth': 7, 'ccp_alpha': 0.731441906919856, 'n_estimators': 858}. Best is trial 85 with value: 0.9253841955224508.\n",
      "[I 2024-04-19 06:18:29,175] Trial 92 finished with value: 0.9216121837375263 and parameters: {'criterion': 'absolute_error', 'max_depth': 6, 'ccp_alpha': 0.3738083708709062, 'n_estimators': 884}. Best is trial 85 with value: 0.9253841955224508.\n",
      "[I 2024-04-19 06:18:31,621] Trial 93 finished with value: 0.8851971213196029 and parameters: {'criterion': 'absolute_error', 'max_depth': 14, 'ccp_alpha': 1.5032667689230925, 'n_estimators': 938}. Best is trial 85 with value: 0.9253841955224508.\n",
      "[I 2024-04-19 06:18:33,188] Trial 94 finished with value: 0.91624256216274 and parameters: {'criterion': 'absolute_error', 'max_depth': 3, 'ccp_alpha': 0.2589573964718967, 'n_estimators': 857}. Best is trial 85 with value: 0.9253841955224508.\n",
      "[I 2024-04-19 06:18:34,306] Trial 95 finished with value: 0.7038060801644697 and parameters: {'criterion': 'absolute_error', 'max_depth': 1, 'ccp_alpha': 0.14590237932027764, 'n_estimators': 786}. Best is trial 85 with value: 0.9253841955224508.\n",
      "[I 2024-04-19 06:18:36,493] Trial 96 finished with value: 0.9084032936785571 and parameters: {'criterion': 'absolute_error', 'max_depth': 8, 'ccp_alpha': 0.36139358286037976, 'n_estimators': 967}. Best is trial 85 with value: 0.9253841955224508.\n",
      "[I 2024-04-19 06:18:37,549] Trial 97 finished with value: 0.8874289373000538 and parameters: {'criterion': 'squared_error', 'max_depth': 11, 'ccp_alpha': 0.29315469689720397, 'n_estimators': 764}. Best is trial 85 with value: 0.9253841955224508.\n",
      "[I 2024-04-19 06:18:38,972] Trial 98 finished with value: 0.9252422309080395 and parameters: {'criterion': 'absolute_error', 'max_depth': 5, 'ccp_alpha': 0.5263685952501729, 'n_estimators': 717}. Best is trial 85 with value: 0.9253841955224508.\n",
      "[I 2024-04-19 06:18:40,694] Trial 99 finished with value: 0.9251212496489984 and parameters: {'criterion': 'absolute_error', 'max_depth': 5, 'ccp_alpha': 0.46788477204976503, 'n_estimators': 886}. Best is trial 85 with value: 0.9253841955224508.\n"
     ]
    }
   ],
   "source": [
    "study3.optimize(objective,n_trials=100)"
   ]
  },
  {
   "cell_type": "code",
   "execution_count": 343,
   "metadata": {},
   "outputs": [
    {
     "data": {
      "text/plain": [
       "0.9253841955224508"
      ]
     },
     "execution_count": 343,
     "metadata": {},
     "output_type": "execute_result"
    }
   ],
   "source": [
    "study3.best_value"
   ]
  },
  {
   "cell_type": "code",
   "execution_count": 344,
   "metadata": {},
   "outputs": [
    {
     "data": {
      "text/plain": [
       "{'criterion': 'absolute_error',\n",
       " 'max_depth': 5,\n",
       " 'ccp_alpha': 0.3022712676783935,\n",
       " 'n_estimators': 900}"
      ]
     },
     "execution_count": 344,
     "metadata": {},
     "output_type": "execute_result"
    }
   ],
   "source": [
    "study3.best_params"
   ]
  },
  {
   "cell_type": "code",
   "execution_count": 345,
   "metadata": {},
   "outputs": [],
   "source": [
    "reg=RandomForestRegressor(criterion='absolute_error',\n",
    " max_depth=5,\n",
    " ccp_alpha=0.3022712676783935,\n",
    " n_estimators=900)"
   ]
  },
  {
   "cell_type": "code",
   "execution_count": 346,
   "metadata": {},
   "outputs": [
    {
     "data": {
      "text/plain": [
       "0.9253620502338166"
      ]
     },
     "execution_count": 346,
     "metadata": {},
     "output_type": "execute_result"
    }
   ],
   "source": [
    "reg.fit(x_trian,y_train)\n",
    "p=reg.predict(x_test)\n",
    "r2_score(y_test,p)"
   ]
  },
  {
   "cell_type": "code",
   "execution_count": 347,
   "metadata": {},
   "outputs": [
    {
     "data": {
      "text/plain": [
       "0.8683996614320667"
      ]
     },
     "execution_count": 347,
     "metadata": {},
     "output_type": "execute_result"
    }
   ],
   "source": [
    "reg.score(f,y)"
   ]
  },
  {
   "cell_type": "code",
   "execution_count": 352,
   "metadata": {},
   "outputs": [
    {
     "data": {
      "text/plain": [
       "2307.0380197674144"
      ]
     },
     "execution_count": 352,
     "metadata": {},
     "output_type": "execute_result"
    }
   ],
   "source": [
    "mean_absolute_error(y_test,p)"
   ]
  },
  {
   "cell_type": "code",
   "execution_count": null,
   "metadata": {},
   "outputs": [],
   "source": []
  }
 ],
 "metadata": {
  "kernelspec": {
   "display_name": "Python 3",
   "language": "python",
   "name": "python3"
  },
  "language_info": {
   "codemirror_mode": {
    "name": "ipython",
    "version": 3
   },
   "file_extension": ".py",
   "mimetype": "text/x-python",
   "name": "python",
   "nbconvert_exporter": "python",
   "pygments_lexer": "ipython3",
   "version": "3.11.8"
  }
 },
 "nbformat": 4,
 "nbformat_minor": 2
}
