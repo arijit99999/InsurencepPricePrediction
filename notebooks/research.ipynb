{
 "cells": [
  {
   "cell_type": "code",
   "execution_count": 238,
   "metadata": {},
   "outputs": [],
   "source": [
    "import warnings"
   ]
  },
  {
   "cell_type": "code",
   "execution_count": 239,
   "metadata": {},
   "outputs": [],
   "source": [
    "warnings.filterwarnings('ignore')"
   ]
  },
  {
   "cell_type": "code",
   "execution_count": 240,
   "metadata": {},
   "outputs": [],
   "source": [
    "import pandas as pd "
   ]
  },
  {
   "cell_type": "code",
   "execution_count": 241,
   "metadata": {},
   "outputs": [],
   "source": [
    "data=pd.read_csv(r'C:\\Users\\deyar\\OneDrive\\Desktop\\InsurencepPricePrediction\\notebooks\\data\\insurance.csv')"
   ]
  },
  {
   "cell_type": "code",
   "execution_count": 242,
   "metadata": {},
   "outputs": [
    {
     "data": {
      "text/html": [
       "<div>\n",
       "<style scoped>\n",
       "    .dataframe tbody tr th:only-of-type {\n",
       "        vertical-align: middle;\n",
       "    }\n",
       "\n",
       "    .dataframe tbody tr th {\n",
       "        vertical-align: top;\n",
       "    }\n",
       "\n",
       "    .dataframe thead th {\n",
       "        text-align: right;\n",
       "    }\n",
       "</style>\n",
       "<table border=\"1\" class=\"dataframe\">\n",
       "  <thead>\n",
       "    <tr style=\"text-align: right;\">\n",
       "      <th></th>\n",
       "      <th>age</th>\n",
       "      <th>sex</th>\n",
       "      <th>bmi</th>\n",
       "      <th>children</th>\n",
       "      <th>smoker</th>\n",
       "      <th>region</th>\n",
       "      <th>expenses</th>\n",
       "    </tr>\n",
       "  </thead>\n",
       "  <tbody>\n",
       "    <tr>\n",
       "      <th>0</th>\n",
       "      <td>19</td>\n",
       "      <td>female</td>\n",
       "      <td>27.9</td>\n",
       "      <td>0</td>\n",
       "      <td>yes</td>\n",
       "      <td>southwest</td>\n",
       "      <td>16884.92</td>\n",
       "    </tr>\n",
       "    <tr>\n",
       "      <th>1</th>\n",
       "      <td>18</td>\n",
       "      <td>male</td>\n",
       "      <td>33.8</td>\n",
       "      <td>1</td>\n",
       "      <td>no</td>\n",
       "      <td>southeast</td>\n",
       "      <td>1725.55</td>\n",
       "    </tr>\n",
       "    <tr>\n",
       "      <th>2</th>\n",
       "      <td>28</td>\n",
       "      <td>male</td>\n",
       "      <td>33.0</td>\n",
       "      <td>3</td>\n",
       "      <td>no</td>\n",
       "      <td>southeast</td>\n",
       "      <td>4449.46</td>\n",
       "    </tr>\n",
       "    <tr>\n",
       "      <th>3</th>\n",
       "      <td>33</td>\n",
       "      <td>male</td>\n",
       "      <td>22.7</td>\n",
       "      <td>0</td>\n",
       "      <td>no</td>\n",
       "      <td>northwest</td>\n",
       "      <td>21984.47</td>\n",
       "    </tr>\n",
       "    <tr>\n",
       "      <th>4</th>\n",
       "      <td>32</td>\n",
       "      <td>male</td>\n",
       "      <td>28.9</td>\n",
       "      <td>0</td>\n",
       "      <td>no</td>\n",
       "      <td>northwest</td>\n",
       "      <td>3866.86</td>\n",
       "    </tr>\n",
       "  </tbody>\n",
       "</table>\n",
       "</div>"
      ],
      "text/plain": [
       "   age     sex   bmi  children smoker     region  expenses\n",
       "0   19  female  27.9         0    yes  southwest  16884.92\n",
       "1   18    male  33.8         1     no  southeast   1725.55\n",
       "2   28    male  33.0         3     no  southeast   4449.46\n",
       "3   33    male  22.7         0     no  northwest  21984.47\n",
       "4   32    male  28.9         0     no  northwest   3866.86"
      ]
     },
     "execution_count": 242,
     "metadata": {},
     "output_type": "execute_result"
    }
   ],
   "source": [
    "data.head()"
   ]
  },
  {
   "cell_type": "code",
   "execution_count": 243,
   "metadata": {},
   "outputs": [
    {
     "data": {
      "text/plain": [
       "(1338, 7)"
      ]
     },
     "execution_count": 243,
     "metadata": {},
     "output_type": "execute_result"
    }
   ],
   "source": [
    "data.shape"
   ]
  },
  {
   "cell_type": "code",
   "execution_count": 244,
   "metadata": {},
   "outputs": [
    {
     "data": {
      "text/plain": [
       "age         0\n",
       "sex         0\n",
       "bmi         0\n",
       "children    0\n",
       "smoker      0\n",
       "region      0\n",
       "expenses    0\n",
       "dtype: int64"
      ]
     },
     "execution_count": 244,
     "metadata": {},
     "output_type": "execute_result"
    }
   ],
   "source": [
    "data.isnull().sum()"
   ]
  },
  {
   "cell_type": "code",
   "execution_count": 245,
   "metadata": {},
   "outputs": [
    {
     "data": {
      "text/plain": [
       "1"
      ]
     },
     "execution_count": 245,
     "metadata": {},
     "output_type": "execute_result"
    }
   ],
   "source": [
    "data.duplicated().sum()"
   ]
  },
  {
   "cell_type": "code",
   "execution_count": 246,
   "metadata": {},
   "outputs": [],
   "source": [
    "data=data.drop_duplicates()"
   ]
  },
  {
   "cell_type": "code",
   "execution_count": 247,
   "metadata": {},
   "outputs": [
    {
     "data": {
      "text/plain": [
       "0"
      ]
     },
     "execution_count": 247,
     "metadata": {},
     "output_type": "execute_result"
    }
   ],
   "source": [
    "data.duplicated().sum()"
   ]
  },
  {
   "cell_type": "code",
   "execution_count": 248,
   "metadata": {},
   "outputs": [],
   "source": [
    "cat=[]\n",
    "num=[]\n",
    "for i in data.columns:\n",
    "    if data[i].dtype==\"object\":\n",
    "        cat.append(i)\n",
    "    else:\n",
    "        num.append(i)"
   ]
  },
  {
   "cell_type": "code",
   "execution_count": 249,
   "metadata": {},
   "outputs": [
    {
     "data": {
      "text/plain": [
       "['sex', 'smoker', 'region']"
      ]
     },
     "execution_count": 249,
     "metadata": {},
     "output_type": "execute_result"
    }
   ],
   "source": [
    "cat"
   ]
  },
  {
   "cell_type": "code",
   "execution_count": 250,
   "metadata": {},
   "outputs": [],
   "source": [
    "sex=['female', 'male']"
   ]
  },
  {
   "cell_type": "code",
   "execution_count": 251,
   "metadata": {},
   "outputs": [],
   "source": [
    "region=['southwest', 'southeast', 'northwest', 'northeast']"
   ]
  },
  {
   "cell_type": "code",
   "execution_count": 252,
   "metadata": {},
   "outputs": [],
   "source": [
    "smoker=['no','yes']"
   ]
  },
  {
   "cell_type": "code",
   "execution_count": 253,
   "metadata": {},
   "outputs": [
    {
     "data": {
      "text/plain": [
       "['age', 'bmi', 'children', 'expenses']"
      ]
     },
     "execution_count": 253,
     "metadata": {},
     "output_type": "execute_result"
    }
   ],
   "source": [
    "num"
   ]
  },
  {
   "cell_type": "code",
   "execution_count": 254,
   "metadata": {},
   "outputs": [],
   "source": [
    "from sklearn.preprocessing import OneHotEncoder,OrdinalEncoder,StandardScaler,MinMaxScaler"
   ]
  },
  {
   "cell_type": "code",
   "execution_count": 255,
   "metadata": {},
   "outputs": [],
   "source": [
    "from sklearn.compose import ColumnTransformer"
   ]
  },
  {
   "cell_type": "code",
   "execution_count": 256,
   "metadata": {},
   "outputs": [],
   "source": [
    "from sklearn.pipeline import Pipeline"
   ]
  },
  {
   "cell_type": "code",
   "execution_count": 257,
   "metadata": {},
   "outputs": [],
   "source": [
    "from sklearn.impute import SimpleImputer"
   ]
  },
  {
   "cell_type": "code",
   "execution_count": 258,
   "metadata": {},
   "outputs": [
    {
     "data": {
      "text/html": [
       "<div>\n",
       "<style scoped>\n",
       "    .dataframe tbody tr th:only-of-type {\n",
       "        vertical-align: middle;\n",
       "    }\n",
       "\n",
       "    .dataframe tbody tr th {\n",
       "        vertical-align: top;\n",
       "    }\n",
       "\n",
       "    .dataframe thead th {\n",
       "        text-align: right;\n",
       "    }\n",
       "</style>\n",
       "<table border=\"1\" class=\"dataframe\">\n",
       "  <thead>\n",
       "    <tr style=\"text-align: right;\">\n",
       "      <th></th>\n",
       "      <th>age</th>\n",
       "      <th>sex</th>\n",
       "      <th>bmi</th>\n",
       "      <th>children</th>\n",
       "      <th>smoker</th>\n",
       "      <th>region</th>\n",
       "      <th>expenses</th>\n",
       "    </tr>\n",
       "  </thead>\n",
       "  <tbody>\n",
       "    <tr>\n",
       "      <th>0</th>\n",
       "      <td>19</td>\n",
       "      <td>female</td>\n",
       "      <td>27.9</td>\n",
       "      <td>0</td>\n",
       "      <td>yes</td>\n",
       "      <td>southwest</td>\n",
       "      <td>16884.92</td>\n",
       "    </tr>\n",
       "    <tr>\n",
       "      <th>1</th>\n",
       "      <td>18</td>\n",
       "      <td>male</td>\n",
       "      <td>33.8</td>\n",
       "      <td>1</td>\n",
       "      <td>no</td>\n",
       "      <td>southeast</td>\n",
       "      <td>1725.55</td>\n",
       "    </tr>\n",
       "    <tr>\n",
       "      <th>2</th>\n",
       "      <td>28</td>\n",
       "      <td>male</td>\n",
       "      <td>33.0</td>\n",
       "      <td>3</td>\n",
       "      <td>no</td>\n",
       "      <td>southeast</td>\n",
       "      <td>4449.46</td>\n",
       "    </tr>\n",
       "    <tr>\n",
       "      <th>3</th>\n",
       "      <td>33</td>\n",
       "      <td>male</td>\n",
       "      <td>22.7</td>\n",
       "      <td>0</td>\n",
       "      <td>no</td>\n",
       "      <td>northwest</td>\n",
       "      <td>21984.47</td>\n",
       "    </tr>\n",
       "    <tr>\n",
       "      <th>4</th>\n",
       "      <td>32</td>\n",
       "      <td>male</td>\n",
       "      <td>28.9</td>\n",
       "      <td>0</td>\n",
       "      <td>no</td>\n",
       "      <td>northwest</td>\n",
       "      <td>3866.86</td>\n",
       "    </tr>\n",
       "  </tbody>\n",
       "</table>\n",
       "</div>"
      ],
      "text/plain": [
       "   age     sex   bmi  children smoker     region  expenses\n",
       "0   19  female  27.9         0    yes  southwest  16884.92\n",
       "1   18    male  33.8         1     no  southeast   1725.55\n",
       "2   28    male  33.0         3     no  southeast   4449.46\n",
       "3   33    male  22.7         0     no  northwest  21984.47\n",
       "4   32    male  28.9         0     no  northwest   3866.86"
      ]
     },
     "execution_count": 258,
     "metadata": {},
     "output_type": "execute_result"
    }
   ],
   "source": [
    "data.head()"
   ]
  },
  {
   "cell_type": "code",
   "execution_count": 259,
   "metadata": {},
   "outputs": [
    {
     "data": {
      "text/plain": [
       "['sex', 'smoker', 'region']"
      ]
     },
     "execution_count": 259,
     "metadata": {},
     "output_type": "execute_result"
    }
   ],
   "source": [
    "cat"
   ]
  },
  {
   "cell_type": "code",
   "execution_count": 260,
   "metadata": {},
   "outputs": [
    {
     "data": {
      "text/plain": [
       "['age', 'bmi', 'children', 'expenses']"
      ]
     },
     "execution_count": 260,
     "metadata": {},
     "output_type": "execute_result"
    }
   ],
   "source": [
    "num"
   ]
  },
  {
   "cell_type": "code",
   "execution_count": 261,
   "metadata": {},
   "outputs": [],
   "source": [
    "num.remove('expenses')"
   ]
  },
  {
   "cell_type": "code",
   "execution_count": 262,
   "metadata": {},
   "outputs": [
    {
     "data": {
      "text/plain": [
       "['age', 'bmi', 'children']"
      ]
     },
     "execution_count": 262,
     "metadata": {},
     "output_type": "execute_result"
    }
   ],
   "source": [
    "num"
   ]
  },
  {
   "cell_type": "code",
   "execution_count": 263,
   "metadata": {},
   "outputs": [],
   "source": [
    "num_pipeline=Pipeline(\n",
    "                steps=[\n",
    "                ('imputer',SimpleImputer(strategy='median')),\n",
    "                ('scale',MinMaxScaler())])\n",
    "cat_pipeline=Pipeline(\n",
    "                steps=[\n",
    "                ('imputer',SimpleImputer(strategy='most_frequent')),\n",
    "                ('ordinalencoder',OrdinalEncoder(categories=[sex,smoker,region])),\n",
    "                ('scale',MinMaxScaler())])\n",
    "preprocessor=ColumnTransformer([\n",
    "            ('num_pipeline',num_pipeline,num),\n",
    "            ('cat_pipeline',cat_pipeline,cat)])"
   ]
  },
  {
   "cell_type": "code",
   "execution_count": 264,
   "metadata": {},
   "outputs": [],
   "source": [
    "x=data.drop('expenses',axis=1)"
   ]
  },
  {
   "cell_type": "code",
   "execution_count": 265,
   "metadata": {},
   "outputs": [],
   "source": [
    "y=data['expenses']"
   ]
  },
  {
   "cell_type": "code",
   "execution_count": 266,
   "metadata": {},
   "outputs": [],
   "source": [
    "m=preprocessor.fit_transform(x)"
   ]
  },
  {
   "cell_type": "code",
   "execution_count": 267,
   "metadata": {},
   "outputs": [],
   "source": [
    "f=pd.DataFrame(m,columns=x.columns)"
   ]
  },
  {
   "cell_type": "code",
   "execution_count": 268,
   "metadata": {},
   "outputs": [
    {
     "data": {
      "text/html": [
       "<div>\n",
       "<style scoped>\n",
       "    .dataframe tbody tr th:only-of-type {\n",
       "        vertical-align: middle;\n",
       "    }\n",
       "\n",
       "    .dataframe tbody tr th {\n",
       "        vertical-align: top;\n",
       "    }\n",
       "\n",
       "    .dataframe thead th {\n",
       "        text-align: right;\n",
       "    }\n",
       "</style>\n",
       "<table border=\"1\" class=\"dataframe\">\n",
       "  <thead>\n",
       "    <tr style=\"text-align: right;\">\n",
       "      <th></th>\n",
       "      <th>age</th>\n",
       "      <th>sex</th>\n",
       "      <th>bmi</th>\n",
       "      <th>children</th>\n",
       "      <th>smoker</th>\n",
       "      <th>region</th>\n",
       "    </tr>\n",
       "  </thead>\n",
       "  <tbody>\n",
       "    <tr>\n",
       "      <th>0</th>\n",
       "      <td>0.021739</td>\n",
       "      <td>0.320755</td>\n",
       "      <td>0.0</td>\n",
       "      <td>0.0</td>\n",
       "      <td>1.0</td>\n",
       "      <td>0.000000</td>\n",
       "    </tr>\n",
       "    <tr>\n",
       "      <th>1</th>\n",
       "      <td>0.000000</td>\n",
       "      <td>0.479784</td>\n",
       "      <td>0.2</td>\n",
       "      <td>1.0</td>\n",
       "      <td>0.0</td>\n",
       "      <td>0.333333</td>\n",
       "    </tr>\n",
       "    <tr>\n",
       "      <th>2</th>\n",
       "      <td>0.217391</td>\n",
       "      <td>0.458221</td>\n",
       "      <td>0.6</td>\n",
       "      <td>1.0</td>\n",
       "      <td>0.0</td>\n",
       "      <td>0.333333</td>\n",
       "    </tr>\n",
       "    <tr>\n",
       "      <th>3</th>\n",
       "      <td>0.326087</td>\n",
       "      <td>0.180593</td>\n",
       "      <td>0.0</td>\n",
       "      <td>1.0</td>\n",
       "      <td>0.0</td>\n",
       "      <td>0.666667</td>\n",
       "    </tr>\n",
       "    <tr>\n",
       "      <th>4</th>\n",
       "      <td>0.304348</td>\n",
       "      <td>0.347709</td>\n",
       "      <td>0.0</td>\n",
       "      <td>1.0</td>\n",
       "      <td>0.0</td>\n",
       "      <td>0.666667</td>\n",
       "    </tr>\n",
       "  </tbody>\n",
       "</table>\n",
       "</div>"
      ],
      "text/plain": [
       "        age       sex  bmi  children  smoker    region\n",
       "0  0.021739  0.320755  0.0       0.0     1.0  0.000000\n",
       "1  0.000000  0.479784  0.2       1.0     0.0  0.333333\n",
       "2  0.217391  0.458221  0.6       1.0     0.0  0.333333\n",
       "3  0.326087  0.180593  0.0       1.0     0.0  0.666667\n",
       "4  0.304348  0.347709  0.0       1.0     0.0  0.666667"
      ]
     },
     "execution_count": 268,
     "metadata": {},
     "output_type": "execute_result"
    }
   ],
   "source": [
    "f.head()"
   ]
  },
  {
   "cell_type": "code",
   "execution_count": 269,
   "metadata": {},
   "outputs": [
    {
     "data": {
      "text/html": [
       "<div>\n",
       "<style scoped>\n",
       "    .dataframe tbody tr th:only-of-type {\n",
       "        vertical-align: middle;\n",
       "    }\n",
       "\n",
       "    .dataframe tbody tr th {\n",
       "        vertical-align: top;\n",
       "    }\n",
       "\n",
       "    .dataframe thead th {\n",
       "        text-align: right;\n",
       "    }\n",
       "</style>\n",
       "<table border=\"1\" class=\"dataframe\">\n",
       "  <thead>\n",
       "    <tr style=\"text-align: right;\">\n",
       "      <th></th>\n",
       "      <th>age</th>\n",
       "      <th>sex</th>\n",
       "      <th>bmi</th>\n",
       "      <th>children</th>\n",
       "      <th>smoker</th>\n",
       "      <th>region</th>\n",
       "    </tr>\n",
       "  </thead>\n",
       "  <tbody>\n",
       "    <tr>\n",
       "      <th>count</th>\n",
       "      <td>1337.000000</td>\n",
       "      <td>1337.000000</td>\n",
       "      <td>1337.000000</td>\n",
       "      <td>1337.000000</td>\n",
       "      <td>1337.000000</td>\n",
       "      <td>1337.000000</td>\n",
       "    </tr>\n",
       "    <tr>\n",
       "      <th>mean</th>\n",
       "      <td>0.461351</td>\n",
       "      <td>0.395297</td>\n",
       "      <td>0.219147</td>\n",
       "      <td>0.504862</td>\n",
       "      <td>0.204936</td>\n",
       "      <td>0.494640</td>\n",
       "    </tr>\n",
       "    <tr>\n",
       "      <th>std</th>\n",
       "      <td>0.305312</td>\n",
       "      <td>0.164438</td>\n",
       "      <td>0.241114</td>\n",
       "      <td>0.500163</td>\n",
       "      <td>0.403806</td>\n",
       "      <td>0.368403</td>\n",
       "    </tr>\n",
       "    <tr>\n",
       "      <th>min</th>\n",
       "      <td>0.000000</td>\n",
       "      <td>0.000000</td>\n",
       "      <td>0.000000</td>\n",
       "      <td>0.000000</td>\n",
       "      <td>0.000000</td>\n",
       "      <td>0.000000</td>\n",
       "    </tr>\n",
       "    <tr>\n",
       "      <th>25%</th>\n",
       "      <td>0.195652</td>\n",
       "      <td>0.277628</td>\n",
       "      <td>0.000000</td>\n",
       "      <td>0.000000</td>\n",
       "      <td>0.000000</td>\n",
       "      <td>0.333333</td>\n",
       "    </tr>\n",
       "    <tr>\n",
       "      <th>50%</th>\n",
       "      <td>0.456522</td>\n",
       "      <td>0.388140</td>\n",
       "      <td>0.200000</td>\n",
       "      <td>1.000000</td>\n",
       "      <td>0.000000</td>\n",
       "      <td>0.333333</td>\n",
       "    </tr>\n",
       "    <tr>\n",
       "      <th>75%</th>\n",
       "      <td>0.717391</td>\n",
       "      <td>0.504043</td>\n",
       "      <td>0.400000</td>\n",
       "      <td>1.000000</td>\n",
       "      <td>0.000000</td>\n",
       "      <td>0.666667</td>\n",
       "    </tr>\n",
       "    <tr>\n",
       "      <th>max</th>\n",
       "      <td>1.000000</td>\n",
       "      <td>1.000000</td>\n",
       "      <td>1.000000</td>\n",
       "      <td>1.000000</td>\n",
       "      <td>1.000000</td>\n",
       "      <td>1.000000</td>\n",
       "    </tr>\n",
       "  </tbody>\n",
       "</table>\n",
       "</div>"
      ],
      "text/plain": [
       "               age          sex          bmi     children       smoker  \\\n",
       "count  1337.000000  1337.000000  1337.000000  1337.000000  1337.000000   \n",
       "mean      0.461351     0.395297     0.219147     0.504862     0.204936   \n",
       "std       0.305312     0.164438     0.241114     0.500163     0.403806   \n",
       "min       0.000000     0.000000     0.000000     0.000000     0.000000   \n",
       "25%       0.195652     0.277628     0.000000     0.000000     0.000000   \n",
       "50%       0.456522     0.388140     0.200000     1.000000     0.000000   \n",
       "75%       0.717391     0.504043     0.400000     1.000000     0.000000   \n",
       "max       1.000000     1.000000     1.000000     1.000000     1.000000   \n",
       "\n",
       "            region  \n",
       "count  1337.000000  \n",
       "mean      0.494640  \n",
       "std       0.368403  \n",
       "min       0.000000  \n",
       "25%       0.333333  \n",
       "50%       0.333333  \n",
       "75%       0.666667  \n",
       "max       1.000000  "
      ]
     },
     "execution_count": 269,
     "metadata": {},
     "output_type": "execute_result"
    }
   ],
   "source": [
    "f.describe()"
   ]
  },
  {
   "cell_type": "code",
   "execution_count": 270,
   "metadata": {},
   "outputs": [],
   "source": [
    "data1=pd.concat([f,y],axis=1)"
   ]
  },
  {
   "cell_type": "code",
   "execution_count": 271,
   "metadata": {},
   "outputs": [
    {
     "data": {
      "text/html": [
       "<div>\n",
       "<style scoped>\n",
       "    .dataframe tbody tr th:only-of-type {\n",
       "        vertical-align: middle;\n",
       "    }\n",
       "\n",
       "    .dataframe tbody tr th {\n",
       "        vertical-align: top;\n",
       "    }\n",
       "\n",
       "    .dataframe thead th {\n",
       "        text-align: right;\n",
       "    }\n",
       "</style>\n",
       "<table border=\"1\" class=\"dataframe\">\n",
       "  <thead>\n",
       "    <tr style=\"text-align: right;\">\n",
       "      <th></th>\n",
       "      <th>age</th>\n",
       "      <th>sex</th>\n",
       "      <th>bmi</th>\n",
       "      <th>children</th>\n",
       "      <th>smoker</th>\n",
       "      <th>region</th>\n",
       "      <th>expenses</th>\n",
       "    </tr>\n",
       "  </thead>\n",
       "  <tbody>\n",
       "    <tr>\n",
       "      <th>0</th>\n",
       "      <td>0.021739</td>\n",
       "      <td>0.320755</td>\n",
       "      <td>0.0</td>\n",
       "      <td>0.0</td>\n",
       "      <td>1.0</td>\n",
       "      <td>0.000000</td>\n",
       "      <td>16884.92</td>\n",
       "    </tr>\n",
       "    <tr>\n",
       "      <th>1</th>\n",
       "      <td>0.000000</td>\n",
       "      <td>0.479784</td>\n",
       "      <td>0.2</td>\n",
       "      <td>1.0</td>\n",
       "      <td>0.0</td>\n",
       "      <td>0.333333</td>\n",
       "      <td>1725.55</td>\n",
       "    </tr>\n",
       "    <tr>\n",
       "      <th>2</th>\n",
       "      <td>0.217391</td>\n",
       "      <td>0.458221</td>\n",
       "      <td>0.6</td>\n",
       "      <td>1.0</td>\n",
       "      <td>0.0</td>\n",
       "      <td>0.333333</td>\n",
       "      <td>4449.46</td>\n",
       "    </tr>\n",
       "    <tr>\n",
       "      <th>3</th>\n",
       "      <td>0.326087</td>\n",
       "      <td>0.180593</td>\n",
       "      <td>0.0</td>\n",
       "      <td>1.0</td>\n",
       "      <td>0.0</td>\n",
       "      <td>0.666667</td>\n",
       "      <td>21984.47</td>\n",
       "    </tr>\n",
       "    <tr>\n",
       "      <th>4</th>\n",
       "      <td>0.304348</td>\n",
       "      <td>0.347709</td>\n",
       "      <td>0.0</td>\n",
       "      <td>1.0</td>\n",
       "      <td>0.0</td>\n",
       "      <td>0.666667</td>\n",
       "      <td>3866.86</td>\n",
       "    </tr>\n",
       "  </tbody>\n",
       "</table>\n",
       "</div>"
      ],
      "text/plain": [
       "        age       sex  bmi  children  smoker    region  expenses\n",
       "0  0.021739  0.320755  0.0       0.0     1.0  0.000000  16884.92\n",
       "1  0.000000  0.479784  0.2       1.0     0.0  0.333333   1725.55\n",
       "2  0.217391  0.458221  0.6       1.0     0.0  0.333333   4449.46\n",
       "3  0.326087  0.180593  0.0       1.0     0.0  0.666667  21984.47\n",
       "4  0.304348  0.347709  0.0       1.0     0.0  0.666667   3866.86"
      ]
     },
     "execution_count": 271,
     "metadata": {},
     "output_type": "execute_result"
    }
   ],
   "source": [
    "data1.head()"
   ]
  },
  {
   "cell_type": "code",
   "execution_count": 272,
   "metadata": {},
   "outputs": [],
   "source": [
    "from sklearn.model_selection import train_test_split"
   ]
  },
  {
   "cell_type": "code",
   "execution_count": 273,
   "metadata": {},
   "outputs": [],
   "source": [
    "x_trian,x_test,y_train,y_test=train_test_split(f,y,random_state=11,test_size=.2)"
   ]
  },
  {
   "cell_type": "code",
   "execution_count": 274,
   "metadata": {},
   "outputs": [],
   "source": [
    "from sklearn.ensemble import AdaBoostRegressor"
   ]
  },
  {
   "cell_type": "code",
   "execution_count": 275,
   "metadata": {},
   "outputs": [],
   "source": [
    "a=AdaBoostRegressor()"
   ]
  },
  {
   "cell_type": "code",
   "execution_count": 276,
   "metadata": {},
   "outputs": [
    {
     "data": {
      "text/html": [
       "<style>#sk-container-id-2 {\n",
       "  /* Definition of color scheme common for light and dark mode */\n",
       "  --sklearn-color-text: black;\n",
       "  --sklearn-color-line: gray;\n",
       "  /* Definition of color scheme for unfitted estimators */\n",
       "  --sklearn-color-unfitted-level-0: #fff5e6;\n",
       "  --sklearn-color-unfitted-level-1: #f6e4d2;\n",
       "  --sklearn-color-unfitted-level-2: #ffe0b3;\n",
       "  --sklearn-color-unfitted-level-3: chocolate;\n",
       "  /* Definition of color scheme for fitted estimators */\n",
       "  --sklearn-color-fitted-level-0: #f0f8ff;\n",
       "  --sklearn-color-fitted-level-1: #d4ebff;\n",
       "  --sklearn-color-fitted-level-2: #b3dbfd;\n",
       "  --sklearn-color-fitted-level-3: cornflowerblue;\n",
       "\n",
       "  /* Specific color for light theme */\n",
       "  --sklearn-color-text-on-default-background: var(--sg-text-color, var(--theme-code-foreground, var(--jp-content-font-color1, black)));\n",
       "  --sklearn-color-background: var(--sg-background-color, var(--theme-background, var(--jp-layout-color0, white)));\n",
       "  --sklearn-color-border-box: var(--sg-text-color, var(--theme-code-foreground, var(--jp-content-font-color1, black)));\n",
       "  --sklearn-color-icon: #696969;\n",
       "\n",
       "  @media (prefers-color-scheme: dark) {\n",
       "    /* Redefinition of color scheme for dark theme */\n",
       "    --sklearn-color-text-on-default-background: var(--sg-text-color, var(--theme-code-foreground, var(--jp-content-font-color1, white)));\n",
       "    --sklearn-color-background: var(--sg-background-color, var(--theme-background, var(--jp-layout-color0, #111)));\n",
       "    --sklearn-color-border-box: var(--sg-text-color, var(--theme-code-foreground, var(--jp-content-font-color1, white)));\n",
       "    --sklearn-color-icon: #878787;\n",
       "  }\n",
       "}\n",
       "\n",
       "#sk-container-id-2 {\n",
       "  color: var(--sklearn-color-text);\n",
       "}\n",
       "\n",
       "#sk-container-id-2 pre {\n",
       "  padding: 0;\n",
       "}\n",
       "\n",
       "#sk-container-id-2 input.sk-hidden--visually {\n",
       "  border: 0;\n",
       "  clip: rect(1px 1px 1px 1px);\n",
       "  clip: rect(1px, 1px, 1px, 1px);\n",
       "  height: 1px;\n",
       "  margin: -1px;\n",
       "  overflow: hidden;\n",
       "  padding: 0;\n",
       "  position: absolute;\n",
       "  width: 1px;\n",
       "}\n",
       "\n",
       "#sk-container-id-2 div.sk-dashed-wrapped {\n",
       "  border: 1px dashed var(--sklearn-color-line);\n",
       "  margin: 0 0.4em 0.5em 0.4em;\n",
       "  box-sizing: border-box;\n",
       "  padding-bottom: 0.4em;\n",
       "  background-color: var(--sklearn-color-background);\n",
       "}\n",
       "\n",
       "#sk-container-id-2 div.sk-container {\n",
       "  /* jupyter's `normalize.less` sets `[hidden] { display: none; }`\n",
       "     but bootstrap.min.css set `[hidden] { display: none !important; }`\n",
       "     so we also need the `!important` here to be able to override the\n",
       "     default hidden behavior on the sphinx rendered scikit-learn.org.\n",
       "     See: https://github.com/scikit-learn/scikit-learn/issues/21755 */\n",
       "  display: inline-block !important;\n",
       "  position: relative;\n",
       "}\n",
       "\n",
       "#sk-container-id-2 div.sk-text-repr-fallback {\n",
       "  display: none;\n",
       "}\n",
       "\n",
       "div.sk-parallel-item,\n",
       "div.sk-serial,\n",
       "div.sk-item {\n",
       "  /* draw centered vertical line to link estimators */\n",
       "  background-image: linear-gradient(var(--sklearn-color-text-on-default-background), var(--sklearn-color-text-on-default-background));\n",
       "  background-size: 2px 100%;\n",
       "  background-repeat: no-repeat;\n",
       "  background-position: center center;\n",
       "}\n",
       "\n",
       "/* Parallel-specific style estimator block */\n",
       "\n",
       "#sk-container-id-2 div.sk-parallel-item::after {\n",
       "  content: \"\";\n",
       "  width: 100%;\n",
       "  border-bottom: 2px solid var(--sklearn-color-text-on-default-background);\n",
       "  flex-grow: 1;\n",
       "}\n",
       "\n",
       "#sk-container-id-2 div.sk-parallel {\n",
       "  display: flex;\n",
       "  align-items: stretch;\n",
       "  justify-content: center;\n",
       "  background-color: var(--sklearn-color-background);\n",
       "  position: relative;\n",
       "}\n",
       "\n",
       "#sk-container-id-2 div.sk-parallel-item {\n",
       "  display: flex;\n",
       "  flex-direction: column;\n",
       "}\n",
       "\n",
       "#sk-container-id-2 div.sk-parallel-item:first-child::after {\n",
       "  align-self: flex-end;\n",
       "  width: 50%;\n",
       "}\n",
       "\n",
       "#sk-container-id-2 div.sk-parallel-item:last-child::after {\n",
       "  align-self: flex-start;\n",
       "  width: 50%;\n",
       "}\n",
       "\n",
       "#sk-container-id-2 div.sk-parallel-item:only-child::after {\n",
       "  width: 0;\n",
       "}\n",
       "\n",
       "/* Serial-specific style estimator block */\n",
       "\n",
       "#sk-container-id-2 div.sk-serial {\n",
       "  display: flex;\n",
       "  flex-direction: column;\n",
       "  align-items: center;\n",
       "  background-color: var(--sklearn-color-background);\n",
       "  padding-right: 1em;\n",
       "  padding-left: 1em;\n",
       "}\n",
       "\n",
       "\n",
       "/* Toggleable style: style used for estimator/Pipeline/ColumnTransformer box that is\n",
       "clickable and can be expanded/collapsed.\n",
       "- Pipeline and ColumnTransformer use this feature and define the default style\n",
       "- Estimators will overwrite some part of the style using the `sk-estimator` class\n",
       "*/\n",
       "\n",
       "/* Pipeline and ColumnTransformer style (default) */\n",
       "\n",
       "#sk-container-id-2 div.sk-toggleable {\n",
       "  /* Default theme specific background. It is overwritten whether we have a\n",
       "  specific estimator or a Pipeline/ColumnTransformer */\n",
       "  background-color: var(--sklearn-color-background);\n",
       "}\n",
       "\n",
       "/* Toggleable label */\n",
       "#sk-container-id-2 label.sk-toggleable__label {\n",
       "  cursor: pointer;\n",
       "  display: block;\n",
       "  width: 100%;\n",
       "  margin-bottom: 0;\n",
       "  padding: 0.5em;\n",
       "  box-sizing: border-box;\n",
       "  text-align: center;\n",
       "}\n",
       "\n",
       "#sk-container-id-2 label.sk-toggleable__label-arrow:before {\n",
       "  /* Arrow on the left of the label */\n",
       "  content: \"▸\";\n",
       "  float: left;\n",
       "  margin-right: 0.25em;\n",
       "  color: var(--sklearn-color-icon);\n",
       "}\n",
       "\n",
       "#sk-container-id-2 label.sk-toggleable__label-arrow:hover:before {\n",
       "  color: var(--sklearn-color-text);\n",
       "}\n",
       "\n",
       "/* Toggleable content - dropdown */\n",
       "\n",
       "#sk-container-id-2 div.sk-toggleable__content {\n",
       "  max-height: 0;\n",
       "  max-width: 0;\n",
       "  overflow: hidden;\n",
       "  text-align: left;\n",
       "  /* unfitted */\n",
       "  background-color: var(--sklearn-color-unfitted-level-0);\n",
       "}\n",
       "\n",
       "#sk-container-id-2 div.sk-toggleable__content.fitted {\n",
       "  /* fitted */\n",
       "  background-color: var(--sklearn-color-fitted-level-0);\n",
       "}\n",
       "\n",
       "#sk-container-id-2 div.sk-toggleable__content pre {\n",
       "  margin: 0.2em;\n",
       "  border-radius: 0.25em;\n",
       "  color: var(--sklearn-color-text);\n",
       "  /* unfitted */\n",
       "  background-color: var(--sklearn-color-unfitted-level-0);\n",
       "}\n",
       "\n",
       "#sk-container-id-2 div.sk-toggleable__content.fitted pre {\n",
       "  /* unfitted */\n",
       "  background-color: var(--sklearn-color-fitted-level-0);\n",
       "}\n",
       "\n",
       "#sk-container-id-2 input.sk-toggleable__control:checked~div.sk-toggleable__content {\n",
       "  /* Expand drop-down */\n",
       "  max-height: 200px;\n",
       "  max-width: 100%;\n",
       "  overflow: auto;\n",
       "}\n",
       "\n",
       "#sk-container-id-2 input.sk-toggleable__control:checked~label.sk-toggleable__label-arrow:before {\n",
       "  content: \"▾\";\n",
       "}\n",
       "\n",
       "/* Pipeline/ColumnTransformer-specific style */\n",
       "\n",
       "#sk-container-id-2 div.sk-label input.sk-toggleable__control:checked~label.sk-toggleable__label {\n",
       "  color: var(--sklearn-color-text);\n",
       "  background-color: var(--sklearn-color-unfitted-level-2);\n",
       "}\n",
       "\n",
       "#sk-container-id-2 div.sk-label.fitted input.sk-toggleable__control:checked~label.sk-toggleable__label {\n",
       "  background-color: var(--sklearn-color-fitted-level-2);\n",
       "}\n",
       "\n",
       "/* Estimator-specific style */\n",
       "\n",
       "/* Colorize estimator box */\n",
       "#sk-container-id-2 div.sk-estimator input.sk-toggleable__control:checked~label.sk-toggleable__label {\n",
       "  /* unfitted */\n",
       "  background-color: var(--sklearn-color-unfitted-level-2);\n",
       "}\n",
       "\n",
       "#sk-container-id-2 div.sk-estimator.fitted input.sk-toggleable__control:checked~label.sk-toggleable__label {\n",
       "  /* fitted */\n",
       "  background-color: var(--sklearn-color-fitted-level-2);\n",
       "}\n",
       "\n",
       "#sk-container-id-2 div.sk-label label.sk-toggleable__label,\n",
       "#sk-container-id-2 div.sk-label label {\n",
       "  /* The background is the default theme color */\n",
       "  color: var(--sklearn-color-text-on-default-background);\n",
       "}\n",
       "\n",
       "/* On hover, darken the color of the background */\n",
       "#sk-container-id-2 div.sk-label:hover label.sk-toggleable__label {\n",
       "  color: var(--sklearn-color-text);\n",
       "  background-color: var(--sklearn-color-unfitted-level-2);\n",
       "}\n",
       "\n",
       "/* Label box, darken color on hover, fitted */\n",
       "#sk-container-id-2 div.sk-label.fitted:hover label.sk-toggleable__label.fitted {\n",
       "  color: var(--sklearn-color-text);\n",
       "  background-color: var(--sklearn-color-fitted-level-2);\n",
       "}\n",
       "\n",
       "/* Estimator label */\n",
       "\n",
       "#sk-container-id-2 div.sk-label label {\n",
       "  font-family: monospace;\n",
       "  font-weight: bold;\n",
       "  display: inline-block;\n",
       "  line-height: 1.2em;\n",
       "}\n",
       "\n",
       "#sk-container-id-2 div.sk-label-container {\n",
       "  text-align: center;\n",
       "}\n",
       "\n",
       "/* Estimator-specific */\n",
       "#sk-container-id-2 div.sk-estimator {\n",
       "  font-family: monospace;\n",
       "  border: 1px dotted var(--sklearn-color-border-box);\n",
       "  border-radius: 0.25em;\n",
       "  box-sizing: border-box;\n",
       "  margin-bottom: 0.5em;\n",
       "  /* unfitted */\n",
       "  background-color: var(--sklearn-color-unfitted-level-0);\n",
       "}\n",
       "\n",
       "#sk-container-id-2 div.sk-estimator.fitted {\n",
       "  /* fitted */\n",
       "  background-color: var(--sklearn-color-fitted-level-0);\n",
       "}\n",
       "\n",
       "/* on hover */\n",
       "#sk-container-id-2 div.sk-estimator:hover {\n",
       "  /* unfitted */\n",
       "  background-color: var(--sklearn-color-unfitted-level-2);\n",
       "}\n",
       "\n",
       "#sk-container-id-2 div.sk-estimator.fitted:hover {\n",
       "  /* fitted */\n",
       "  background-color: var(--sklearn-color-fitted-level-2);\n",
       "}\n",
       "\n",
       "/* Specification for estimator info (e.g. \"i\" and \"?\") */\n",
       "\n",
       "/* Common style for \"i\" and \"?\" */\n",
       "\n",
       ".sk-estimator-doc-link,\n",
       "a:link.sk-estimator-doc-link,\n",
       "a:visited.sk-estimator-doc-link {\n",
       "  float: right;\n",
       "  font-size: smaller;\n",
       "  line-height: 1em;\n",
       "  font-family: monospace;\n",
       "  background-color: var(--sklearn-color-background);\n",
       "  border-radius: 1em;\n",
       "  height: 1em;\n",
       "  width: 1em;\n",
       "  text-decoration: none !important;\n",
       "  margin-left: 1ex;\n",
       "  /* unfitted */\n",
       "  border: var(--sklearn-color-unfitted-level-1) 1pt solid;\n",
       "  color: var(--sklearn-color-unfitted-level-1);\n",
       "}\n",
       "\n",
       ".sk-estimator-doc-link.fitted,\n",
       "a:link.sk-estimator-doc-link.fitted,\n",
       "a:visited.sk-estimator-doc-link.fitted {\n",
       "  /* fitted */\n",
       "  border: var(--sklearn-color-fitted-level-1) 1pt solid;\n",
       "  color: var(--sklearn-color-fitted-level-1);\n",
       "}\n",
       "\n",
       "/* On hover */\n",
       "div.sk-estimator:hover .sk-estimator-doc-link:hover,\n",
       ".sk-estimator-doc-link:hover,\n",
       "div.sk-label-container:hover .sk-estimator-doc-link:hover,\n",
       ".sk-estimator-doc-link:hover {\n",
       "  /* unfitted */\n",
       "  background-color: var(--sklearn-color-unfitted-level-3);\n",
       "  color: var(--sklearn-color-background);\n",
       "  text-decoration: none;\n",
       "}\n",
       "\n",
       "div.sk-estimator.fitted:hover .sk-estimator-doc-link.fitted:hover,\n",
       ".sk-estimator-doc-link.fitted:hover,\n",
       "div.sk-label-container:hover .sk-estimator-doc-link.fitted:hover,\n",
       ".sk-estimator-doc-link.fitted:hover {\n",
       "  /* fitted */\n",
       "  background-color: var(--sklearn-color-fitted-level-3);\n",
       "  color: var(--sklearn-color-background);\n",
       "  text-decoration: none;\n",
       "}\n",
       "\n",
       "/* Span, style for the box shown on hovering the info icon */\n",
       ".sk-estimator-doc-link span {\n",
       "  display: none;\n",
       "  z-index: 9999;\n",
       "  position: relative;\n",
       "  font-weight: normal;\n",
       "  right: .2ex;\n",
       "  padding: .5ex;\n",
       "  margin: .5ex;\n",
       "  width: min-content;\n",
       "  min-width: 20ex;\n",
       "  max-width: 50ex;\n",
       "  color: var(--sklearn-color-text);\n",
       "  box-shadow: 2pt 2pt 4pt #999;\n",
       "  /* unfitted */\n",
       "  background: var(--sklearn-color-unfitted-level-0);\n",
       "  border: .5pt solid var(--sklearn-color-unfitted-level-3);\n",
       "}\n",
       "\n",
       ".sk-estimator-doc-link.fitted span {\n",
       "  /* fitted */\n",
       "  background: var(--sklearn-color-fitted-level-0);\n",
       "  border: var(--sklearn-color-fitted-level-3);\n",
       "}\n",
       "\n",
       ".sk-estimator-doc-link:hover span {\n",
       "  display: block;\n",
       "}\n",
       "\n",
       "/* \"?\"-specific style due to the `<a>` HTML tag */\n",
       "\n",
       "#sk-container-id-2 a.estimator_doc_link {\n",
       "  float: right;\n",
       "  font-size: 1rem;\n",
       "  line-height: 1em;\n",
       "  font-family: monospace;\n",
       "  background-color: var(--sklearn-color-background);\n",
       "  border-radius: 1rem;\n",
       "  height: 1rem;\n",
       "  width: 1rem;\n",
       "  text-decoration: none;\n",
       "  /* unfitted */\n",
       "  color: var(--sklearn-color-unfitted-level-1);\n",
       "  border: var(--sklearn-color-unfitted-level-1) 1pt solid;\n",
       "}\n",
       "\n",
       "#sk-container-id-2 a.estimator_doc_link.fitted {\n",
       "  /* fitted */\n",
       "  border: var(--sklearn-color-fitted-level-1) 1pt solid;\n",
       "  color: var(--sklearn-color-fitted-level-1);\n",
       "}\n",
       "\n",
       "/* On hover */\n",
       "#sk-container-id-2 a.estimator_doc_link:hover {\n",
       "  /* unfitted */\n",
       "  background-color: var(--sklearn-color-unfitted-level-3);\n",
       "  color: var(--sklearn-color-background);\n",
       "  text-decoration: none;\n",
       "}\n",
       "\n",
       "#sk-container-id-2 a.estimator_doc_link.fitted:hover {\n",
       "  /* fitted */\n",
       "  background-color: var(--sklearn-color-fitted-level-3);\n",
       "}\n",
       "</style><div id=\"sk-container-id-2\" class=\"sk-top-container\"><div class=\"sk-text-repr-fallback\"><pre>AdaBoostRegressor()</pre><b>In a Jupyter environment, please rerun this cell to show the HTML representation or trust the notebook. <br />On GitHub, the HTML representation is unable to render, please try loading this page with nbviewer.org.</b></div><div class=\"sk-container\" hidden><div class=\"sk-item\"><div class=\"sk-estimator fitted sk-toggleable\"><input class=\"sk-toggleable__control sk-hidden--visually\" id=\"sk-estimator-id-2\" type=\"checkbox\" checked><label for=\"sk-estimator-id-2\" class=\"sk-toggleable__label fitted sk-toggleable__label-arrow fitted\">&nbsp;&nbsp;AdaBoostRegressor<a class=\"sk-estimator-doc-link fitted\" rel=\"noreferrer\" target=\"_blank\" href=\"https://scikit-learn.org/1.4/modules/generated/sklearn.ensemble.AdaBoostRegressor.html\">?<span>Documentation for AdaBoostRegressor</span></a><span class=\"sk-estimator-doc-link fitted\">i<span>Fitted</span></span></label><div class=\"sk-toggleable__content fitted\"><pre>AdaBoostRegressor()</pre></div> </div></div></div></div>"
      ],
      "text/plain": [
       "AdaBoostRegressor()"
      ]
     },
     "execution_count": 276,
     "metadata": {},
     "output_type": "execute_result"
    }
   ],
   "source": [
    "a.fit(x_trian,y_train)"
   ]
  },
  {
   "cell_type": "code",
   "execution_count": 277,
   "metadata": {},
   "outputs": [],
   "source": [
    "p=a.predict(x_test)"
   ]
  },
  {
   "cell_type": "code",
   "execution_count": 278,
   "metadata": {},
   "outputs": [],
   "source": [
    "from sklearn.metrics import r2_score,mean_absolute_error"
   ]
  },
  {
   "cell_type": "code",
   "execution_count": 279,
   "metadata": {},
   "outputs": [
    {
     "data": {
      "text/plain": [
       "0.8489675277959782"
      ]
     },
     "execution_count": 279,
     "metadata": {},
     "output_type": "execute_result"
    }
   ],
   "source": [
    "r2_score(y_test,p)"
   ]
  },
  {
   "cell_type": "code",
   "execution_count": 280,
   "metadata": {},
   "outputs": [],
   "source": [
    "import optuna"
   ]
  },
  {
   "cell_type": "code",
   "execution_count": 284,
   "metadata": {},
   "outputs": [],
   "source": [
    "def objective(trial):\n",
    "    learning_rate=trial.suggest_float('learning_rate',.001,1,log=True)\n",
    "    loss=trial.suggest_categorical('loss',['linear','square','exponential'])\n",
    "    n_estimators=trial.suggest_int('n_estimators',100,1000)\n",
    "    model=AdaBoostRegressor(n_estimators=n_estimators,\n",
    "    learning_rate=learning_rate,\n",
    "    loss=loss\n",
    "    )\n",
    "    model.fit(x_trian,y_train)\n",
    "    p=model.predict(x_test)\n",
    "    v=r2_score(y_test,p)\n",
    "    return v"
   ]
  },
  {
   "cell_type": "code",
   "execution_count": 285,
   "metadata": {},
   "outputs": [
    {
     "name": "stderr",
     "output_type": "stream",
     "text": [
      "[I 2024-04-19 05:00:23,686] A new study created in memory with name: no-name-8dab0243-fb9c-4b00-a71d-aa77704cfdd6\n"
     ]
    }
   ],
   "source": [
    "study=optuna.create_study(direction='maximize')"
   ]
  },
  {
   "cell_type": "code",
   "execution_count": 286,
   "metadata": {},
   "outputs": [
    {
     "name": "stderr",
     "output_type": "stream",
     "text": [
      "[I 2024-04-19 05:00:24,713] Trial 0 finished with value: 0.8738118723034412 and parameters: {'learning_rate': 0.9431691095417283, 'loss': 'linear', 'n_estimators': 983}. Best is trial 0 with value: 0.8738118723034412.\n",
      "[I 2024-04-19 05:00:24,977] Trial 1 finished with value: 0.6554551306875172 and parameters: {'learning_rate': 0.1614575651023029, 'loss': 'exponential', 'n_estimators': 168}. Best is trial 0 with value: 0.8738118723034412.\n",
      "[I 2024-04-19 05:00:25,315] Trial 2 finished with value: 0.8544776268090437 and parameters: {'learning_rate': 0.026312948293508144, 'loss': 'linear', 'n_estimators': 528}. Best is trial 0 with value: 0.8738118723034412.\n",
      "[I 2024-04-19 05:00:26,429] Trial 3 finished with value: 0.8333557875984653 and parameters: {'learning_rate': 0.004975364137272745, 'loss': 'square', 'n_estimators': 780}. Best is trial 0 with value: 0.8738118723034412.\n",
      "[I 2024-04-19 05:00:27,096] Trial 4 finished with value: 0.8553418890035747 and parameters: {'learning_rate': 0.012136789538624916, 'loss': 'linear', 'n_estimators': 809}. Best is trial 0 with value: 0.8738118723034412.\n",
      "[I 2024-04-19 05:00:28,198] Trial 5 finished with value: 0.8815985210854207 and parameters: {'learning_rate': 0.001979433682637516, 'loss': 'square', 'n_estimators': 782}. Best is trial 5 with value: 0.8815985210854207.\n",
      "[I 2024-04-19 05:00:29,528] Trial 6 finished with value: 0.33572556971377376 and parameters: {'learning_rate': 0.06296981949091082, 'loss': 'square', 'n_estimators': 1000}. Best is trial 5 with value: 0.8815985210854207.\n",
      "[I 2024-04-19 05:00:29,945] Trial 7 finished with value: 0.856475062318543 and parameters: {'learning_rate': 0.020433971346368335, 'loss': 'linear', 'n_estimators': 625}. Best is trial 5 with value: 0.8815985210854207.\n",
      "[I 2024-04-19 05:00:31,042] Trial 8 finished with value: 0.8795853196963127 and parameters: {'learning_rate': 0.002144999853590997, 'loss': 'square', 'n_estimators': 753}. Best is trial 5 with value: 0.8815985210854207.\n",
      "[I 2024-04-19 05:00:32,102] Trial 9 finished with value: 0.8907751902763072 and parameters: {'learning_rate': 0.00245841802278782, 'loss': 'linear', 'n_estimators': 751}. Best is trial 9 with value: 0.8907751902763072.\n",
      "[I 2024-04-19 05:00:32,696] Trial 10 finished with value: 0.9111002894952955 and parameters: {'learning_rate': 0.001201615904384064, 'loss': 'exponential', 'n_estimators': 399}. Best is trial 10 with value: 0.9111002894952955.\n",
      "[I 2024-04-19 05:00:33,217] Trial 11 finished with value: 0.9116781628854775 and parameters: {'learning_rate': 0.0012529517194935248, 'loss': 'exponential', 'n_estimators': 353}. Best is trial 11 with value: 0.9116781628854775.\n",
      "[I 2024-04-19 05:00:33,666] Trial 12 finished with value: 0.9119704416568073 and parameters: {'learning_rate': 0.0011460679878985893, 'loss': 'exponential', 'n_estimators': 303}. Best is trial 12 with value: 0.9119704416568073.\n",
      "[I 2024-04-19 05:00:34,031] Trial 13 finished with value: 0.896591734701708 and parameters: {'learning_rate': 0.00687080546436837, 'loss': 'exponential', 'n_estimators': 244}. Best is trial 12 with value: 0.9119704416568073.\n",
      "[I 2024-04-19 05:00:34,511] Trial 14 finished with value: 0.9119604769191494 and parameters: {'learning_rate': 0.0010585771195788104, 'loss': 'exponential', 'n_estimators': 328}. Best is trial 12 with value: 0.9119704416568073.\n",
      "[I 2024-04-19 05:00:34,695] Trial 15 finished with value: 0.9098237062008576 and parameters: {'learning_rate': 0.004863352947930933, 'loss': 'exponential', 'n_estimators': 116}. Best is trial 12 with value: 0.9119704416568073.\n",
      "[I 2024-04-19 05:00:35,147] Trial 16 finished with value: 0.6780534749867806 and parameters: {'learning_rate': 0.0759615740220683, 'loss': 'exponential', 'n_estimators': 321}. Best is trial 12 with value: 0.9119704416568073.\n",
      "[I 2024-04-19 05:00:35,828] Trial 17 finished with value: 0.3661113096642036 and parameters: {'learning_rate': 0.30102565469247383, 'loss': 'exponential', 'n_estimators': 495}. Best is trial 12 with value: 0.9119704416568073.\n",
      "[I 2024-04-19 05:00:36,179] Trial 18 finished with value: 0.9129191511931156 and parameters: {'learning_rate': 0.0010163048972455567, 'loss': 'exponential', 'n_estimators': 231}. Best is trial 18 with value: 0.9129191511931156.\n",
      "[I 2024-04-19 05:00:36,545] Trial 19 finished with value: 0.8910858822371771 and parameters: {'learning_rate': 0.009887401717355946, 'loss': 'exponential', 'n_estimators': 233}. Best is trial 18 with value: 0.9129191511931156.\n",
      "[I 2024-04-19 05:00:37,164] Trial 20 finished with value: 0.8983025548386452 and parameters: {'learning_rate': 0.003602570928005736, 'loss': 'exponential', 'n_estimators': 427}. Best is trial 18 with value: 0.9129191511931156.\n",
      "[I 2024-04-19 05:00:37,557] Trial 21 finished with value: 0.9120814363903771 and parameters: {'learning_rate': 0.001037668767317099, 'loss': 'exponential', 'n_estimators': 263}. Best is trial 18 with value: 0.9129191511931156.\n",
      "[I 2024-04-19 05:00:37,895] Trial 22 finished with value: 0.9100483669777417 and parameters: {'learning_rate': 0.002570156586700664, 'loss': 'exponential', 'n_estimators': 229}. Best is trial 18 with value: 0.9129191511931156.\n",
      "[I 2024-04-19 05:00:38,078] Trial 23 finished with value: 0.9129530105996254 and parameters: {'learning_rate': 0.0015142422573417795, 'loss': 'exponential', 'n_estimators': 103}. Best is trial 23 with value: 0.9129530105996254.\n",
      "[I 2024-04-19 05:00:38,244] Trial 24 finished with value: 0.912490291684547 and parameters: {'learning_rate': 0.0019190701859635184, 'loss': 'exponential', 'n_estimators': 110}. Best is trial 23 with value: 0.9129530105996254.\n",
      "[I 2024-04-19 05:00:38,429] Trial 25 finished with value: 0.9021260257762258 and parameters: {'learning_rate': 0.012584290968493768, 'loss': 'exponential', 'n_estimators': 124}. Best is trial 23 with value: 0.9129530105996254.\n",
      "[I 2024-04-19 05:00:38,695] Trial 26 finished with value: 0.9091772211056794 and parameters: {'learning_rate': 0.003611902608127292, 'loss': 'exponential', 'n_estimators': 173}. Best is trial 23 with value: 0.9129530105996254.\n",
      "[I 2024-04-19 05:00:38,945] Trial 27 finished with value: 0.9120502128440863 and parameters: {'learning_rate': 0.0018630210905695747, 'loss': 'exponential', 'n_estimators': 167}. Best is trial 23 with value: 0.9129530105996254.\n",
      "[I 2024-04-19 05:00:39,128] Trial 28 finished with value: 0.8970331013955897 and parameters: {'learning_rate': 0.0072733465947379915, 'loss': 'square', 'n_estimators': 124}. Best is trial 23 with value: 0.9129530105996254.\n",
      "[I 2024-04-19 05:00:39,396] Trial 29 finished with value: 0.34956692514944343 and parameters: {'learning_rate': 0.819692738688726, 'loss': 'exponential', 'n_estimators': 196}. Best is trial 23 with value: 0.9129530105996254.\n",
      "[I 2024-04-19 05:00:39,577] Trial 30 finished with value: 0.8579218466494938 and parameters: {'learning_rate': 0.04865034665487631, 'loss': 'linear', 'n_estimators': 646}. Best is trial 23 with value: 0.9129530105996254.\n",
      "[I 2024-04-19 05:00:39,961] Trial 31 finished with value: 0.9104395659471995 and parameters: {'learning_rate': 0.0017170946229190904, 'loss': 'exponential', 'n_estimators': 262}. Best is trial 23 with value: 0.9129530105996254.\n",
      "[I 2024-04-19 05:00:40,128] Trial 32 finished with value: 0.9135480360271705 and parameters: {'learning_rate': 0.001033807711960873, 'loss': 'exponential', 'n_estimators': 104}. Best is trial 32 with value: 0.9135480360271705.\n",
      "[I 2024-04-19 05:00:40,277] Trial 33 finished with value: 0.9117838457559034 and parameters: {'learning_rate': 0.0034082894212418145, 'loss': 'exponential', 'n_estimators': 101}. Best is trial 32 with value: 0.9135480360271705.\n",
      "[I 2024-04-19 05:00:40,513] Trial 34 finished with value: 0.9120759236490618 and parameters: {'learning_rate': 0.001498118732429998, 'loss': 'exponential', 'n_estimators': 155}. Best is trial 32 with value: 0.9135480360271705.\n",
      "[I 2024-04-19 05:00:41,811] Trial 35 finished with value: 0.8874740040793309 and parameters: {'learning_rate': 0.0028094817002437054, 'loss': 'exponential', 'n_estimators': 908}. Best is trial 32 with value: 0.9135480360271705.\n",
      "[I 2024-04-19 05:00:42,111] Trial 36 finished with value: 0.9036798138653096 and parameters: {'learning_rate': 0.00462581030719762, 'loss': 'linear', 'n_estimators': 203}. Best is trial 32 with value: 0.9135480360271705.\n",
      "[I 2024-04-19 05:00:42,345] Trial 37 finished with value: 0.9102429251165484 and parameters: {'learning_rate': 0.0016290032534942809, 'loss': 'square', 'n_estimators': 161}. Best is trial 32 with value: 0.9135480360271705.\n",
      "[I 2024-04-19 05:00:42,927] Trial 38 finished with value: 0.8374640870607659 and parameters: {'learning_rate': 0.019159305528890315, 'loss': 'exponential', 'n_estimators': 395}. Best is trial 32 with value: 0.9135480360271705.\n",
      "[I 2024-04-19 05:00:43,327] Trial 39 finished with value: 0.6027805035863785 and parameters: {'learning_rate': 0.12053174060613868, 'loss': 'exponential', 'n_estimators': 287}. Best is trial 32 with value: 0.9135480360271705.\n",
      "[I 2024-04-19 05:00:43,493] Trial 40 finished with value: 0.8993774230970829 and parameters: {'learning_rate': 0.006361398119133522, 'loss': 'square', 'n_estimators': 104}. Best is trial 32 with value: 0.9135480360271705.\n",
      "[I 2024-04-19 05:00:43,795] Trial 41 finished with value: 0.9126414501875344 and parameters: {'learning_rate': 0.0010144557431033129, 'loss': 'exponential', 'n_estimators': 206}. Best is trial 32 with value: 0.9135480360271705.\n",
      "[I 2024-04-19 05:00:44,111] Trial 42 finished with value: 0.9106474432437517 and parameters: {'learning_rate': 0.002195115295351943, 'loss': 'exponential', 'n_estimators': 209}. Best is trial 32 with value: 0.9135480360271705.\n",
      "[I 2024-04-19 05:00:44,342] Trial 43 finished with value: 0.9134928535941972 and parameters: {'learning_rate': 0.001518568941544266, 'loss': 'exponential', 'n_estimators': 155}. Best is trial 32 with value: 0.9135480360271705.\n",
      "[I 2024-04-19 05:00:44,610] Trial 44 finished with value: 0.912305937647686 and parameters: {'learning_rate': 0.001481588866473174, 'loss': 'linear', 'n_estimators': 165}. Best is trial 32 with value: 0.9135480360271705.\n",
      "[I 2024-04-19 05:00:45,131] Trial 45 finished with value: 0.9112503683779756 and parameters: {'learning_rate': 0.0010347219421979915, 'loss': 'exponential', 'n_estimators': 363}. Best is trial 32 with value: 0.9135480360271705.\n",
      "[I 2024-04-19 05:00:45,841] Trial 46 finished with value: 0.9092236557850059 and parameters: {'learning_rate': 0.0013500218516862392, 'loss': 'exponential', 'n_estimators': 477}. Best is trial 32 with value: 0.9135480360271705.\n",
      "[I 2024-04-19 05:00:46,712] Trial 47 finished with value: 0.9003035030441427 and parameters: {'learning_rate': 0.0025779476184545316, 'loss': 'exponential', 'n_estimators': 603}. Best is trial 32 with value: 0.9135480360271705.\n",
      "[I 2024-04-19 05:00:47,110] Trial 48 finished with value: 0.8973365352482523 and parameters: {'learning_rate': 0.0032117359009775593, 'loss': 'square', 'n_estimators': 270}. Best is trial 32 with value: 0.9135480360271705.\n",
      "[I 2024-04-19 05:00:47,325] Trial 49 finished with value: 0.9124194015848418 and parameters: {'learning_rate': 0.0014148926297919582, 'loss': 'linear', 'n_estimators': 147}. Best is trial 32 with value: 0.9135480360271705.\n",
      "[I 2024-04-19 05:00:47,627] Trial 50 finished with value: 0.9137748763233269 and parameters: {'learning_rate': 0.001009739887018164, 'loss': 'exponential', 'n_estimators': 201}. Best is trial 50 with value: 0.9137748763233269.\n",
      "[I 2024-04-19 05:00:47,911] Trial 51 finished with value: 0.9130051133248067 and parameters: {'learning_rate': 0.0010353087971188798, 'loss': 'exponential', 'n_estimators': 197}. Best is trial 50 with value: 0.9137748763233269.\n",
      "[I 2024-04-19 05:00:48,194] Trial 52 finished with value: 0.9119823783965345 and parameters: {'learning_rate': 0.0020498835836547757, 'loss': 'exponential', 'n_estimators': 190}. Best is trial 50 with value: 0.9137748763233269.\n",
      "[I 2024-04-19 05:00:48,561] Trial 53 finished with value: 0.9113697958944912 and parameters: {'learning_rate': 0.0012788983642272257, 'loss': 'exponential', 'n_estimators': 241}. Best is trial 50 with value: 0.9137748763233269.\n",
      "[I 2024-04-19 05:00:48,991] Trial 54 finished with value: 0.9124258564294034 and parameters: {'learning_rate': 0.0010088612265125563, 'loss': 'exponential', 'n_estimators': 299}. Best is trial 50 with value: 0.9137748763233269.\n",
      "[I 2024-04-19 05:00:49,211] Trial 55 finished with value: 0.9136197634440251 and parameters: {'learning_rate': 0.001704437105271571, 'loss': 'exponential', 'n_estimators': 140}. Best is trial 50 with value: 0.9137748763233269.\n",
      "[I 2024-04-19 05:00:49,408] Trial 56 finished with value: 0.9088075916806706 and parameters: {'learning_rate': 0.004638688174985368, 'loss': 'exponential', 'n_estimators': 130}. Best is trial 50 with value: 0.9137748763233269.\n",
      "[I 2024-04-19 05:00:49,890] Trial 57 finished with value: 0.9088185863995527 and parameters: {'learning_rate': 0.002267827724770739, 'loss': 'exponential', 'n_estimators': 329}. Best is trial 50 with value: 0.9137748763233269.\n",
      "[I 2024-04-19 05:00:50,105] Trial 58 finished with value: 0.9125216318850704 and parameters: {'learning_rate': 0.001660183306379207, 'loss': 'exponential', 'n_estimators': 143}. Best is trial 50 with value: 0.9137748763233269.\n",
      "[I 2024-04-19 05:00:50,361] Trial 59 finished with value: 0.9112671164496419 and parameters: {'learning_rate': 0.0030384055434386956, 'loss': 'exponential', 'n_estimators': 177}. Best is trial 50 with value: 0.9137748763233269.\n",
      "[I 2024-04-19 05:00:50,529] Trial 60 finished with value: 0.9121139572855269 and parameters: {'learning_rate': 0.004109737305418579, 'loss': 'exponential', 'n_estimators': 100}. Best is trial 50 with value: 0.9137748763233269.\n",
      "[I 2024-04-19 05:00:50,860] Trial 61 finished with value: 0.9123447656062494 and parameters: {'learning_rate': 0.0012195366578608114, 'loss': 'exponential', 'n_estimators': 225}. Best is trial 50 with value: 0.9137748763233269.\n",
      "[I 2024-04-19 05:00:51,062] Trial 62 finished with value: 0.9119877591310168 and parameters: {'learning_rate': 0.0019168695459646351, 'loss': 'exponential', 'n_estimators': 133}. Best is trial 50 with value: 0.9137748763233269.\n",
      "[I 2024-04-19 05:00:51,426] Trial 63 finished with value: 0.9117476608431055 and parameters: {'learning_rate': 0.001326876823521993, 'loss': 'exponential', 'n_estimators': 251}. Best is trial 50 with value: 0.9137748763233269.\n",
      "[I 2024-04-19 05:00:51,760] Trial 64 finished with value: 0.9115348371187215 and parameters: {'learning_rate': 0.0023626915970099177, 'loss': 'exponential', 'n_estimators': 218}. Best is trial 50 with value: 0.9137748763233269.\n",
      "[I 2024-04-19 05:00:52,027] Trial 65 finished with value: 0.9120708357553736 and parameters: {'learning_rate': 0.0015776529810623276, 'loss': 'exponential', 'n_estimators': 180}. Best is trial 50 with value: 0.9137748763233269.\n",
      "[I 2024-04-19 05:00:53,008] Trial 66 finished with value: 0.9023670935454459 and parameters: {'learning_rate': 0.0019587606517723526, 'loss': 'exponential', 'n_estimators': 681}. Best is trial 50 with value: 0.9137748763233269.\n",
      "[I 2024-04-19 05:00:53,210] Trial 67 finished with value: 0.9124554987488915 and parameters: {'learning_rate': 0.001204665280096965, 'loss': 'linear', 'n_estimators': 144}. Best is trial 50 with value: 0.9137748763233269.\n",
      "[I 2024-04-19 05:00:53,593] Trial 68 finished with value: 0.31010900942830255 and parameters: {'learning_rate': 0.4378266528067214, 'loss': 'square', 'n_estimators': 281}. Best is trial 50 with value: 0.9137748763233269.\n",
      "[I 2024-04-19 05:00:53,875] Trial 69 finished with value: 0.9120274537953972 and parameters: {'learning_rate': 0.0026738889506834787, 'loss': 'exponential', 'n_estimators': 190}. Best is trial 50 with value: 0.9137748763233269.\n",
      "[I 2024-04-19 05:00:55,095] Trial 70 finished with value: 0.6527236150312544 and parameters: {'learning_rate': 0.031195726852877876, 'loss': 'exponential', 'n_estimators': 872}. Best is trial 50 with value: 0.9137748763233269.\n",
      "[I 2024-04-19 05:00:55,412] Trial 71 finished with value: 0.912870622930777 and parameters: {'learning_rate': 0.0010782709946183782, 'loss': 'exponential', 'n_estimators': 216}. Best is trial 50 with value: 0.9137748763233269.\n",
      "[I 2024-04-19 05:00:55,760] Trial 72 finished with value: 0.9121000069320742 and parameters: {'learning_rate': 0.0011931136577336963, 'loss': 'exponential', 'n_estimators': 241}. Best is trial 50 with value: 0.9137748763233269.\n",
      "[I 2024-04-19 05:00:55,977] Trial 73 finished with value: 0.9122474797118909 and parameters: {'learning_rate': 0.0016841642989987994, 'loss': 'exponential', 'n_estimators': 134}. Best is trial 50 with value: 0.9137748763233269.\n",
      "[I 2024-04-19 05:00:56,226] Trial 74 finished with value: 0.9125641506243316 and parameters: {'learning_rate': 0.001455283054831049, 'loss': 'exponential', 'n_estimators': 169}. Best is trial 50 with value: 0.9137748763233269.\n",
      "[I 2024-04-19 05:00:56,410] Trial 75 finished with value: 0.9140812702128652 and parameters: {'learning_rate': 0.0010017110828471239, 'loss': 'exponential', 'n_estimators': 118}. Best is trial 75 with value: 0.9140812702128652.\n",
      "[I 2024-04-19 05:00:56,593] Trial 76 finished with value: 0.913956273540499 and parameters: {'learning_rate': 0.0010008827908042873, 'loss': 'exponential', 'n_estimators': 122}. Best is trial 75 with value: 0.9140812702128652.\n",
      "[I 2024-04-19 05:00:56,789] Trial 77 finished with value: 0.9134327245130939 and parameters: {'learning_rate': 0.0018350531468145318, 'loss': 'exponential', 'n_estimators': 121}. Best is trial 75 with value: 0.9140812702128652.\n",
      "[I 2024-04-19 05:00:56,960] Trial 78 finished with value: 0.9148659538632945 and parameters: {'learning_rate': 0.0017318756129784008, 'loss': 'exponential', 'n_estimators': 116}. Best is trial 78 with value: 0.9148659538632945.\n",
      "[I 2024-04-19 05:00:57,143] Trial 79 finished with value: 0.9123287465321857 and parameters: {'learning_rate': 0.0019183148543458755, 'loss': 'exponential', 'n_estimators': 115}. Best is trial 78 with value: 0.9148659538632945.\n",
      "[I 2024-04-19 05:00:57,376] Trial 80 finished with value: 0.9093594807592931 and parameters: {'learning_rate': 0.003876252745879345, 'loss': 'exponential', 'n_estimators': 158}. Best is trial 78 with value: 0.9148659538632945.\n",
      "[I 2024-04-19 05:00:57,574] Trial 81 finished with value: 0.913682823849342 and parameters: {'learning_rate': 0.0012242749950022926, 'loss': 'exponential', 'n_estimators': 128}. Best is trial 78 with value: 0.9148659538632945.\n",
      "[I 2024-04-19 05:00:57,761] Trial 82 finished with value: 0.9077952766850779 and parameters: {'learning_rate': 0.005800808757110551, 'loss': 'exponential', 'n_estimators': 122}. Best is trial 78 with value: 0.9148659538632945.\n",
      "[I 2024-04-19 05:00:57,976] Trial 83 finished with value: 0.9132510721476794 and parameters: {'learning_rate': 0.0013679722345967798, 'loss': 'exponential', 'n_estimators': 140}. Best is trial 78 with value: 0.9148659538632945.\n",
      "[I 2024-04-19 05:00:58,127] Trial 84 finished with value: 0.9112668525819914 and parameters: {'learning_rate': 0.0022277373750798422, 'loss': 'exponential', 'n_estimators': 101}. Best is trial 78 with value: 0.9148659538632945.\n",
      "[I 2024-04-19 05:00:58,378] Trial 85 finished with value: 0.9099250625138013 and parameters: {'learning_rate': 0.0017034921699972845, 'loss': 'square', 'n_estimators': 161}. Best is trial 78 with value: 0.9148659538632945.\n",
      "[I 2024-04-19 05:00:58,643] Trial 86 finished with value: 0.8996967500246147 and parameters: {'learning_rate': 0.00857509831586471, 'loss': 'exponential', 'n_estimators': 181}. Best is trial 78 with value: 0.9148659538632945.\n",
      "[I 2024-04-19 05:00:58,841] Trial 87 finished with value: 0.9103693173815071 and parameters: {'learning_rate': 0.0029810765994044267, 'loss': 'linear', 'n_estimators': 122}. Best is trial 78 with value: 0.9148659538632945.\n",
      "[I 2024-04-19 05:00:59,059] Trial 88 finished with value: 0.9124753561750455 and parameters: {'learning_rate': 0.0012105885751950765, 'loss': 'exponential', 'n_estimators': 149}. Best is trial 78 with value: 0.9148659538632945.\n",
      "[I 2024-04-19 05:00:59,226] Trial 89 finished with value: 0.9012185222633526 and parameters: {'learning_rate': 0.014097275434361128, 'loss': 'exponential', 'n_estimators': 101}. Best is trial 78 with value: 0.9148659538632945.\n",
      "[I 2024-04-19 05:01:00,043] Trial 90 finished with value: 0.9073386416379976 and parameters: {'learning_rate': 0.0015029734431732387, 'loss': 'exponential', 'n_estimators': 567}. Best is trial 78 with value: 0.9148659538632945.\n",
      "[I 2024-04-19 05:01:00,256] Trial 91 finished with value: 0.9131507568079187 and parameters: {'learning_rate': 0.0013613072142445858, 'loss': 'exponential', 'n_estimators': 137}. Best is trial 78 with value: 0.9148659538632945.\n",
      "[I 2024-04-19 05:01:00,476] Trial 92 finished with value: 0.9132496993575565 and parameters: {'learning_rate': 0.0010048665942553243, 'loss': 'exponential', 'n_estimators': 150}. Best is trial 78 with value: 0.9148659538632945.\n",
      "[I 2024-04-19 05:01:00,659] Trial 93 finished with value: 0.9112394517534174 and parameters: {'learning_rate': 0.0017469144084454621, 'loss': 'exponential', 'n_estimators': 122}. Best is trial 78 with value: 0.9148659538632945.\n",
      "[I 2024-04-19 05:01:00,959] Trial 94 finished with value: 0.9127404803824369 and parameters: {'learning_rate': 0.0012433903549870459, 'loss': 'exponential', 'n_estimators': 200}. Best is trial 78 with value: 0.9148659538632945.\n",
      "[I 2024-04-19 05:01:01,228] Trial 95 finished with value: 0.9103068045935061 and parameters: {'learning_rate': 0.002422388855994917, 'loss': 'exponential', 'n_estimators': 179}. Best is trial 78 with value: 0.9148659538632945.\n",
      "[I 2024-04-19 05:01:01,444] Trial 96 finished with value: 0.9136383914511991 and parameters: {'learning_rate': 0.0014344567052832866, 'loss': 'exponential', 'n_estimators': 137}. Best is trial 78 with value: 0.9148659538632945.\n",
      "[I 2024-04-19 05:01:01,692] Trial 97 finished with value: 0.9113681403813367 and parameters: {'learning_rate': 0.0020655193797970706, 'loss': 'exponential', 'n_estimators': 162}. Best is trial 78 with value: 0.9148659538632945.\n",
      "[I 2024-04-19 05:01:01,876] Trial 98 finished with value: 0.9131194009692236 and parameters: {'learning_rate': 0.0015467684991906426, 'loss': 'exponential', 'n_estimators': 119}. Best is trial 78 with value: 0.9148659538632945.\n",
      "[I 2024-04-19 05:01:02,196] Trial 99 finished with value: 0.9118169882232801 and parameters: {'learning_rate': 0.0011765692272579377, 'loss': 'exponential', 'n_estimators': 208}. Best is trial 78 with value: 0.9148659538632945.\n"
     ]
    }
   ],
   "source": [
    "study.optimize(objective,n_trials=100)"
   ]
  },
  {
   "cell_type": "code",
   "execution_count": 287,
   "metadata": {},
   "outputs": [
    {
     "data": {
      "text/plain": [
       "{'learning_rate': 0.0017318756129784008,\n",
       " 'loss': 'exponential',\n",
       " 'n_estimators': 116}"
      ]
     },
     "execution_count": 287,
     "metadata": {},
     "output_type": "execute_result"
    }
   ],
   "source": [
    "study.best_params"
   ]
  },
  {
   "cell_type": "code",
   "execution_count": 289,
   "metadata": {},
   "outputs": [
    {
     "data": {
      "text/plain": [
       "0.9148659538632945"
      ]
     },
     "execution_count": 289,
     "metadata": {},
     "output_type": "execute_result"
    }
   ],
   "source": [
    "study.best_value"
   ]
  },
  {
   "cell_type": "code",
   "execution_count": null,
   "metadata": {},
   "outputs": [],
   "source": []
  }
 ],
 "metadata": {
  "kernelspec": {
   "display_name": "Python 3",
   "language": "python",
   "name": "python3"
  },
  "language_info": {
   "codemirror_mode": {
    "name": "ipython",
    "version": 3
   },
   "file_extension": ".py",
   "mimetype": "text/x-python",
   "name": "python",
   "nbconvert_exporter": "python",
   "pygments_lexer": "ipython3",
   "version": "3.11.8"
  }
 },
 "nbformat": 4,
 "nbformat_minor": 2
}
